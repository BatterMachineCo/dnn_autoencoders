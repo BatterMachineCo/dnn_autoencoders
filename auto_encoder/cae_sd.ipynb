{
 "cells": [
  {
   "cell_type": "code",
   "execution_count": null,
   "id": "syyvKq1qUt9N",
   "metadata": {
    "id": "syyvKq1qUt9N"
   },
   "outputs": [],
   "source": [
    "\"\"\"\n",
    "RUL_ML_Framework\n",
    "File Name: cae_sd.py\n",
    "\n",
    "Description: convolutional autoencoder reducing spatial dimension for statistical features.\n",
    "\n",
    "Author: junghwan lee\n",
    "\n",
    "Email: jhrrlee@gmail.com\n",
    "Date Created: 2023.10.16\n",
    "\n",
    "\"\"\""
   ]
  },
  {
   "cell_type": "code",
   "execution_count": 1,
   "id": "Ut61eBXHakfU",
   "metadata": {
    "executionInfo": {
     "elapsed": 2843,
     "status": "ok",
     "timestamp": 1695629873331,
     "user": {
      "displayName": "rory lee",
      "userId": "07120846070559746515"
     },
     "user_tz": -480
    },
    "id": "Ut61eBXHakfU"
   },
   "outputs": [
    {
     "name": "stderr",
     "output_type": "stream",
     "text": [
      "2024-09-11 21:04:13.249975: I tensorflow/core/util/port.cc:113] oneDNN custom operations are on. You may see slightly different numerical results due to floating-point round-off errors from different computation orders. To turn them off, set the environment variable `TF_ENABLE_ONEDNN_OPTS=0`.\n",
      "2024-09-11 21:04:13.563819: I tensorflow/core/platform/cpu_feature_guard.cc:210] This TensorFlow binary is optimized to use available CPU instructions in performance-critical operations.\n",
      "To enable the following instructions: AVX2 AVX_VNNI FMA, in other operations, rebuild TensorFlow with the appropriate compiler flags.\n",
      "2024-09-11 21:04:14.345218: W tensorflow/compiler/tf2tensorrt/utils/py_utils.cc:38] TF-TRT Warning: Could not find TensorRT\n"
     ]
    }
   ],
   "source": [
    "from keras.layers import Input, Conv1D, BatchNormalization, UpSampling1D, Flatten, Dense, Reshape\n",
    "from keras.models import Model\n",
    "from tensorflow.keras.initializers import HeNormal"
   ]
  },
  {
   "cell_type": "code",
   "execution_count": null,
   "id": "1cf14b1a-aa91-4196-af2a-5ee9e78477a9",
   "metadata": {},
   "outputs": [
    {
     "ename": "",
     "evalue": "",
     "output_type": "error",
     "traceback": [
      "\u001b[1;31mRunning cells with 'c:\\Users\\Admin\\AppData\\Local\\Programs\\Python\\Python312\\python.exe' requires the ipykernel package.\n",
      "\u001b[1;31mRun the following command to install 'ipykernel' into the Python environment. \n",
      "\u001b[1;31mCommand: 'c:/Users/Admin/AppData/Local/Programs/Python/Python312/python.exe -m pip install ipykernel -U --user --force-reinstall'"
     ]
    }
   ],
   "source": [
    "def create_cae_sd(no_of_features, fixed_channel_dim=1, use_bn=True, kernel_size=3, no_of_filters=128):\n",
    "    input_shape = (no_of_features, fixed_channel_dim)\n",
    "    initializer = HeNormal(seed=42)\n",
    "\n",
    "    # Encoder\n",
    "    inputs = Input(shape=input_shape)\n",
    "\n",
    "    x = Conv1D(no_of_filters, kernel_size, activation='relu', padding='same', strides=2, kernel_initializer=initializer)(inputs)\n",
    "    if use_bn:\n",
    "        x = BatchNormalization()(x)\n",
    "    x = Conv1D(no_of_filters//2, kernel_size, activation='relu', padding='same', strides=2, kernel_initializer=initializer)(x)\n",
    "    if use_bn:\n",
    "        x = BatchNormalization()(x)\n",
    "    x = Conv1D(no_of_filters//4, kernel_size, activation='relu', padding='same', strides=2, kernel_initializer=initializer)(x)\n",
    "    if use_bn:\n",
    "        x = BatchNormalization()(x)\n",
    "    x = Conv1D(no_of_filters//8, kernel_size, activation='relu', padding='same', strides=1, kernel_initializer=initializer)(x)\n",
    "    if use_bn:\n",
    "        x = BatchNormalization()(x)\n",
    "\n",
    "    encoded = Conv1D(1, 1, activation='linear', padding='same', kernel_initializer=initializer)(x)\n",
    "\n",
    "    # Decoder\n",
    "    x = UpSampling1D(2)(encoded)  # double the feature dimension\n",
    "    x = Conv1D(no_of_filters//8, kernel_size, activation='relu', padding='same', kernel_initializer=initializer)(x)\n",
    "    if use_bn:\n",
    "        x = BatchNormalization()(x)\n",
    "    x = UpSampling1D(2)(x)  # double the feature dimension\n",
    "    x = Conv1D(no_of_filters//4, kernel_size, activation='relu', padding='same', kernel_initializer=initializer)(x)\n",
    "    if use_bn:\n",
    "        x = BatchNormalization()(x)\n",
    "    x = UpSampling1D(2)(x)  # double the feature dimension\n",
    "    x = Conv1D(no_of_filters//2, kernel_size, activation='relu', padding='same', kernel_initializer=initializer)(x)\n",
    "    if use_bn:\n",
    "        x = BatchNormalization()(x)\n",
    "    x = Conv1D(no_of_filters, kernel_size, activation='relu', padding='same', kernel_initializer=initializer)(x)\n",
    "    x = Flatten()(x)\n",
    "    decoded = Dense(no_of_features * fixed_channel_dim, activation='linear')(x)\n",
    "    decoded = Reshape((no_of_features, fixed_channel_dim))(decoded)\n",
    "\n",
    "    autoencoder = Model(inputs, decoded)\n",
    "    encoder = Model(inputs, encoded)\n",
    "\n",
    "    return autoencoder, encoder\n"
   ]
  },
  {
   "cell_type": "code",
   "execution_count": null,
   "id": "8C9P6W9sVRwV",
   "metadata": {
    "id": "8C9P6W9sVRwV"
   },
   "outputs": [],
   "source": []
  }
 ],
 "metadata": {
  "accelerator": "GPU",
  "colab": {
   "gpuType": "A100",
   "machine_shape": "hm",
   "provenance": []
  },
  "kernelspec": {
   "display_name": "Python 3 (ipykernel)",
   "language": "python",
   "name": "python3"
  },
  "language_info": {
   "codemirror_mode": {
    "name": "ipython",
    "version": 3
   },
   "file_extension": ".py",
   "mimetype": "text/x-python",
   "name": "python",
   "nbconvert_exporter": "python",
   "pygments_lexer": "ipython3",
   "version": "3.11.9"
  }
 },
 "nbformat": 4,
 "nbformat_minor": 5
}
