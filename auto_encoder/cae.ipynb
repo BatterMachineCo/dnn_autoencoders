{
 "cells": [
  {
   "cell_type": "code",
   "execution_count": null,
   "id": "syyvKq1qUt9N",
   "metadata": {
    "id": "syyvKq1qUt9N"
   },
   "outputs": [],
   "source": [
    "\"\"\"\n",
    "RUL_ML_Framework\n",
    "File Name: cae_lib.py\n",
    "\n",
    "Description: convolutional autoencoder\n",
    "\n",
    "Author: junghwan lee\n",
    "\n",
    "Email: jhrrlee@gmail.com\n",
    "Date Created: 2023.09.24\n",
    "\n",
    "\"\"\""
   ]
  },
  {
   "cell_type": "code",
   "execution_count": 3,
   "id": "Ut61eBXHakfU",
   "metadata": {
    "executionInfo": {
     "elapsed": 2843,
     "status": "ok",
     "timestamp": 1695629873331,
     "user": {
      "displayName": "rory lee",
      "userId": "07120846070559746515"
     },
     "user_tz": -480
    },
    "id": "Ut61eBXHakfU"
   },
   "outputs": [],
   "source": [
    "from tensorflow.keras.initializers import HeNormal\n",
    "from tensorflow.keras.layers import Input, Conv1D, MaxPooling1D, UpSampling1D, BatchNormalization, AveragePooling1D, GlobalMaxPooling1D, Conv1DTranspose, GlobalAveragePooling1D\n",
    "from tensorflow.keras.models import Model"
   ]
  },
  {
   "cell_type": "code",
   "execution_count": 1,
   "id": "1cf14b1a-aa91-4196-af2a-5ee9e78477a9",
   "metadata": {},
   "outputs": [],
   "source": [
    "# reduce time dimension, average pooling\n",
    "def create_cae_v1(no_of_timeseries, no_of_features):\n",
    "    input_shape = (no_of_timeseries, no_of_features)\n",
    "    print(\"no_of_timeseries:\", no_of_timeseries)\n",
    "    print(\"no_of_features:\", no_of_features)\n",
    "    #input_shape = (no_of_features, no_of_timeseries)\n",
    "    initializer = HeNormal(42)\n",
    "\n",
    "    # Encoder\n",
    "    inputs = Input(shape=input_shape)\n",
    "    x = Conv1D(no_of_features, no_of_timeseries//100, activation='relu', padding='same', kernel_initializer=initializer)(inputs)\n",
    "    x = BatchNormalization()(x)\n",
    "    x = AveragePooling1D(no_of_timeseries//100, padding='same')(x) # (8, 100)\n",
    "    x = Conv1D(no_of_features, no_of_timeseries//100, activation='relu', padding='same', kernel_initializer=initializer)(x)\n",
    "    x = BatchNormalization()(x)\n",
    "    x = AveragePooling1D(no_of_timeseries//100, padding='same')(x) # (8, 10)\n",
    "    x = Conv1D(no_of_features, no_of_timeseries//100, activation='relu', padding='same', kernel_initializer=initializer)(x)\n",
    "    x = BatchNormalization()(x)\n",
    "    x = AveragePooling1D(no_of_timeseries//100, padding='same')(x) # (8, 1)\n",
    "    encoded = x\n",
    "\n",
    "    # Decoder\n",
    "    x = UpSampling1D(no_of_timeseries//100)(encoded)  # (10, 8)\n",
    "    x = Conv1D(no_of_features, no_of_timeseries//100, activation='relu', padding='same', kernel_initializer=initializer)(x)\n",
    "    x = BatchNormalization()(x)\n",
    "    x = UpSampling1D(no_of_timeseries//100)(x)  # (100, 8)\n",
    "    x = Conv1D(no_of_features, no_of_timeseries//100, activation='relu', padding='same', kernel_initializer=initializer)(x)\n",
    "    x = BatchNormalization()(x)\n",
    "    x = UpSampling1D(no_of_timeseries//100)(x)  # (1000, 8)\n",
    "    x = Conv1D(no_of_features, no_of_timeseries//100, activation='relu', padding='same', kernel_initializer=initializer)(x)\n",
    "    x = BatchNormalization()(x)\n",
    "    decoded = x\n",
    "\n",
    "    autoencoder = Model(inputs, decoded)\n",
    "    encoder = Model(inputs, encoded)\n",
    "\n",
    "    return autoencoder, encoder"
   ]
  },
  {
   "cell_type": "code",
   "execution_count": 4,
   "id": "ce3ea323-8214-40d5-9707-ebda692b5de1",
   "metadata": {},
   "outputs": [],
   "source": [
    "# reduce time dimension, max pooling\n",
    "def create_cae_v2(no_of_timeseries, no_of_features):\n",
    "    input_shape = (no_of_timeseries, no_of_features)\n",
    "    print(\"no_of_timeseries:\", no_of_timeseries)\n",
    "    print(\"no_of_features:\", no_of_features)\n",
    "    #input_shape = (no_of_features, no_of_timeseries)\n",
    "    initializer = HeNormal(42)\n",
    "\n",
    "    # Encoder\n",
    "    inputs = Input(shape=input_shape)\n",
    "    x = Conv1D(no_of_features, no_of_timeseries//100, activation='relu', padding='same', kernel_initializer=initializer)(inputs)\n",
    "    x = BatchNormalization()(x)\n",
    "    x = MaxPooling1D(no_of_timeseries//100, padding='same')(x) # (8, 100)\n",
    "    x = Conv1D(no_of_features, no_of_timeseries//100, activation='relu', padding='same', kernel_initializer=initializer)(x)\n",
    "    x = BatchNormalization()(x)\n",
    "    x = MaxPooling1D(no_of_timeseries//100, padding='same')(x) # (8, 10)\n",
    "    x = Conv1D(no_of_features, no_of_timeseries//100, activation='relu', padding='same', kernel_initializer=initializer)(x)\n",
    "    x = BatchNormalization()(x)\n",
    "    x = MaxPooling1D(no_of_timeseries//100, padding='same')(x) # (8, 1)\n",
    "    encoded = x\n",
    "\n",
    "    # Decoder\n",
    "    x = UpSampling1D(no_of_timeseries//100)(encoded)  # (10, 8)\n",
    "    x = Conv1D(no_of_features, no_of_timeseries//100, activation='relu', padding='same', kernel_initializer=initializer)(x)\n",
    "    x = BatchNormalization()(x)\n",
    "    x = UpSampling1D(no_of_timeseries//100)(x)  # (100, 8)\n",
    "    x = Conv1D(no_of_features, no_of_timeseries//100, activation='relu', padding='same', kernel_initializer=initializer)(x)\n",
    "    x = BatchNormalization()(x)\n",
    "    x = UpSampling1D(no_of_timeseries//100)(x)  # (1000, 8)\n",
    "    x = Conv1D(no_of_features, no_of_timeseries//100, activation='relu', padding='same', kernel_initializer=initializer)(x)\n",
    "    x = BatchNormalization()(x)\n",
    "    decoded = x\n",
    "\n",
    "    autoencoder = Model(inputs, decoded)\n",
    "    encoder = Model(inputs, encoded)\n",
    "\n",
    "    return autoencoder, encoder"
   ]
  },
  {
   "cell_type": "code",
   "execution_count": 5,
   "id": "DIVDVeCLvxO5",
   "metadata": {
    "executionInfo": {
     "elapsed": 5,
     "status": "ok",
     "timestamp": 1695628469085,
     "user": {
      "displayName": "rory lee",
      "userId": "07120846070559746515"
     },
     "user_tz": -480
    },
    "id": "DIVDVeCLvxO5"
   },
   "outputs": [],
   "source": [
    "def create_cae_v3(no_of_timeseries, no_of_features):\n",
    "    input_shape = (no_of_timeseries, no_of_features)\n",
    "    print(\"no_of_timeseries:\", no_of_timeseries)\n",
    "    print(\"no_of_features:\", no_of_features)\n",
    "    #input_shape = (no_of_features, no_of_timeseries)\n",
    "    initializer = HeNormal(42)\n",
    "\n",
    "    # Encoder\n",
    "    inputs = Input(shape=input_shape)\n",
    "    x = Conv1D(128, no_of_timeseries//100, activation='relu', padding='same', kernel_initializer=initializer)(inputs)\n",
    "    x = BatchNormalization()(x)\n",
    "    x = AveragePooling1D(no_of_timeseries//100, padding='same')(x) # (128, 100)\n",
    "    x = Conv1D(64, no_of_timeseries//100, activation='relu', padding='same', kernel_initializer=initializer)(x)\n",
    "    x = BatchNormalization()(x)\n",
    "    x = AveragePooling1D(no_of_timeseries//100, padding='same')(x) # (64, 10)\n",
    "    x = Conv1D(32, no_of_timeseries//100, activation='relu', padding='same', kernel_initializer=initializer)(x)\n",
    "    x = BatchNormalization()(x)\n",
    "    x = AveragePooling1D(no_of_timeseries//100, padding='same')(x) # (32, 1)\n",
    "    encoded = Conv1D(1, 1, activation='linear', padding='same', kernel_initializer=initializer)(x)  # (1, 1)\n",
    "\n",
    "    # Decoder\n",
    "    x = UpSampling1D(no_of_timeseries//100)(encoded)  # (10, 1)\n",
    "    x = Conv1D(2, no_of_timeseries//100, activation='relu', padding='same', kernel_initializer=initializer)(x)\n",
    "    x = BatchNormalization()(x)\n",
    "    x = UpSampling1D(no_of_timeseries//100)(x)  # (100, 2)\n",
    "    x = Conv1D(4, no_of_timeseries//100, activation='relu', padding='same', kernel_initializer=initializer)(x)\n",
    "    x = BatchNormalization()(x)\n",
    "    x = UpSampling1D(no_of_timeseries//100)(x)  # (1000, 4)\n",
    "    x = Conv1D(8, no_of_timeseries//100, activation='relu', padding='same', kernel_initializer=initializer)(x)\n",
    "    x = BatchNormalization()(x)\n",
    "    decoded = x\n",
    "\n",
    "    autoencoder = Model(inputs, decoded)\n",
    "    encoder = Model(inputs, encoded)\n",
    "\n",
    "    return autoencoder, encoder"
   ]
  },
  {
   "cell_type": "code",
   "execution_count": null,
   "id": "8C9P6W9sVRwV",
   "metadata": {
    "id": "8C9P6W9sVRwV"
   },
   "outputs": [],
   "source": []
  }
 ],
 "metadata": {
  "accelerator": "GPU",
  "colab": {
   "gpuType": "A100",
   "machine_shape": "hm",
   "provenance": []
  },
  "kernelspec": {
   "display_name": "Python 3 (ipykernel)",
   "language": "python",
   "name": "python3"
  },
  "language_info": {
   "codemirror_mode": {
    "name": "ipython",
    "version": 3
   },
   "file_extension": ".py",
   "mimetype": "text/x-python",
   "name": "python",
   "nbconvert_exporter": "python",
   "pygments_lexer": "ipython3",
   "version": "3.9.16"
  }
 },
 "nbformat": 4,
 "nbformat_minor": 5
}
