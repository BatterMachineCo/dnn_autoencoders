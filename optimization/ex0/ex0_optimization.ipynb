{
 "cells": [
  {
   "cell_type": "code",
   "execution_count": null,
   "id": "APnQYkydI10F",
   "metadata": {
    "id": "APnQYkydI10F"
   },
   "outputs": [],
   "source": [
    "\"\"\"\n",
    "File Name: ex6_optimization.ipynb\n",
    "\n",
    "Description: \n",
    "dataset: cycle_sum_filtered_cae_v1_t1\n",
    "\n",
    "Author: junghwan lee\n",
    "Email: jhrrlee@gmail.com\n",
    "Date Created: 2023.10.15\n"
   ]
  },
  {
   "cell_type": "code",
   "execution_count": 2,
   "id": "Fci2cAOiWoIL",
   "metadata": {
    "executionInfo": {
     "elapsed": 4343,
     "status": "ok",
     "timestamp": 1697096156396,
     "user": {
      "displayName": "rory lee",
      "userId": "07120846070559746515"
     },
     "user_tz": -480
    },
    "id": "Fci2cAOiWoIL"
   },
   "outputs": [
    {
     "name": "stderr",
     "output_type": "stream",
     "text": [
      "/mnt/d/sandbox/optimal_rul/.venv/lib/python3.10/site-packages/tqdm/auto.py:21: TqdmWarning: IProgress not found. Please update jupyter and ipywidgets. See https://ipywidgets.readthedocs.io/en/stable/user_install.html\n",
      "  from .autonotebook import tqdm as notebook_tqdm\n",
      "2025-03-04 20:29:30.505516: I tensorflow/core/util/port.cc:113] oneDNN custom operations are on. You may see slightly different numerical results due to floating-point round-off errors from different computation orders. To turn them off, set the environment variable `TF_ENABLE_ONEDNN_OPTS=0`.\n",
      "2025-03-04 20:29:30.628869: I tensorflow/core/platform/cpu_feature_guard.cc:210] This TensorFlow binary is optimized to use available CPU instructions in performance-critical operations.\n",
      "To enable the following instructions: AVX2 AVX512F AVX512_VNNI AVX512_BF16 FMA, in other operations, rebuild TensorFlow with the appropriate compiler flags.\n",
      "2025-03-04 20:29:37.228250: W tensorflow/compiler/tf2tensorrt/utils/py_utils.cc:38] TF-TRT Warning: Could not find TensorRT\n"
     ]
    }
   ],
   "source": [
    "import os\n",
    "import sys\n",
    "import numpy as np\n",
    "import importlib\n",
    "import matplotlib.pyplot as plt\n",
    "from pathlib import Path\n",
    "import xlsxwriter\n",
    "from tqdm import tqdm\n",
    "import optuna\n",
    "import pandas as pd\n",
    "import time\n",
    "import tensorflow as tf\n",
    "import tensorflow.keras as keras\n",
    "from tensorflow.keras.models import Model\n",
    "from tensorflow.keras import backend as K\n",
    "from tensorflow.keras.models import load_model\n",
    "from tensorflow.keras.optimizers import Adam\n",
    "from sklearn.metrics import mean_absolute_error, mean_squared_error\n",
    "import sqlite3\n",
    "from tqdm.keras import TqdmCallback\n",
    "from keras.callbacks import ModelCheckpoint, EarlyStopping"
   ]
  },
  {
   "cell_type": "markdown",
   "id": "thluGVAcq2tQ",
   "metadata": {
    "id": "thluGVAcq2tQ"
   },
   "source": [
    "Usage"
   ]
  },
  {
   "cell_type": "code",
   "execution_count": 4,
   "id": "078299f1-0831-44ff-8018-2b5a2b0a4aad",
   "metadata": {},
   "outputs": [],
   "source": [
    "sys.path.append('../')\n",
    "sys.path.append('../../dnn_models/')\n",
    "gen_path = Path('..')/'..'/'resource'/ 'dataset'\n",
    "\n",
    "proj_dir = \"/mnt/d/sandbox/optimal_rul\"  # Change this to your actual project path\n",
    "sys.path.append(proj_dir)\n"
   ]
  },
  {
   "cell_type": "code",
   "execution_count": 5,
   "id": "4b88d19c-457b-488c-827e-c963d8377e53",
   "metadata": {},
   "outputs": [
    {
     "data": {
      "text/plain": [
       "<module 'hype_optimizer_cbc' from '/mnt/d/sandbox/optimal_rul/optimization_v2/ex0/../hype_optimizer_cbc.py'>"
      ]
     },
     "execution_count": 5,
     "metadata": {},
     "output_type": "execute_result"
    }
   ],
   "source": [
    "import prediction_evaluation as PE\n",
    "from prediction_evaluation import VisualEvaluation\n",
    "import resnet_cbc as rsnet\n",
    "from resnet_cbc import gen_resnet152_model, gen_resnet101_model, gen_resnet50_model, gen_resnet34_model, gen_resnet18_model\n",
    "import hype_optimizer_cbc as HO\n",
    "from hype_optimizer_cbc import HypeOptimizer, HypeOptimizer_v2\n",
    "import data_distribution as DD\n",
    "importlib.reload(rsnet)\n",
    "importlib.reload(DD)\n",
    "importlib.reload(PE)\n",
    "importlib.reload(HO)"
   ]
  },
  {
   "cell_type": "code",
   "execution_count": 6,
   "id": "0f2c6cf9",
   "metadata": {},
   "outputs": [],
   "source": [
    "battery_ids  = np.load(gen_path / 'battery_ids.npy')\n",
    "eol = np.load(gen_path / 'eol_21_120.npy')\n",
    "#cycle_data = np.load(gen_path / 'interpolated_cycle_data_21_120.npy')\n",
    "new_cycle_sum = np.load(gen_path / 'new_cycle_sum_21_120.npy')"
   ]
  },
  {
   "cell_type": "code",
   "execution_count": 7,
   "id": "rMcuQmRpp5XZ",
   "metadata": {
    "colab": {
     "base_uri": "https://localhost:8080/"
    },
    "executionInfo": {
     "elapsed": 6128,
     "status": "ok",
     "timestamp": 1697096130969,
     "user": {
      "displayName": "rory lee",
      "userId": "07120846070559746515"
     },
     "user_tz": -480
    },
    "id": "rMcuQmRpp5XZ",
    "outputId": "2a0fd025-10d8-4cbc-e4b5-59b740e9204d"
   },
   "outputs": [
    {
     "name": "stdout",
     "output_type": "stream",
     "text": [
      "RUL shape: (124, 1)\n",
      "RUL_repeated shape: (124, 100)\n",
      "eol repeated shape: (124, 100)\n",
      "cycle_count shape: (124, 100)\n",
      "eol shape: (124, 1)\n",
      "cycle_count shape: (124, 100)\n",
      "new_cycle_sum shape: (124, 14, 100)\n"
     ]
    }
   ],
   "source": [
    "num_cells = eol.shape[0]\n",
    "num_cycles = new_cycle_sum.shape[2]\n",
    "\n",
    "# Repeat the EOL values for each cycle in the cycle_count array\n",
    "eol_repeated = np.tile(eol, (1, num_cycles))\n",
    "cycle_count = np.arange(1, num_cycles+1)\n",
    "# Repeat the cycle_count values for each cell in the cycle_count array\n",
    "cycle_count_repeated = np.tile(cycle_count, (num_cells, 1))\n",
    "RUL = eol - num_cycles\n",
    "RUL_repeated = eol_repeated - cycle_count_repeated\n",
    "\n",
    "print(\"RUL shape:\", RUL.shape)\n",
    "print(\"RUL_repeated shape:\", RUL_repeated.shape)\n",
    "print(\"eol repeated shape:\", eol_repeated.shape)\n",
    "print(\"cycle_count shape:\", cycle_count_repeated.shape)\n",
    "print(\"eol shape:\", eol.shape)\n",
    "print(\"cycle_count shape:\", cycle_count_repeated.shape)\n",
    "print(\"new_cycle_sum shape:\", new_cycle_sum.shape)"
   ]
  },
  {
   "cell_type": "code",
   "execution_count": 8,
   "id": "cd7c6219-6188-4b9b-b607-5a6c780d0868",
   "metadata": {},
   "outputs": [
    {
     "name": "stdout",
     "output_type": "stream",
     "text": [
      "(array([ 148.,  300.,  335.,  429.,  438.,  444.,  457.,  458.,  459.,\n",
      "        461.,  462.,  463.,  465.,  466.,  468.,  471.,  477.,  478.,\n",
      "        480.,  481.,  483.,  485.,  487.,  489.,  492.,  494.,  495.,\n",
      "        498.,  499.,  502.,  509.,  511.,  513.,  519.,  520.,  527.,\n",
      "        534.,  535.,  541.,  559.,  561.,  599.,  616.,  617.,  625.,\n",
      "        636.,  648.,  651.,  667.,  691.,  702.,  703.,  704.,  709.,\n",
      "        713.,  719.,  731.,  742.,  757.,  772.,  786.,  788.,  796.,\n",
      "        813.,  816.,  817.,  825.,  828.,  842.,  850.,  854.,  857.,\n",
      "        858.,  860.,  862.,  870.,  876.,  880.,  917.,  923.,  932.,\n",
      "        935.,  940.,  966.,  989., 1002., 1009., 1014., 1017., 1028.,\n",
      "       1039., 1048., 1051., 1054., 1063., 1074., 1078., 1093., 1115.,\n",
      "       1146., 1155., 1156., 1158., 1284., 1315., 1434., 1638., 1709.,\n",
      "       1801., 1836., 1852., 1935., 2160., 2237.]), array([1, 1, 1, 2, 1, 1, 1, 1, 1, 2, 1, 1, 1, 1, 1, 1, 1, 1, 1, 1, 1, 1,\n",
      "       2, 1, 1, 1, 1, 1, 2, 1, 1, 1, 1, 1, 1, 1, 1, 1, 1, 1, 1, 1, 1, 1,\n",
      "       1, 1, 1, 1, 1, 1, 1, 1, 1, 1, 1, 1, 2, 1, 1, 1, 1, 2, 1, 1, 1, 1,\n",
      "       1, 2, 1, 1, 1, 1, 2, 1, 1, 2, 2, 1, 1, 1, 1, 1, 1, 1, 1, 1, 1, 1,\n",
      "       1, 1, 1, 1, 1, 1, 1, 1, 1, 1, 1, 1, 1, 1, 1, 1, 1, 1, 1, 1, 1, 1,\n",
      "       1, 1, 1, 1]))\n"
     ]
    }
   ],
   "source": [
    "sorted_eol = np.sort(eol, axis=0)\n",
    "sorted_eol_values = np.unique(sorted_eol, return_counts=True)\n",
    "print(sorted_eol_values)"
   ]
  },
  {
   "cell_type": "code",
   "execution_count": 9,
   "id": "5f2316fd-9cca-4176-ba05-3b41f28890a5",
   "metadata": {},
   "outputs": [
    {
     "name": "stdout",
     "output_type": "stream",
     "text": [
      "[462.3, 487.0, 518.4, 638.4000000000001, 736.5, 828.0, 876.4, 1021.4000000000001, 1155.7]\n",
      "[-inf, 462.3, 487.0, 518.4, 638.4000000000001, 736.5, 828.0, 876.4, 1021.4000000000001, 1155.7, inf]\n"
     ]
    }
   ],
   "source": [
    "# Calculate quantile values\n",
    "quantiles = [np.percentile(sorted_eol, q=i) for i in range(10, 100, 10)]\n",
    "# Print quantiles\n",
    "print(quantiles)\n",
    "# You can use these quantiles as bin edges for stratification\n",
    "bins = [-np.inf] + quantiles + [np.inf]\n",
    "print(bins)"
   ]
  },
  {
   "cell_type": "code",
   "execution_count": 10,
   "id": "de52bfa3-1d7b-4f27-ada1-9a1f1c6dff1e",
   "metadata": {},
   "outputs": [],
   "source": [
    "def generate_bins(sorted_eol, train_percent=0.8):\n",
    "    N = len(sorted_eol)\n",
    "    min_samples = int(N / train_percent * (1 - train_percent))\n",
    "    \n",
    "    unique_values, counts = np.unique(sorted_eol, return_counts=True)\n",
    "    \n",
    "    bins = [float('-inf')]\n",
    "    running_total = 0\n",
    "\n",
    "    for val, count in zip(unique_values, counts):\n",
    "        running_total += count\n",
    "        if running_total >= min_samples:\n",
    "            bins.append(val)\n",
    "            running_total = 0\n",
    "\n",
    "    bins.append(float('inf'))\n",
    "    \n",
    "    return bins\n",
    "    "
   ]
  },
  {
   "cell_type": "code",
   "execution_count": 11,
   "id": "ad72b480-434b-4d9c-8e35-f6a0045f1e4a",
   "metadata": {},
   "outputs": [],
   "source": [
    "bins = generate_bins(sorted_eol, 0.8)"
   ]
  },
  {
   "cell_type": "code",
   "execution_count": 12,
   "id": "5577f3ac-b95c-44ad-923c-50d7549ed11b",
   "metadata": {},
   "outputs": [
    {
     "data": {
      "text/plain": [
       "[-inf, 495.0, 719.0, 923.0, 1836.0, inf]"
      ]
     },
     "execution_count": 12,
     "metadata": {},
     "output_type": "execute_result"
    }
   ],
   "source": [
    "bins"
   ]
  },
  {
   "cell_type": "code",
   "execution_count": 13,
   "id": "9n3JZAniUk08",
   "metadata": {
    "colab": {
     "base_uri": "https://localhost:8080/"
    },
    "executionInfo": {
     "elapsed": 3,
     "status": "ok",
     "timestamp": 1697096166899,
     "user": {
      "displayName": "rory lee",
      "userId": "07120846070559746515"
     },
     "user_tz": -480
    },
    "id": "9n3JZAniUk08",
    "outputId": "dc0c7366-bd53-4bda-b537-b8714e3f4eab"
   },
   "outputs": [
    {
     "name": "stdout",
     "output_type": "stream",
     "text": [
      "(9900, 14) (2500, 14) (9900, 1) (2500, 1)\n",
      "(9900, 14) (2500, 14) (9900, 1) (2500, 1)\n",
      "indices_train: [  6  55  53  90  88  82  75  33  26  19  18  96   4  99  11  74  54  79\n",
      "  22  15  12  17  36  81  69   9   0  20  48 113  86  41  56  40  57 101\n",
      "  98 107  85  51  73   1 123  21  71  34  89  92  25 109  62   2  76 112\n",
      "  61  70  59  14   7  60  43  93  50  37  52  30 118  16  64  67  97 106\n",
      " 104  78 116 122 115  49  35  80  68  65  83 119 120 114  95  13 110  10\n",
      " 100 103  63   8  44  87   3  94 121]\n",
      "indices_val: [ 77  24  32  58  38  42  28 105   5  45  27  66  91  29  47 102  72 117\n",
      "  23  31  84  39 108  46 111]\n",
      "X_scaler saved as X_scaler.pkl\n",
      "y_scaler saved as y_scaler.pkl\n"
     ]
    }
   ],
   "source": [
    "# no. of cell, no. of cycles, no. of features\n",
    "transposed_cycle_sum = np.transpose(new_cycle_sum, axes=(0, 2, 1))\n",
    "\n",
    "# split data\n",
    "(X_train,\n",
    " X_val,\n",
    " y_train,\n",
    " y_val,\n",
    " indices_train,\n",
    " indices_val) = DD.data_distribution(transposed_cycle_sum, RUL_repeated, eol_repeated, 0.8, bins)\n",
    "\n",
    "# for cycle by cycle, samples = no. of cell * no. of cycles\n",
    "X_train = X_train.reshape(-1, X_train.shape[-1])\n",
    "X_val = X_val.reshape(-1, X_val.shape[-1])\n",
    "y_train = y_train.reshape(-1, 1)\n",
    "y_val = y_val.reshape(-1, 1)\n",
    "\n",
    "# generate scalers using training data.\n",
    "X_scaler, y_scaler = DD.fit_scalers(X_train, y_train)\n",
    "X_train_norm, y_train_norm = DD.apply_normalization(X_train, y_train, X_scaler, y_scaler)\n",
    "X_val_norm, y_val_norm = DD.apply_normalization(X_val, y_val, X_scaler, y_scaler)\n",
    "\n",
    "print(X_train.shape, X_val.shape, y_train.shape, y_val.shape)\n",
    "print(X_train_norm.shape, X_val_norm.shape, y_train_norm.shape, y_val_norm.shape)\n",
    "print('indices_train:', indices_train)\n",
    "print('indices_val:', indices_val)\n",
    "DD.save_scalers(X_scaler, y_scaler)"
   ]
  },
  {
   "cell_type": "code",
   "execution_count": 14,
   "id": "rg4Qo0itqAER",
   "metadata": {
    "colab": {
     "base_uri": "https://localhost:8080/"
    },
    "executionInfo": {
     "elapsed": 3,
     "status": "ok",
     "timestamp": 1697096171639,
     "user": {
      "displayName": "rory lee",
      "userId": "07120846070559746515"
     },
     "user_tz": -480
    },
    "id": "rg4Qo0itqAER",
    "outputId": "86688b56-33b5-4081-d7f8-07773db107f9"
   },
   "outputs": [
    {
     "name": "stdout",
     "output_type": "stream",
     "text": [
      "(9900, 14, 1) (2500, 14, 1)\n"
     ]
    }
   ],
   "source": [
    "# Reshape the input data to the channel dimension\n",
    "X_train_norm = X_train_norm.reshape(X_train_norm.shape[0], X_train_norm.shape[1], 1)\n",
    "X_val_norm = X_val_norm.reshape(X_val_norm.shape[0], X_val_norm.shape[1], 1)\n",
    "\n",
    "print(X_train_norm.shape, X_val_norm.shape)"
   ]
  },
  {
   "cell_type": "code",
   "execution_count": 15,
   "id": "29ec5924",
   "metadata": {},
   "outputs": [],
   "source": [
    "from pathlib import Path  # Ensure this is imported\n",
    "\n",
    "grid_search_space = {\n",
    "    'batch_size': [1, 2, 4, 8, 16],\n",
    "    'batch_norm': [1, 0]\n",
    "}\n",
    "\n",
    "custom_objects = {\n",
    "    \"mean_absolute_percentage_error\": HO.mean_absolute_percentage_error,\n",
    "    \"root_mean_squared_error\": HO.root_mean_squared_error\n",
    "}\n",
    "\n",
    "def hype_space(trial, input_shape):\n",
    "    # Use values directly from grid_search_space\n",
    "    batch_size = trial.suggest_categorical('batch_size', grid_search_space['batch_size'])\n",
    "    batch_norm = trial.suggest_categorical('batch_norm', grid_search_space['batch_norm'])\n",
    "\n",
    "    use_bn = True if batch_norm == 1 else False  # Fix logic\n",
    "\n",
    "    model = gen_resnet34_model(\n",
    "        input_shape, \n",
    "        kernel_size=3,\n",
    "        strides=2,\n",
    "        activation='leaky_relu', \n",
    "        learning_rate=0.0001, \n",
    "        loss='mse',\n",
    "        metrics=['mean_absolute_error', 'mean_squared_error', HO.mean_absolute_percentage_error, HO.root_mean_squared_error],\n",
    "        use_bn=use_bn\n",
    "    )\n",
    "\n",
    "    return model, batch_size"
   ]
  },
  {
   "cell_type": "code",
   "execution_count": 16,
   "id": "fmLN40xLqcKg",
   "metadata": {
    "colab": {
     "base_uri": "https://localhost:8080/"
    },
    "executionInfo": {
     "elapsed": 2637,
     "status": "ok",
     "timestamp": 1697096184599,
     "user": {
      "displayName": "rory lee",
      "userId": "07120846070559746515"
     },
     "user_tz": -480
    },
    "id": "fmLN40xLqcKg",
    "outputId": "3284e5d6-c985-4328-c94b-b6e87a7e9a17"
   },
   "outputs": [
    {
     "name": "stdout",
     "output_type": "stream",
     "text": [
      "Study Folder 'training_data/resnet_34_ex0' already exists!\n",
      "DB Folder 'training_data/db' already exists!\n"
     ]
    },
    {
     "name": "stderr",
     "output_type": "stream",
     "text": [
      "[I 2025-03-04 20:29:52,567] Using an existing study with name 'resnet_34_ex0' instead of creating a new one.\n"
     ]
    }
   ],
   "source": [
    "# for test handling kernel crash\n",
    "db_name = 'resnet_34_ex0.db'\n",
    "study_name = 'resnet_34_ex0'\n",
    "n_trial = 10\n",
    "base_path = Path('./training_data/')\n",
    "\n",
    "\n",
    "sampler = optuna.samplers.GridSampler(grid_search_space)\n",
    "optimizer = HypeOptimizer_v2(sampler, hype_space, custom_objects, n_trial, base_path, db_name, study_name, direction='minimize')\n"
   ]
  },
  {
   "cell_type": "code",
   "execution_count": 25,
   "id": "wvYZtFYgqgXd",
   "metadata": {
    "colab": {
     "base_uri": "https://localhost:8080/",
     "height": 1000,
     "referenced_widgets": [
      "207198beb29048aeb11831807154925f",
      "aa1efdab224e4f499dbb23df1f456821",
      "8be9ed4517d84c87a25abbd35ffb04f4",
      "1cfdf2b99011450fa6c253ff5aca453e",
      "ec89ffe048d44d268c851f357965058f",
      "6ae4e9b103214ac08d8970dd891ea1ba",
      "9df38d6866fc447fb3db991b2da99a84",
      "7c6bdcb2c22b47f9b6d7d4286e91cb56",
      "8fd227e9332244e1ac4e7c2970adc361",
      "1c429883ce4041d1904167d005407980",
      "4488455d503348cb814ba0befe948597",
      "74110b65cb574b268a7ebc5016617576",
      "dee657cbdc614412b72d9a313320018e",
      "6e8ba76b01e346d9ab1fdb43f8573bf8",
      "eb484d148ad048e2991bd96eb85908a6",
      "bb3b7b58586c4e49afbc46fcf93a5448",
      "8fecfc379a884da0a4ab008c54c14073",
      "f0022df9a20f4d6097da7aea028d5efd",
      "0fdacd68b155404dbb6e41c74bde626b",
      "c54f269048994270b0e5fc52503a267e",
      "0484d45af73e4eb480c722efaa36e2ef",
      "dc3b2946dc3e4419ad279b66dc80dedd"
     ]
    },
    "executionInfo": {
     "elapsed": 127402,
     "status": "ok",
     "timestamp": 1697096314523,
     "user": {
      "displayName": "rory lee",
      "userId": "07120846070559746515"
     },
     "user_tz": -480
    },
    "id": "wvYZtFYgqgXd",
    "outputId": "5e2c99a9-2858-4300-d767-22971110d259"
   },
   "outputs": [
    {
     "name": "stdout",
     "output_type": "stream",
     "text": [
      "traial:  0\n",
      "epoch_file_name:  training_data/resnet_34_ex0/epoch_info/epoch_info_0.txt\n",
      "model_name:  training_data/resnet_34_ex0/models/resnet_34_ex0_0.keras\n",
      "savefile_name:  training_data/resnet_34_ex0/results/resnet_34_ex0_results_0.xlsx\n",
      "🚀 No previous model found. Initializing a new model.\n"
     ]
    },
    {
     "name": "stderr",
     "output_type": "stream",
     "text": [
      "2025-03-02 13:02:15.326107: I external/local_xla/xla/stream_executor/cuda/cuda_executor.cc:984] could not open file to read NUMA node: /sys/bus/pci/devices/0000:01:00.0/numa_node\n",
      "Your kernel may have been built without NUMA support.\n",
      "2025-03-02 13:02:15.326194: I external/local_xla/xla/stream_executor/cuda/cuda_executor.cc:984] could not open file to read NUMA node: /sys/bus/pci/devices/0000:03:00.0/numa_node\n",
      "Your kernel may have been built without NUMA support.\n",
      "2025-03-02 13:02:15.326231: I external/local_xla/xla/stream_executor/cuda/cuda_executor.cc:984] could not open file to read NUMA node: /sys/bus/pci/devices/0000:01:00.0/numa_node\n",
      "Your kernel may have been built without NUMA support.\n",
      "2025-03-02 13:02:15.326253: I external/local_xla/xla/stream_executor/cuda/cuda_executor.cc:984] could not open file to read NUMA node: /sys/bus/pci/devices/0000:03:00.0/numa_node\n",
      "Your kernel may have been built without NUMA support.\n",
      "2025-03-02 13:02:15.326272: I external/local_xla/xla/stream_executor/cuda/cuda_executor.cc:984] could not open file to read NUMA node: /sys/bus/pci/devices/0000:01:00.0/numa_node\n",
      "Your kernel may have been built without NUMA support.\n",
      "2025-03-02 13:02:15.326290: I external/local_xla/xla/stream_executor/cuda/cuda_executor.cc:984] could not open file to read NUMA node: /sys/bus/pci/devices/0000:03:00.0/numa_node\n",
      "Your kernel may have been built without NUMA support.\n",
      "2025-03-02 13:02:15.345191: I external/local_xla/xla/stream_executor/cuda/cuda_executor.cc:984] could not open file to read NUMA node: /sys/bus/pci/devices/0000:01:00.0/numa_node\n",
      "Your kernel may have been built without NUMA support.\n",
      "2025-03-02 13:02:15.345336: I external/local_xla/xla/stream_executor/cuda/cuda_executor.cc:984] could not open file to read NUMA node: /sys/bus/pci/devices/0000:03:00.0/numa_node\n",
      "Your kernel may have been built without NUMA support.\n",
      "2025-03-02 13:02:15.345377: I external/local_xla/xla/stream_executor/cuda/cuda_executor.cc:984] could not open file to read NUMA node: /sys/bus/pci/devices/0000:01:00.0/numa_node\n",
      "Your kernel may have been built without NUMA support.\n",
      "2025-03-02 13:02:15.345385: I tensorflow/core/common_runtime/gpu/gpu_device.cc:2019] Could not identify NUMA node of platform GPU id 0, defaulting to 0.  Your kernel may not have been built with NUMA support.\n",
      "2025-03-02 13:02:15.345409: I external/local_xla/xla/stream_executor/cuda/cuda_executor.cc:984] could not open file to read NUMA node: /sys/bus/pci/devices/0000:03:00.0/numa_node\n",
      "Your kernel may have been built without NUMA support.\n",
      "2025-03-02 13:02:15.345412: I tensorflow/core/common_runtime/gpu/gpu_device.cc:2019] Could not identify NUMA node of platform GPU id 1, defaulting to 0.  Your kernel may not have been built with NUMA support.\n",
      "2025-03-02 13:02:15.345449: I external/local_xla/xla/stream_executor/cuda/cuda_executor.cc:984] could not open file to read NUMA node: /sys/bus/pci/devices/0000:01:00.0/numa_node\n",
      "Your kernel may have been built without NUMA support.\n",
      "2025-03-02 13:02:15.356455: I tensorflow/core/common_runtime/gpu/gpu_device.cc:1928] Created device /job:localhost/replica:0/task:0/device:GPU:0 with 21458 MB memory:  -> device: 0, name: NVIDIA GeForce RTX 4090, pci bus id: 0000:01:00.0, compute capability: 8.9\n",
      "2025-03-02 13:02:15.360502: I external/local_xla/xla/stream_executor/cuda/cuda_executor.cc:984] could not open file to read NUMA node: /sys/bus/pci/devices/0000:03:00.0/numa_node\n",
      "Your kernel may have been built without NUMA support.\n",
      "2025-03-02 13:02:15.360530: I tensorflow/core/common_runtime/gpu/gpu_device.cc:1928] Created device /job:localhost/replica:0/task:0/device:GPU:1 with 21458 MB memory:  -> device: 1, name: NVIDIA GeForce RTX 4090, pci bus id: 0000:03:00.0, compute capability: 8.9\n"
     ]
    },
    {
     "name": "stdout",
     "output_type": "stream",
     "text": [
      "trial: <optuna.trial._trial.Trial object at 0x7f5242428ca0> training_data/resnet_34_ex0/epoch_info/epoch_info_0.txt\n"
     ]
    },
    {
     "name": "stderr",
     "output_type": "stream",
     "text": [
      "  0%|          | 0/500 [00:00<?, ?epoch/s]WARNING: All log messages before absl::InitializeLog() is called are written to STDERR\n",
      "I0000 00:00:1740888139.570713    9751 service.cc:145] XLA service 0x7f5078004880 initialized for platform CUDA (this does not guarantee that XLA will be used). Devices:\n",
      "I0000 00:00:1740888139.570757    9751 service.cc:153]   StreamExecutor device (0): NVIDIA GeForce RTX 4090, Compute Capability 8.9\n",
      "I0000 00:00:1740888139.570761    9751 service.cc:153]   StreamExecutor device (1): NVIDIA GeForce RTX 4090, Compute Capability 8.9\n",
      "2025-03-02 13:02:20.193181: I tensorflow/compiler/mlir/tensorflow/utils/dump_mlir_util.cc:268] disabling MLIR crash reproducer, set env var `MLIR_CRASH_REPRODUCER_DIRECTORY` to enable.\n",
      "2025-03-02 13:02:21.269833: I external/local_xla/xla/stream_executor/cuda/cuda_dnn.cc:465] Loaded cuDNN version 8907\n",
      "I0000 00:00:1740888145.211891    9751 device_compiler.h:188] Compiled cluster using XLA!  This line is logged at most once for the lifetime of the process.\n",
      " 18%|█▊        | 90/500 [28:53<2:11:36, 19.26s/epoch, loss=9.62e-5, mean_absolute_error=0.00676, mean_absolute_percentage_error=0.0371, mean_squared_error=9.62e-5, root_mean_squared_error=0.00839, val_loss=0.00448, val_mean_absolute_error=0.0455, val_mean_absolute_percentage_error=0.499, val_mean_squared_error=0.00448, val_root_mean_squared_error=0.0462]  \n"
     ]
    },
    {
     "name": "stdout",
     "output_type": "stream",
     "text": [
      "\u001b[1m310/310\u001b[0m \u001b[32m━━━━━━━━━━━━━━━━━━━━\u001b[0m\u001b[37m\u001b[0m \u001b[1m2s\u001b[0m 4ms/step\n",
      "Training set metrics:\n",
      "RMSE: 60.5327206450701\n",
      "MAE: 34.06535587503453\n",
      "MAPE: 0.04300072704472321\n",
      "\u001b[1m79/79\u001b[0m \u001b[32m━━━━━━━━━━━━━━━━━━━━\u001b[0m\u001b[37m\u001b[0m \u001b[1m0s\u001b[0m 4ms/step\n",
      "Validation set metrics:\n",
      "RMSE: 118.24175237141561\n",
      "MAE: 77.15064681396484\n",
      "MAPE: 0.24881876399114147\n"
     ]
    },
    {
     "name": "stderr",
     "output_type": "stream",
     "text": [
      "[I 2025-03-02 13:31:14,501] Trial 0 finished with value: 0.14590974551793234 and parameters: {'batch_size': 4, 'batch_norm': 0}. Best is trial 0 with value: 0.14590974551793234.\n"
     ]
    },
    {
     "name": "stdout",
     "output_type": "stream",
     "text": [
      "traial:  1\n",
      "epoch_file_name:  training_data/resnet_34_ex0/epoch_info/epoch_info_1.txt\n",
      "model_name:  training_data/resnet_34_ex0/models/resnet_34_ex0_1.keras\n",
      "savefile_name:  training_data/resnet_34_ex0/results/resnet_34_ex0_results_1.xlsx\n",
      "🚀 No previous model found. Initializing a new model.\n",
      "trial: <optuna.trial._trial.Trial object at 0x7f511c1f4070> training_data/resnet_34_ex0/epoch_info/epoch_info_1.txt\n"
     ]
    },
    {
     "name": "stderr",
     "output_type": "stream",
     "text": [
      " 10%|█         | 50/500 [1:13:19<10:59:53, 87.99s/epoch, loss=0.0395, mean_absolute_error=0.146, mean_absolute_percentage_error=0.907, mean_squared_error=0.0395, root_mean_squared_error=0.146, val_loss=inf, val_mean_absolute_error=3.64e+23, val_mean_absolute_percentage_error=4.62e+24, val_mean_squared_error=inf, val_root_mean_squared_error=inf] \n"
     ]
    },
    {
     "name": "stdout",
     "output_type": "stream",
     "text": [
      "\u001b[1m310/310\u001b[0m \u001b[32m━━━━━━━━━━━━━━━━━━━━\u001b[0m\u001b[37m\u001b[0m \u001b[1m2s\u001b[0m 5ms/step\n",
      "Training set metrics:\n",
      "RMSE: 8.332816065727204e+26\n",
      "MAE: 7.732146195294792e+26\n",
      "MAPE: 1.219707263353366e+24\n",
      "\u001b[1m79/79\u001b[0m \u001b[32m━━━━━━━━━━━━━━━━━━━━\u001b[0m\u001b[37m\u001b[0m \u001b[1m1s\u001b[0m 7ms/step\n",
      "Validation set metrics:\n",
      "RMSE: 8.050448474930239e+26\n",
      "MAE: 7.403032068935751e+26\n",
      "MAPE: 1.761246168316151e+24\n"
     ]
    },
    {
     "name": "stderr",
     "output_type": "stream",
     "text": [
      "[I 2025-03-02 14:44:38,098] Trial 1 finished with value: 1.4904767158347585e+24 and parameters: {'batch_size': 1, 'batch_norm': 1}. Best is trial 0 with value: 0.14590974551793234.\n"
     ]
    },
    {
     "name": "stdout",
     "output_type": "stream",
     "text": [
      "traial:  2\n",
      "epoch_file_name:  training_data/resnet_34_ex0/epoch_info/epoch_info_2.txt\n",
      "model_name:  training_data/resnet_34_ex0/models/resnet_34_ex0_2.keras\n",
      "savefile_name:  training_data/resnet_34_ex0/results/resnet_34_ex0_results_2.xlsx\n",
      "🚀 No previous model found. Initializing a new model.\n",
      "trial: <optuna.trial._trial.Trial object at 0x7f52419e4f10> training_data/resnet_34_ex0/epoch_info/epoch_info_2.txt\n"
     ]
    },
    {
     "name": "stderr",
     "output_type": "stream",
     "text": [
      " 27%|██▋       | 136/500 [13:27<36:01,  5.94s/epoch, loss=0.000782, mean_absolute_error=0.0201, mean_absolute_percentage_error=0.101, mean_squared_error=0.000782, root_mean_squared_error=0.0267, val_loss=0.0093, val_mean_absolute_error=0.0569, val_mean_absolute_percentage_error=0.485, val_mean_squared_error=0.0093, val_root_mean_squared_error=0.0598]   \n"
     ]
    },
    {
     "name": "stdout",
     "output_type": "stream",
     "text": [
      "\u001b[1m310/310\u001b[0m \u001b[32m━━━━━━━━━━━━━━━━━━━━\u001b[0m\u001b[37m\u001b[0m \u001b[1m2s\u001b[0m 5ms/step\n",
      "Training set metrics:\n",
      "RMSE: 108.91767560414277\n",
      "MAE: 80.38008338465835\n",
      "MAPE: 0.12115643550038817\n",
      "\u001b[1m79/79\u001b[0m \u001b[32m━━━━━━━━━━━━━━━━━━━━\u001b[0m\u001b[37m\u001b[0m \u001b[1m0s\u001b[0m 6ms/step\n",
      "Validation set metrics:\n",
      "RMSE: 115.87895130290909\n",
      "MAE: 90.43459625854493\n",
      "MAPE: 0.22378498285443857\n"
     ]
    },
    {
     "name": "stderr",
     "output_type": "stream",
     "text": [
      "[I 2025-03-02 14:58:11,922] Trial 2 finished with value: 0.17247070917741336 and parameters: {'batch_size': 16, 'batch_norm': 1}. Best is trial 0 with value: 0.14590974551793234.\n"
     ]
    },
    {
     "name": "stdout",
     "output_type": "stream",
     "text": [
      "traial:  3\n",
      "epoch_file_name:  training_data/resnet_34_ex0/epoch_info/epoch_info_3.txt\n",
      "model_name:  training_data/resnet_34_ex0/models/resnet_34_ex0_3.keras\n",
      "savefile_name:  training_data/resnet_34_ex0/results/resnet_34_ex0_results_3.xlsx\n",
      "🚀 No previous model found. Initializing a new model.\n",
      "trial: <optuna.trial._trial.Trial object at 0x7f5241a5cc70> training_data/resnet_34_ex0/epoch_info/epoch_info_3.txt\n"
     ]
    },
    {
     "name": "stderr",
     "output_type": "stream",
     "text": [
      " 27%|██▋       | 136/500 [10:06<27:03,  4.46s/epoch, loss=8.42e-5, mean_absolute_error=0.00609, mean_absolute_percentage_error=0.0311, mean_squared_error=8.42e-5, root_mean_squared_error=0.00844, val_loss=0.00506, val_mean_absolute_error=0.052, val_mean_absolute_percentage_error=0.578, val_mean_squared_error=0.00506, val_root_mean_squared_error=0.0541]   \n"
     ]
    },
    {
     "name": "stdout",
     "output_type": "stream",
     "text": [
      "\u001b[1m310/310\u001b[0m \u001b[32m━━━━━━━━━━━━━━━━━━━━\u001b[0m\u001b[37m\u001b[0m \u001b[1m1s\u001b[0m 3ms/step\n",
      "Training set metrics:\n",
      "RMSE: 38.40055266022267\n",
      "MAE: 25.74486658423838\n",
      "MAPE: 0.03558289544455142\n",
      "\u001b[1m79/79\u001b[0m \u001b[32m━━━━━━━━━━━━━━━━━━━━\u001b[0m\u001b[37m\u001b[0m \u001b[1m0s\u001b[0m 3ms/step\n",
      "Validation set metrics:\n",
      "RMSE: 117.43393822709969\n",
      "MAE: 85.35544247436523\n",
      "MAPE: 0.2185643353608535\n"
     ]
    },
    {
     "name": "stderr",
     "output_type": "stream",
     "text": [
      "[I 2025-03-02 15:08:23,116] Trial 3 finished with value: 0.12707361540270246 and parameters: {'batch_size': 16, 'batch_norm': 0}. Best is trial 3 with value: 0.12707361540270246.\n"
     ]
    },
    {
     "name": "stdout",
     "output_type": "stream",
     "text": [
      "traial:  4\n",
      "epoch_file_name:  training_data/resnet_34_ex0/epoch_info/epoch_info_4.txt\n",
      "model_name:  training_data/resnet_34_ex0/models/resnet_34_ex0_4.keras\n",
      "savefile_name:  training_data/resnet_34_ex0/results/resnet_34_ex0_results_4.xlsx\n",
      "🚀 No previous model found. Initializing a new model.\n",
      "trial: <optuna.trial._trial.Trial object at 0x7f5241a5cc70> training_data/resnet_34_ex0/epoch_info/epoch_info_4.txt\n"
     ]
    },
    {
     "name": "stderr",
     "output_type": "stream",
     "text": [
      " 13%|█▎        | 67/500 [1:14:36<8:02:07, 66.81s/epoch, loss=0.000149, mean_absolute_error=0.0078, mean_absolute_percentage_error=0.0428, mean_squared_error=0.000149, root_mean_squared_error=0.00796, val_loss=0.00453, val_mean_absolute_error=0.0446, val_mean_absolute_percentage_error=0.614, val_mean_squared_error=0.00453, val_root_mean_squared_error=0.0446] \n"
     ]
    },
    {
     "name": "stdout",
     "output_type": "stream",
     "text": [
      "\u001b[1m310/310\u001b[0m \u001b[32m━━━━━━━━━━━━━━━━━━━━\u001b[0m\u001b[37m\u001b[0m \u001b[1m1s\u001b[0m 3ms/step\n",
      "Training set metrics:\n",
      "RMSE: 32.87237319604112\n",
      "MAE: 24.142448238796657\n",
      "MAPE: 0.03712122296588726\n",
      "\u001b[1m79/79\u001b[0m \u001b[32m━━━━━━━━━━━━━━━━━━━━\u001b[0m\u001b[37m\u001b[0m \u001b[1m0s\u001b[0m 4ms/step\n",
      "Validation set metrics:\n",
      "RMSE: 117.6953761514081\n",
      "MAE: 76.29715909423828\n",
      "MAPE: 0.24681201725549523\n"
     ]
    },
    {
     "name": "stderr",
     "output_type": "stream",
     "text": [
      "[I 2025-03-02 16:23:04,109] Trial 4 finished with value: 0.14196662011069125 and parameters: {'batch_size': 1, 'batch_norm': 0}. Best is trial 3 with value: 0.12707361540270246.\n"
     ]
    },
    {
     "name": "stdout",
     "output_type": "stream",
     "text": [
      "traial:  5\n",
      "epoch_file_name:  training_data/resnet_34_ex0/epoch_info/epoch_info_5.txt\n",
      "model_name:  training_data/resnet_34_ex0/models/resnet_34_ex0_5.keras\n",
      "savefile_name:  training_data/resnet_34_ex0/results/resnet_34_ex0_results_5.xlsx\n",
      "🚀 No previous model found. Initializing a new model.\n",
      "trial: <optuna.trial._trial.Trial object at 0x7f50147034f0> training_data/resnet_34_ex0/epoch_info/epoch_info_5.txt\n"
     ]
    },
    {
     "name": "stderr",
     "output_type": "stream",
     "text": [
      " 11%|█         | 55/500 [29:26<3:58:12, 32.12s/epoch, loss=0.000129, mean_absolute_error=0.00805, mean_absolute_percentage_error=0.0474, mean_squared_error=0.000129, root_mean_squared_error=0.0092, val_loss=0.00423, val_mean_absolute_error=0.0441, val_mean_absolute_percentage_error=0.559, val_mean_squared_error=0.00423, val_root_mean_squared_error=0.0447] \n"
     ]
    },
    {
     "name": "stdout",
     "output_type": "stream",
     "text": [
      "\u001b[1m310/310\u001b[0m \u001b[32m━━━━━━━━━━━━━━━━━━━━\u001b[0m\u001b[37m\u001b[0m \u001b[1m1s\u001b[0m 3ms/step\n",
      "Training set metrics:\n",
      "RMSE: 128.56576385103625\n",
      "MAE: 85.56706433382901\n",
      "MAPE: 0.11407836713819189\n",
      "\u001b[1m79/79\u001b[0m \u001b[32m━━━━━━━━━━━━━━━━━━━━\u001b[0m\u001b[37m\u001b[0m \u001b[1m0s\u001b[0m 3ms/step\n",
      "Validation set metrics:\n",
      "RMSE: 110.39047501601563\n",
      "MAE: 88.8635583618164\n",
      "MAPE: 0.2499925507694585\n"
     ]
    },
    {
     "name": "stderr",
     "output_type": "stream",
     "text": [
      "[I 2025-03-02 16:52:35,550] Trial 5 finished with value: 0.1820354589538252 and parameters: {'batch_size': 2, 'batch_norm': 0}. Best is trial 3 with value: 0.12707361540270246.\n"
     ]
    },
    {
     "name": "stdout",
     "output_type": "stream",
     "text": [
      "traial:  6\n",
      "epoch_file_name:  training_data/resnet_34_ex0/epoch_info/epoch_info_6.txt\n",
      "model_name:  training_data/resnet_34_ex0/models/resnet_34_ex0_6.keras\n",
      "savefile_name:  training_data/resnet_34_ex0/results/resnet_34_ex0_results_6.xlsx\n",
      "🚀 No previous model found. Initializing a new model.\n",
      "trial: <optuna.trial._trial.Trial object at 0x7f505833b820> training_data/resnet_34_ex0/epoch_info/epoch_info_6.txt\n"
     ]
    },
    {
     "name": "stderr",
     "output_type": "stream",
     "text": [
      " 15%|█▌        | 75/500 [10:22<58:47,  8.30s/epoch, loss=0.000109, mean_absolute_error=0.00726, mean_absolute_percentage_error=0.0378, mean_squared_error=0.000109, root_mean_squared_error=0.00956, val_loss=0.00501, val_mean_absolute_error=0.0512, val_mean_absolute_percentage_error=0.552, val_mean_squared_error=0.00501, val_root_mean_squared_error=0.0525]\n"
     ]
    },
    {
     "name": "stdout",
     "output_type": "stream",
     "text": [
      "\u001b[1m310/310\u001b[0m \u001b[32m━━━━━━━━━━━━━━━━━━━━\u001b[0m\u001b[37m\u001b[0m \u001b[1m1s\u001b[0m 3ms/step\n",
      "Training set metrics:\n",
      "RMSE: 60.24407036540952\n",
      "MAE: 42.32230356389826\n",
      "MAPE: 0.054559789870859805\n",
      "\u001b[1m79/79\u001b[0m \u001b[32m━━━━━━━━━━━━━━━━━━━━\u001b[0m\u001b[37m\u001b[0m \u001b[1m0s\u001b[0m 3ms/step\n",
      "Validation set metrics:\n",
      "RMSE: 105.84032298756111\n",
      "MAE: 76.72551450195313\n",
      "MAPE: 0.21727686185984402\n"
     ]
    },
    {
     "name": "stderr",
     "output_type": "stream",
     "text": [
      "[I 2025-03-02 17:03:02,842] Trial 6 finished with value: 0.1359183258653519 and parameters: {'batch_size': 8, 'batch_norm': 0}. Best is trial 3 with value: 0.12707361540270246.\n"
     ]
    },
    {
     "name": "stdout",
     "output_type": "stream",
     "text": [
      "traial:  7\n",
      "epoch_file_name:  training_data/resnet_34_ex0/epoch_info/epoch_info_7.txt\n",
      "model_name:  training_data/resnet_34_ex0/models/resnet_34_ex0_7.keras\n",
      "savefile_name:  training_data/resnet_34_ex0/results/resnet_34_ex0_results_7.xlsx\n",
      "🚀 No previous model found. Initializing a new model.\n",
      "trial: <optuna.trial._trial.Trial object at 0x7f5074bede10> training_data/resnet_34_ex0/epoch_info/epoch_info_7.txt\n"
     ]
    },
    {
     "name": "stderr",
     "output_type": "stream",
     "text": [
      " 11%|█         | 54/500 [39:11<5:23:43, 43.55s/epoch, loss=0.0367, mean_absolute_error=0.14, mean_absolute_percentage_error=0.837, mean_squared_error=0.0367, root_mean_squared_error=0.159, val_loss=3.27e+5, val_mean_absolute_error=365, val_mean_absolute_percentage_error=2.22e+3, val_mean_squared_error=3.27e+5, val_root_mean_squared_error=377]   \n"
     ]
    },
    {
     "name": "stdout",
     "output_type": "stream",
     "text": [
      "\u001b[1m310/310\u001b[0m \u001b[32m━━━━━━━━━━━━━━━━━━━━\u001b[0m\u001b[37m\u001b[0m \u001b[1m2s\u001b[0m 5ms/step\n",
      "Training set metrics:\n",
      "RMSE: 1542.5250935598253\n",
      "MAE: 1231.1902690461309\n",
      "MAPE: 2.252867736876632\n",
      "\u001b[1m79/79\u001b[0m \u001b[32m━━━━━━━━━━━━━━━━━━━━\u001b[0m\u001b[37m\u001b[0m \u001b[1m0s\u001b[0m 6ms/step\n",
      "Validation set metrics:\n",
      "RMSE: 1877.7739877798456\n",
      "MAE: 1543.6593104391097\n",
      "MAPE: 3.6616246750372667\n"
     ]
    },
    {
     "name": "stderr",
     "output_type": "stream",
     "text": [
      "[I 2025-03-02 17:42:21,435] Trial 7 finished with value: 2.9572462059569493 and parameters: {'batch_size': 2, 'batch_norm': 1}. Best is trial 3 with value: 0.12707361540270246.\n"
     ]
    },
    {
     "name": "stdout",
     "output_type": "stream",
     "text": [
      "traial:  8\n",
      "epoch_file_name:  training_data/resnet_34_ex0/epoch_info/epoch_info_8.txt\n",
      "model_name:  training_data/resnet_34_ex0/models/resnet_34_ex0_8.keras\n",
      "savefile_name:  training_data/resnet_34_ex0/results/resnet_34_ex0_results_8.xlsx\n",
      "🚀 No previous model found. Initializing a new model.\n",
      "trial: <optuna.trial._trial.Trial object at 0x7f4fd47c4160> training_data/resnet_34_ex0/epoch_info/epoch_info_8.txt\n"
     ]
    },
    {
     "name": "stderr",
     "output_type": "stream",
     "text": [
      " 23%|██▎       | 114/500 [21:38<1:13:16, 11.39s/epoch, loss=0.00115, mean_absolute_error=0.0263, mean_absolute_percentage_error=0.164, mean_squared_error=0.00115, root_mean_squared_error=0.0323, val_loss=0.0115, val_mean_absolute_error=0.087, val_mean_absolute_percentage_error=1.26, val_mean_squared_error=0.0115, val_root_mean_squared_error=0.0892]    \n"
     ]
    },
    {
     "name": "stdout",
     "output_type": "stream",
     "text": [
      "\u001b[1m310/310\u001b[0m \u001b[32m━━━━━━━━━━━━━━━━━━━━\u001b[0m\u001b[37m\u001b[0m \u001b[1m2s\u001b[0m 5ms/step\n",
      "Training set metrics:\n",
      "RMSE: 94.53477503595188\n",
      "MAE: 77.24413320305372\n",
      "MAPE: 0.11635070965952052\n",
      "\u001b[1m79/79\u001b[0m \u001b[32m━━━━━━━━━━━━━━━━━━━━\u001b[0m\u001b[37m\u001b[0m \u001b[1m1s\u001b[0m 7ms/step\n",
      "Validation set metrics:\n",
      "RMSE: 121.12949860430844\n",
      "MAE: 84.33431016845704\n",
      "MAPE: 0.2529873042581859\n"
     ]
    },
    {
     "name": "stderr",
     "output_type": "stream",
     "text": [
      "[I 2025-03-02 18:04:07,368] Trial 8 finished with value: 0.1846690069588532 and parameters: {'batch_size': 8, 'batch_norm': 1}. Best is trial 3 with value: 0.12707361540270246.\n"
     ]
    },
    {
     "name": "stdout",
     "output_type": "stream",
     "text": [
      "traial:  9\n",
      "epoch_file_name:  training_data/resnet_34_ex0/epoch_info/epoch_info_9.txt\n",
      "model_name:  training_data/resnet_34_ex0/models/resnet_34_ex0_9.keras\n",
      "savefile_name:  training_data/resnet_34_ex0/results/resnet_34_ex0_results_9.xlsx\n",
      "🚀 No previous model found. Initializing a new model.\n",
      "trial: <optuna.trial._trial.Trial object at 0x7f50347eb910> training_data/resnet_34_ex0/epoch_info/epoch_info_9.txt\n"
     ]
    },
    {
     "name": "stderr",
     "output_type": "stream",
     "text": [
      " 29%|██▉       | 144/500 [1:24:02<3:27:45, 35.02s/epoch, loss=0.00304, mean_absolute_error=0.0411, mean_absolute_percentage_error=0.224, mean_squared_error=0.00304, root_mean_squared_error=0.0491, val_loss=4.87, val_mean_absolute_error=0.904, val_mean_absolute_percentage_error=3.22, val_mean_squared_error=4.87, val_root_mean_squared_error=0.921]         \n"
     ]
    },
    {
     "name": "stdout",
     "output_type": "stream",
     "text": [
      "\u001b[1m310/310\u001b[0m \u001b[32m━━━━━━━━━━━━━━━━━━━━\u001b[0m\u001b[37m\u001b[0m \u001b[1m3s\u001b[0m 6ms/step\n",
      "Training set metrics:\n",
      "RMSE: 154.11284855356297\n",
      "MAE: 105.36630268246236\n",
      "MAPE: 0.1708429474640636\n",
      "\u001b[1m79/79\u001b[0m \u001b[32m━━━━━━━━━━━━━━━━━━━━\u001b[0m\u001b[37m\u001b[0m \u001b[1m1s\u001b[0m 8ms/step\n",
      "Validation set metrics:\n",
      "RMSE: 150.51580948807893\n",
      "MAE: 104.85192560119629\n",
      "MAPE: 0.31552122141379213\n"
     ]
    },
    {
     "name": "stderr",
     "output_type": "stream",
     "text": [
      "[I 2025-03-02 19:28:17,370] Trial 9 finished with value: 0.24318208443892786 and parameters: {'batch_size': 4, 'batch_norm': 1}. Best is trial 3 with value: 0.12707361540270246.\n"
     ]
    },
    {
     "name": "stdout",
     "output_type": "stream",
     "text": [
      "Best Hyperparameters: {'batch_size': 16, 'batch_norm': 0}\n",
      "Best score: 0.12707361540270246\n"
     ]
    },
    {
     "data": {
      "text/html": [
       "<div>\n",
       "<style scoped>\n",
       "    .dataframe tbody tr th:only-of-type {\n",
       "        vertical-align: middle;\n",
       "    }\n",
       "\n",
       "    .dataframe tbody tr th {\n",
       "        vertical-align: top;\n",
       "    }\n",
       "\n",
       "    .dataframe thead th {\n",
       "        text-align: right;\n",
       "    }\n",
       "</style>\n",
       "<table border=\"1\" class=\"dataframe\">\n",
       "  <thead>\n",
       "    <tr style=\"text-align: right;\">\n",
       "      <th></th>\n",
       "      <th>number</th>\n",
       "      <th>MAPE</th>\n",
       "      <th>params_batch_norm</th>\n",
       "      <th>params_batch_size</th>\n",
       "      <th>state</th>\n",
       "      <th>Prediction Time (ms)</th>\n",
       "      <th>user_attrs_train_mae_rul</th>\n",
       "      <th>user_attrs_train_mape_rul</th>\n",
       "      <th>user_attrs_train_rmse_rul</th>\n",
       "      <th>user_attrs_training_time</th>\n",
       "      <th>user_attrs_val_mae_rul</th>\n",
       "      <th>user_attrs_val_mape_rul</th>\n",
       "      <th>user_attrs_val_rmse_rul</th>\n",
       "    </tr>\n",
       "  </thead>\n",
       "  <tbody>\n",
       "    <tr>\n",
       "      <th>0</th>\n",
       "      <td>0</td>\n",
       "      <td>1.459097e-01</td>\n",
       "      <td>0</td>\n",
       "      <td>4</td>\n",
       "      <td>COMPLETE</td>\n",
       "      <td>2775.305271</td>\n",
       "      <td>3.406536e+01</td>\n",
       "      <td>4.300073e-02</td>\n",
       "      <td>6.053272e+01</td>\n",
       "      <td>1733.455412</td>\n",
       "      <td>7.715065e+01</td>\n",
       "      <td>2.488188e-01</td>\n",
       "      <td>1.182418e+02</td>\n",
       "    </tr>\n",
       "    <tr>\n",
       "      <th>1</th>\n",
       "      <td>1</td>\n",
       "      <td>1.490477e+24</td>\n",
       "      <td>1</td>\n",
       "      <td>1</td>\n",
       "      <td>COMPLETE</td>\n",
       "      <td>3200.896263</td>\n",
       "      <td>7.732146e+26</td>\n",
       "      <td>1.219707e+24</td>\n",
       "      <td>8.332816e+26</td>\n",
       "      <td>4399.329757</td>\n",
       "      <td>7.403032e+26</td>\n",
       "      <td>1.761246e+24</td>\n",
       "      <td>8.050448e+26</td>\n",
       "    </tr>\n",
       "    <tr>\n",
       "      <th>2</th>\n",
       "      <td>2</td>\n",
       "      <td>1.724707e-01</td>\n",
       "      <td>1</td>\n",
       "      <td>16</td>\n",
       "      <td>COMPLETE</td>\n",
       "      <td>2909.952641</td>\n",
       "      <td>8.038008e+01</td>\n",
       "      <td>1.211564e-01</td>\n",
       "      <td>1.089177e+02</td>\n",
       "      <td>807.625724</td>\n",
       "      <td>9.043460e+01</td>\n",
       "      <td>2.237850e-01</td>\n",
       "      <td>1.158790e+02</td>\n",
       "    </tr>\n",
       "    <tr>\n",
       "      <th>3</th>\n",
       "      <td>3</td>\n",
       "      <td>1.270736e-01</td>\n",
       "      <td>0</td>\n",
       "      <td>16</td>\n",
       "      <td>COMPLETE</td>\n",
       "      <td>1707.912683</td>\n",
       "      <td>2.574487e+01</td>\n",
       "      <td>3.558290e-02</td>\n",
       "      <td>3.840055e+01</td>\n",
       "      <td>606.626238</td>\n",
       "      <td>8.535544e+01</td>\n",
       "      <td>2.185643e-01</td>\n",
       "      <td>1.174339e+02</td>\n",
       "    </tr>\n",
       "    <tr>\n",
       "      <th>4</th>\n",
       "      <td>4</td>\n",
       "      <td>1.419666e-01</td>\n",
       "      <td>0</td>\n",
       "      <td>1</td>\n",
       "      <td>COMPLETE</td>\n",
       "      <td>1793.318987</td>\n",
       "      <td>2.414245e+01</td>\n",
       "      <td>3.712122e-02</td>\n",
       "      <td>3.287237e+01</td>\n",
       "      <td>4476.129683</td>\n",
       "      <td>7.629716e+01</td>\n",
       "      <td>2.468120e-01</td>\n",
       "      <td>1.176954e+02</td>\n",
       "    </tr>\n",
       "    <tr>\n",
       "      <th>5</th>\n",
       "      <td>5</td>\n",
       "      <td>1.820355e-01</td>\n",
       "      <td>0</td>\n",
       "      <td>2</td>\n",
       "      <td>COMPLETE</td>\n",
       "      <td>1752.321005</td>\n",
       "      <td>8.556706e+01</td>\n",
       "      <td>1.140784e-01</td>\n",
       "      <td>1.285658e+02</td>\n",
       "      <td>1766.561131</td>\n",
       "      <td>8.886356e+01</td>\n",
       "      <td>2.499926e-01</td>\n",
       "      <td>1.103905e+02</td>\n",
       "    </tr>\n",
       "    <tr>\n",
       "      <th>6</th>\n",
       "      <td>6</td>\n",
       "      <td>1.359183e-01</td>\n",
       "      <td>0</td>\n",
       "      <td>8</td>\n",
       "      <td>COMPLETE</td>\n",
       "      <td>1732.304335</td>\n",
       "      <td>4.232230e+01</td>\n",
       "      <td>5.455979e-02</td>\n",
       "      <td>6.024407e+01</td>\n",
       "      <td>622.469679</td>\n",
       "      <td>7.672551e+01</td>\n",
       "      <td>2.172769e-01</td>\n",
       "      <td>1.058403e+02</td>\n",
       "    </tr>\n",
       "    <tr>\n",
       "      <th>7</th>\n",
       "      <td>7</td>\n",
       "      <td>2.957246e+00</td>\n",
       "      <td>1</td>\n",
       "      <td>2</td>\n",
       "      <td>COMPLETE</td>\n",
       "      <td>2952.186108</td>\n",
       "      <td>1.231190e+03</td>\n",
       "      <td>2.252868e+00</td>\n",
       "      <td>1.542525e+03</td>\n",
       "      <td>2351.784141</td>\n",
       "      <td>1.543659e+03</td>\n",
       "      <td>3.661625e+00</td>\n",
       "      <td>1.877774e+03</td>\n",
       "    </tr>\n",
       "    <tr>\n",
       "      <th>8</th>\n",
       "      <td>8</td>\n",
       "      <td>1.846690e-01</td>\n",
       "      <td>1</td>\n",
       "      <td>8</td>\n",
       "      <td>COMPLETE</td>\n",
       "      <td>3043.015718</td>\n",
       "      <td>7.724413e+01</td>\n",
       "      <td>1.163507e-01</td>\n",
       "      <td>9.453478e+01</td>\n",
       "      <td>1298.539398</td>\n",
       "      <td>8.433431e+01</td>\n",
       "      <td>2.529873e-01</td>\n",
       "      <td>1.211295e+02</td>\n",
       "    </tr>\n",
       "    <tr>\n",
       "      <th>9</th>\n",
       "      <td>9</td>\n",
       "      <td>2.431821e-01</td>\n",
       "      <td>1</td>\n",
       "      <td>4</td>\n",
       "      <td>COMPLETE</td>\n",
       "      <td>3284.706354</td>\n",
       "      <td>1.053663e+02</td>\n",
       "      <td>1.708429e-01</td>\n",
       "      <td>1.541128e+02</td>\n",
       "      <td>5042.270191</td>\n",
       "      <td>1.048519e+02</td>\n",
       "      <td>3.155212e-01</td>\n",
       "      <td>1.505158e+02</td>\n",
       "    </tr>\n",
       "  </tbody>\n",
       "</table>\n",
       "</div>"
      ],
      "text/plain": [
       "   number          MAPE  params_batch_norm  params_batch_size     state  \\\n",
       "0       0  1.459097e-01                  0                  4  COMPLETE   \n",
       "1       1  1.490477e+24                  1                  1  COMPLETE   \n",
       "2       2  1.724707e-01                  1                 16  COMPLETE   \n",
       "3       3  1.270736e-01                  0                 16  COMPLETE   \n",
       "4       4  1.419666e-01                  0                  1  COMPLETE   \n",
       "5       5  1.820355e-01                  0                  2  COMPLETE   \n",
       "6       6  1.359183e-01                  0                  8  COMPLETE   \n",
       "7       7  2.957246e+00                  1                  2  COMPLETE   \n",
       "8       8  1.846690e-01                  1                  8  COMPLETE   \n",
       "9       9  2.431821e-01                  1                  4  COMPLETE   \n",
       "\n",
       "   Prediction Time (ms)  user_attrs_train_mae_rul  user_attrs_train_mape_rul  \\\n",
       "0           2775.305271              3.406536e+01               4.300073e-02   \n",
       "1           3200.896263              7.732146e+26               1.219707e+24   \n",
       "2           2909.952641              8.038008e+01               1.211564e-01   \n",
       "3           1707.912683              2.574487e+01               3.558290e-02   \n",
       "4           1793.318987              2.414245e+01               3.712122e-02   \n",
       "5           1752.321005              8.556706e+01               1.140784e-01   \n",
       "6           1732.304335              4.232230e+01               5.455979e-02   \n",
       "7           2952.186108              1.231190e+03               2.252868e+00   \n",
       "8           3043.015718              7.724413e+01               1.163507e-01   \n",
       "9           3284.706354              1.053663e+02               1.708429e-01   \n",
       "\n",
       "   user_attrs_train_rmse_rul  user_attrs_training_time  \\\n",
       "0               6.053272e+01               1733.455412   \n",
       "1               8.332816e+26               4399.329757   \n",
       "2               1.089177e+02                807.625724   \n",
       "3               3.840055e+01                606.626238   \n",
       "4               3.287237e+01               4476.129683   \n",
       "5               1.285658e+02               1766.561131   \n",
       "6               6.024407e+01                622.469679   \n",
       "7               1.542525e+03               2351.784141   \n",
       "8               9.453478e+01               1298.539398   \n",
       "9               1.541128e+02               5042.270191   \n",
       "\n",
       "   user_attrs_val_mae_rul  user_attrs_val_mape_rul  user_attrs_val_rmse_rul  \n",
       "0            7.715065e+01             2.488188e-01             1.182418e+02  \n",
       "1            7.403032e+26             1.761246e+24             8.050448e+26  \n",
       "2            9.043460e+01             2.237850e-01             1.158790e+02  \n",
       "3            8.535544e+01             2.185643e-01             1.174339e+02  \n",
       "4            7.629716e+01             2.468120e-01             1.176954e+02  \n",
       "5            8.886356e+01             2.499926e-01             1.103905e+02  \n",
       "6            7.672551e+01             2.172769e-01             1.058403e+02  \n",
       "7            1.543659e+03             3.661625e+00             1.877774e+03  \n",
       "8            8.433431e+01             2.529873e-01             1.211295e+02  \n",
       "9            1.048519e+02             3.155212e-01             1.505158e+02  "
      ]
     },
     "execution_count": 25,
     "metadata": {},
     "output_type": "execute_result"
    }
   ],
   "source": [
    "optimizer.run(X_train_norm, y_train_norm, X_val_norm, y_val_norm, y_scaler, y_train, y_val, max_epoch=500, patience=50)"
   ]
  },
  {
   "cell_type": "code",
   "execution_count": 17,
   "id": "KxtaBc2krulf",
   "metadata": {
    "executionInfo": {
     "elapsed": 855,
     "status": "ok",
     "timestamp": 1697070208856,
     "user": {
      "displayName": "rory lee",
      "userId": "07120846070559746515"
     },
     "user_tz": -480
    },
    "id": "KxtaBc2krulf"
   },
   "outputs": [],
   "source": [
    "df = optimizer.get_trial_results()"
   ]
  },
  {
   "cell_type": "code",
   "execution_count": 18,
   "id": "858aaca2-f8c1-427f-be0a-4d4de7147c69",
   "metadata": {},
   "outputs": [],
   "source": [
    "df.to_csv(base_path / study_name /'trials.csv', index=False)"
   ]
  },
  {
   "cell_type": "code",
   "execution_count": 19,
   "id": "PNlT5y33ugVp",
   "metadata": {
    "colab": {
     "base_uri": "https://localhost:8080/",
     "height": 807
    },
    "executionInfo": {
     "elapsed": 6,
     "status": "ok",
     "timestamp": 1697070208857,
     "user": {
      "displayName": "rory lee",
      "userId": "07120846070559746515"
     },
     "user_tz": -480
    },
    "id": "PNlT5y33ugVp",
    "outputId": "05cdbf99-171e-4477-8f54-c1a6c606aa8d"
   },
   "outputs": [
    {
     "data": {
      "text/html": [
       "<div>\n",
       "<style scoped>\n",
       "    .dataframe tbody tr th:only-of-type {\n",
       "        vertical-align: middle;\n",
       "    }\n",
       "\n",
       "    .dataframe tbody tr th {\n",
       "        vertical-align: top;\n",
       "    }\n",
       "\n",
       "    .dataframe thead th {\n",
       "        text-align: right;\n",
       "    }\n",
       "</style>\n",
       "<table border=\"1\" class=\"dataframe\">\n",
       "  <thead>\n",
       "    <tr style=\"text-align: right;\">\n",
       "      <th></th>\n",
       "      <th>number</th>\n",
       "      <th>MAPE</th>\n",
       "      <th>params_batch_norm</th>\n",
       "      <th>params_batch_size</th>\n",
       "      <th>state</th>\n",
       "      <th>Prediction Time (ms)</th>\n",
       "      <th>user_attrs_train_mae_rul</th>\n",
       "      <th>user_attrs_train_mape_rul</th>\n",
       "      <th>user_attrs_train_rmse_rul</th>\n",
       "      <th>user_attrs_training_time</th>\n",
       "      <th>user_attrs_val_mae_rul</th>\n",
       "      <th>user_attrs_val_mape_rul</th>\n",
       "      <th>user_attrs_val_rmse_rul</th>\n",
       "    </tr>\n",
       "  </thead>\n",
       "  <tbody>\n",
       "    <tr>\n",
       "      <th>0</th>\n",
       "      <td>0</td>\n",
       "      <td>1.459097e-01</td>\n",
       "      <td>0</td>\n",
       "      <td>4</td>\n",
       "      <td>COMPLETE</td>\n",
       "      <td>2775.305271</td>\n",
       "      <td>3.406536e+01</td>\n",
       "      <td>4.300073e-02</td>\n",
       "      <td>6.053272e+01</td>\n",
       "      <td>1733.455412</td>\n",
       "      <td>7.715065e+01</td>\n",
       "      <td>2.488188e-01</td>\n",
       "      <td>1.182418e+02</td>\n",
       "    </tr>\n",
       "    <tr>\n",
       "      <th>1</th>\n",
       "      <td>1</td>\n",
       "      <td>1.490477e+24</td>\n",
       "      <td>1</td>\n",
       "      <td>1</td>\n",
       "      <td>COMPLETE</td>\n",
       "      <td>3200.896263</td>\n",
       "      <td>7.732146e+26</td>\n",
       "      <td>1.219707e+24</td>\n",
       "      <td>8.332816e+26</td>\n",
       "      <td>4399.329757</td>\n",
       "      <td>7.403032e+26</td>\n",
       "      <td>1.761246e+24</td>\n",
       "      <td>8.050448e+26</td>\n",
       "    </tr>\n",
       "    <tr>\n",
       "      <th>2</th>\n",
       "      <td>2</td>\n",
       "      <td>1.724707e-01</td>\n",
       "      <td>1</td>\n",
       "      <td>16</td>\n",
       "      <td>COMPLETE</td>\n",
       "      <td>2909.952641</td>\n",
       "      <td>8.038008e+01</td>\n",
       "      <td>1.211564e-01</td>\n",
       "      <td>1.089177e+02</td>\n",
       "      <td>807.625724</td>\n",
       "      <td>9.043460e+01</td>\n",
       "      <td>2.237850e-01</td>\n",
       "      <td>1.158790e+02</td>\n",
       "    </tr>\n",
       "    <tr>\n",
       "      <th>3</th>\n",
       "      <td>3</td>\n",
       "      <td>1.270736e-01</td>\n",
       "      <td>0</td>\n",
       "      <td>16</td>\n",
       "      <td>COMPLETE</td>\n",
       "      <td>1707.912683</td>\n",
       "      <td>2.574487e+01</td>\n",
       "      <td>3.558290e-02</td>\n",
       "      <td>3.840055e+01</td>\n",
       "      <td>606.626238</td>\n",
       "      <td>8.535544e+01</td>\n",
       "      <td>2.185643e-01</td>\n",
       "      <td>1.174339e+02</td>\n",
       "    </tr>\n",
       "    <tr>\n",
       "      <th>4</th>\n",
       "      <td>4</td>\n",
       "      <td>1.419666e-01</td>\n",
       "      <td>0</td>\n",
       "      <td>1</td>\n",
       "      <td>COMPLETE</td>\n",
       "      <td>1793.318987</td>\n",
       "      <td>2.414245e+01</td>\n",
       "      <td>3.712122e-02</td>\n",
       "      <td>3.287237e+01</td>\n",
       "      <td>4476.129683</td>\n",
       "      <td>7.629716e+01</td>\n",
       "      <td>2.468120e-01</td>\n",
       "      <td>1.176954e+02</td>\n",
       "    </tr>\n",
       "    <tr>\n",
       "      <th>5</th>\n",
       "      <td>5</td>\n",
       "      <td>1.820355e-01</td>\n",
       "      <td>0</td>\n",
       "      <td>2</td>\n",
       "      <td>COMPLETE</td>\n",
       "      <td>1752.321005</td>\n",
       "      <td>8.556706e+01</td>\n",
       "      <td>1.140784e-01</td>\n",
       "      <td>1.285658e+02</td>\n",
       "      <td>1766.561131</td>\n",
       "      <td>8.886356e+01</td>\n",
       "      <td>2.499926e-01</td>\n",
       "      <td>1.103905e+02</td>\n",
       "    </tr>\n",
       "    <tr>\n",
       "      <th>6</th>\n",
       "      <td>6</td>\n",
       "      <td>1.359183e-01</td>\n",
       "      <td>0</td>\n",
       "      <td>8</td>\n",
       "      <td>COMPLETE</td>\n",
       "      <td>1732.304335</td>\n",
       "      <td>4.232230e+01</td>\n",
       "      <td>5.455979e-02</td>\n",
       "      <td>6.024407e+01</td>\n",
       "      <td>622.469679</td>\n",
       "      <td>7.672551e+01</td>\n",
       "      <td>2.172769e-01</td>\n",
       "      <td>1.058403e+02</td>\n",
       "    </tr>\n",
       "    <tr>\n",
       "      <th>7</th>\n",
       "      <td>7</td>\n",
       "      <td>2.957246e+00</td>\n",
       "      <td>1</td>\n",
       "      <td>2</td>\n",
       "      <td>COMPLETE</td>\n",
       "      <td>2952.186108</td>\n",
       "      <td>1.231190e+03</td>\n",
       "      <td>2.252868e+00</td>\n",
       "      <td>1.542525e+03</td>\n",
       "      <td>2351.784141</td>\n",
       "      <td>1.543659e+03</td>\n",
       "      <td>3.661625e+00</td>\n",
       "      <td>1.877774e+03</td>\n",
       "    </tr>\n",
       "    <tr>\n",
       "      <th>8</th>\n",
       "      <td>8</td>\n",
       "      <td>1.846690e-01</td>\n",
       "      <td>1</td>\n",
       "      <td>8</td>\n",
       "      <td>COMPLETE</td>\n",
       "      <td>3043.015718</td>\n",
       "      <td>7.724413e+01</td>\n",
       "      <td>1.163507e-01</td>\n",
       "      <td>9.453478e+01</td>\n",
       "      <td>1298.539398</td>\n",
       "      <td>8.433431e+01</td>\n",
       "      <td>2.529873e-01</td>\n",
       "      <td>1.211295e+02</td>\n",
       "    </tr>\n",
       "    <tr>\n",
       "      <th>9</th>\n",
       "      <td>9</td>\n",
       "      <td>2.431821e-01</td>\n",
       "      <td>1</td>\n",
       "      <td>4</td>\n",
       "      <td>COMPLETE</td>\n",
       "      <td>3284.706354</td>\n",
       "      <td>1.053663e+02</td>\n",
       "      <td>1.708429e-01</td>\n",
       "      <td>1.541128e+02</td>\n",
       "      <td>5042.270191</td>\n",
       "      <td>1.048519e+02</td>\n",
       "      <td>3.155212e-01</td>\n",
       "      <td>1.505158e+02</td>\n",
       "    </tr>\n",
       "  </tbody>\n",
       "</table>\n",
       "</div>"
      ],
      "text/plain": [
       "   number          MAPE  params_batch_norm  params_batch_size     state  \\\n",
       "0       0  1.459097e-01                  0                  4  COMPLETE   \n",
       "1       1  1.490477e+24                  1                  1  COMPLETE   \n",
       "2       2  1.724707e-01                  1                 16  COMPLETE   \n",
       "3       3  1.270736e-01                  0                 16  COMPLETE   \n",
       "4       4  1.419666e-01                  0                  1  COMPLETE   \n",
       "5       5  1.820355e-01                  0                  2  COMPLETE   \n",
       "6       6  1.359183e-01                  0                  8  COMPLETE   \n",
       "7       7  2.957246e+00                  1                  2  COMPLETE   \n",
       "8       8  1.846690e-01                  1                  8  COMPLETE   \n",
       "9       9  2.431821e-01                  1                  4  COMPLETE   \n",
       "\n",
       "   Prediction Time (ms)  user_attrs_train_mae_rul  user_attrs_train_mape_rul  \\\n",
       "0           2775.305271              3.406536e+01               4.300073e-02   \n",
       "1           3200.896263              7.732146e+26               1.219707e+24   \n",
       "2           2909.952641              8.038008e+01               1.211564e-01   \n",
       "3           1707.912683              2.574487e+01               3.558290e-02   \n",
       "4           1793.318987              2.414245e+01               3.712122e-02   \n",
       "5           1752.321005              8.556706e+01               1.140784e-01   \n",
       "6           1732.304335              4.232230e+01               5.455979e-02   \n",
       "7           2952.186108              1.231190e+03               2.252868e+00   \n",
       "8           3043.015718              7.724413e+01               1.163507e-01   \n",
       "9           3284.706354              1.053663e+02               1.708429e-01   \n",
       "\n",
       "   user_attrs_train_rmse_rul  user_attrs_training_time  \\\n",
       "0               6.053272e+01               1733.455412   \n",
       "1               8.332816e+26               4399.329757   \n",
       "2               1.089177e+02                807.625724   \n",
       "3               3.840055e+01                606.626238   \n",
       "4               3.287237e+01               4476.129683   \n",
       "5               1.285658e+02               1766.561131   \n",
       "6               6.024407e+01                622.469679   \n",
       "7               1.542525e+03               2351.784141   \n",
       "8               9.453478e+01               1298.539398   \n",
       "9               1.541128e+02               5042.270191   \n",
       "\n",
       "   user_attrs_val_mae_rul  user_attrs_val_mape_rul  user_attrs_val_rmse_rul  \n",
       "0            7.715065e+01             2.488188e-01             1.182418e+02  \n",
       "1            7.403032e+26             1.761246e+24             8.050448e+26  \n",
       "2            9.043460e+01             2.237850e-01             1.158790e+02  \n",
       "3            8.535544e+01             2.185643e-01             1.174339e+02  \n",
       "4            7.629716e+01             2.468120e-01             1.176954e+02  \n",
       "5            8.886356e+01             2.499926e-01             1.103905e+02  \n",
       "6            7.672551e+01             2.172769e-01             1.058403e+02  \n",
       "7            1.543659e+03             3.661625e+00             1.877774e+03  \n",
       "8            8.433431e+01             2.529873e-01             1.211295e+02  \n",
       "9            1.048519e+02             3.155212e-01             1.505158e+02  "
      ]
     },
     "execution_count": 19,
     "metadata": {},
     "output_type": "execute_result"
    }
   ],
   "source": [
    "df"
   ]
  },
  {
   "cell_type": "code",
   "execution_count": 20,
   "id": "5nO_BmcpnY__",
   "metadata": {
    "executionInfo": {
     "elapsed": 6007,
     "status": "ok",
     "timestamp": 1697070222338,
     "user": {
      "displayName": "rory lee",
      "userId": "07120846070559746515"
     },
     "user_tz": -480
    },
    "id": "5nO_BmcpnY__"
   },
   "outputs": [
    {
     "name": "stderr",
     "output_type": "stream",
     "text": [
      "2025-03-04 20:30:00.528814: I external/local_xla/xla/stream_executor/cuda/cuda_executor.cc:984] could not open file to read NUMA node: /sys/bus/pci/devices/0000:01:00.0/numa_node\n",
      "Your kernel may have been built without NUMA support.\n",
      "2025-03-04 20:30:00.528914: I external/local_xla/xla/stream_executor/cuda/cuda_executor.cc:984] could not open file to read NUMA node: /sys/bus/pci/devices/0000:03:00.0/numa_node\n",
      "Your kernel may have been built without NUMA support.\n",
      "2025-03-04 20:30:00.528949: I external/local_xla/xla/stream_executor/cuda/cuda_executor.cc:984] could not open file to read NUMA node: /sys/bus/pci/devices/0000:01:00.0/numa_node\n",
      "Your kernel may have been built without NUMA support.\n",
      "2025-03-04 20:30:00.528970: I external/local_xla/xla/stream_executor/cuda/cuda_executor.cc:984] could not open file to read NUMA node: /sys/bus/pci/devices/0000:03:00.0/numa_node\n",
      "Your kernel may have been built without NUMA support.\n",
      "2025-03-04 20:30:00.528989: I external/local_xla/xla/stream_executor/cuda/cuda_executor.cc:984] could not open file to read NUMA node: /sys/bus/pci/devices/0000:01:00.0/numa_node\n",
      "Your kernel may have been built without NUMA support.\n",
      "2025-03-04 20:30:00.529008: I external/local_xla/xla/stream_executor/cuda/cuda_executor.cc:984] could not open file to read NUMA node: /sys/bus/pci/devices/0000:03:00.0/numa_node\n",
      "Your kernel may have been built without NUMA support.\n",
      "2025-03-04 20:30:00.541306: I external/local_xla/xla/stream_executor/cuda/cuda_executor.cc:984] could not open file to read NUMA node: /sys/bus/pci/devices/0000:01:00.0/numa_node\n",
      "Your kernel may have been built without NUMA support.\n",
      "2025-03-04 20:30:00.541456: I external/local_xla/xla/stream_executor/cuda/cuda_executor.cc:984] could not open file to read NUMA node: /sys/bus/pci/devices/0000:03:00.0/numa_node\n",
      "Your kernel may have been built without NUMA support.\n",
      "2025-03-04 20:30:00.541526: I external/local_xla/xla/stream_executor/cuda/cuda_executor.cc:984] could not open file to read NUMA node: /sys/bus/pci/devices/0000:01:00.0/numa_node\n",
      "Your kernel may have been built without NUMA support.\n",
      "2025-03-04 20:30:00.541537: I tensorflow/core/common_runtime/gpu/gpu_device.cc:2019] Could not identify NUMA node of platform GPU id 0, defaulting to 0.  Your kernel may not have been built with NUMA support.\n",
      "2025-03-04 20:30:00.541589: I external/local_xla/xla/stream_executor/cuda/cuda_executor.cc:984] could not open file to read NUMA node: /sys/bus/pci/devices/0000:03:00.0/numa_node\n",
      "Your kernel may have been built without NUMA support.\n",
      "2025-03-04 20:30:00.541598: I tensorflow/core/common_runtime/gpu/gpu_device.cc:2019] Could not identify NUMA node of platform GPU id 1, defaulting to 0.  Your kernel may not have been built with NUMA support.\n",
      "2025-03-04 20:30:00.541650: I external/local_xla/xla/stream_executor/cuda/cuda_executor.cc:984] could not open file to read NUMA node: /sys/bus/pci/devices/0000:01:00.0/numa_node\n",
      "Your kernel may have been built without NUMA support.\n",
      "2025-03-04 20:30:00.541707: I tensorflow/core/common_runtime/gpu/gpu_device.cc:1928] Created device /job:localhost/replica:0/task:0/device:GPU:0 with 21458 MB memory:  -> device: 0, name: NVIDIA GeForce RTX 4090, pci bus id: 0000:01:00.0, compute capability: 8.9\n",
      "2025-03-04 20:30:00.542880: I external/local_xla/xla/stream_executor/cuda/cuda_executor.cc:984] could not open file to read NUMA node: /sys/bus/pci/devices/0000:03:00.0/numa_node\n",
      "Your kernel may have been built without NUMA support.\n",
      "2025-03-04 20:30:00.542909: I tensorflow/core/common_runtime/gpu/gpu_device.cc:1928] Created device /job:localhost/replica:0/task:0/device:GPU:1 with 21458 MB memory:  -> device: 1, name: NVIDIA GeForce RTX 4090, pci bus id: 0000:03:00.0, compute capability: 8.9\n"
     ]
    }
   ],
   "source": [
    "trained_model = optimizer.get_trained_model(3)"
   ]
  },
  {
   "cell_type": "code",
   "execution_count": 20,
   "id": "LrzcKb5jnsgv",
   "metadata": {
    "colab": {
     "base_uri": "https://localhost:8080/"
    },
    "executionInfo": {
     "elapsed": 44,
     "status": "ok",
     "timestamp": 1697070224966,
     "user": {
      "displayName": "rory lee",
      "userId": "07120846070559746515"
     },
     "user_tz": -480
    },
    "id": "LrzcKb5jnsgv",
    "outputId": "4f502be9-8f77-41f7-ab6c-ee7e227c1fce"
   },
   "outputs": [
    {
     "name": "stdout",
     "output_type": "stream",
     "text": [
      "Model: \"model\"\n",
      "__________________________________________________________________________________________________\n",
      "Layer (type)                    Output Shape         Param #     Connected to                     \n",
      "==================================================================================================\n",
      "input_1 (InputLayer)            [(None, 14, 1)]      0                                            \n",
      "__________________________________________________________________________________________________\n",
      "conv1d (Conv1D)                 (None, 7, 64)        512         input_1[0][0]                    \n",
      "__________________________________________________________________________________________________\n",
      "activation (Activation)         (None, 7, 64)        0           conv1d[0][0]                     \n",
      "__________________________________________________________________________________________________\n",
      "max_pooling1d (MaxPooling1D)    (None, 4, 64)        0           activation[0][0]                 \n",
      "__________________________________________________________________________________________________\n",
      "conv1d_1 (Conv1D)               (None, 4, 64)        12352       max_pooling1d[0][0]              \n",
      "__________________________________________________________________________________________________\n",
      "activation_1 (Activation)       (None, 4, 64)        0           conv1d_1[0][0]                   \n",
      "__________________________________________________________________________________________________\n",
      "conv1d_2 (Conv1D)               (None, 4, 64)        12352       activation_1[0][0]               \n",
      "__________________________________________________________________________________________________\n",
      "add (Add)                       (None, 4, 64)        0           conv1d_2[0][0]                   \n",
      "                                                                 max_pooling1d[0][0]              \n",
      "__________________________________________________________________________________________________\n",
      "activation_2 (Activation)       (None, 4, 64)        0           add[0][0]                        \n",
      "__________________________________________________________________________________________________\n",
      "conv1d_3 (Conv1D)               (None, 4, 64)        12352       activation_2[0][0]               \n",
      "__________________________________________________________________________________________________\n",
      "activation_3 (Activation)       (None, 4, 64)        0           conv1d_3[0][0]                   \n",
      "__________________________________________________________________________________________________\n",
      "conv1d_4 (Conv1D)               (None, 4, 64)        12352       activation_3[0][0]               \n",
      "__________________________________________________________________________________________________\n",
      "add_1 (Add)                     (None, 4, 64)        0           conv1d_4[0][0]                   \n",
      "                                                                 activation_2[0][0]               \n",
      "__________________________________________________________________________________________________\n",
      "activation_4 (Activation)       (None, 4, 64)        0           add_1[0][0]                      \n",
      "__________________________________________________________________________________________________\n",
      "conv1d_5 (Conv1D)               (None, 4, 64)        12352       activation_4[0][0]               \n",
      "__________________________________________________________________________________________________\n",
      "activation_5 (Activation)       (None, 4, 64)        0           conv1d_5[0][0]                   \n",
      "__________________________________________________________________________________________________\n",
      "conv1d_6 (Conv1D)               (None, 4, 64)        12352       activation_5[0][0]               \n",
      "__________________________________________________________________________________________________\n",
      "add_2 (Add)                     (None, 4, 64)        0           conv1d_6[0][0]                   \n",
      "                                                                 activation_4[0][0]               \n",
      "__________________________________________________________________________________________________\n",
      "activation_6 (Activation)       (None, 4, 64)        0           add_2[0][0]                      \n",
      "__________________________________________________________________________________________________\n",
      "conv1d_7 (Conv1D)               (None, 2, 128)       24704       activation_6[0][0]               \n",
      "__________________________________________________________________________________________________\n",
      "activation_7 (Activation)       (None, 2, 128)       0           conv1d_7[0][0]                   \n",
      "__________________________________________________________________________________________________\n",
      "conv1d_8 (Conv1D)               (None, 2, 128)       49280       activation_7[0][0]               \n",
      "__________________________________________________________________________________________________\n",
      "conv1d_9 (Conv1D)               (None, 2, 128)       8320        activation_6[0][0]               \n",
      "__________________________________________________________________________________________________\n",
      "add_3 (Add)                     (None, 2, 128)       0           conv1d_8[0][0]                   \n",
      "                                                                 conv1d_9[0][0]                   \n",
      "__________________________________________________________________________________________________\n",
      "activation_8 (Activation)       (None, 2, 128)       0           add_3[0][0]                      \n",
      "__________________________________________________________________________________________________\n",
      "conv1d_10 (Conv1D)              (None, 2, 128)       49280       activation_8[0][0]               \n",
      "__________________________________________________________________________________________________\n",
      "activation_9 (Activation)       (None, 2, 128)       0           conv1d_10[0][0]                  \n",
      "__________________________________________________________________________________________________\n",
      "conv1d_11 (Conv1D)              (None, 2, 128)       49280       activation_9[0][0]               \n",
      "__________________________________________________________________________________________________\n",
      "add_4 (Add)                     (None, 2, 128)       0           conv1d_11[0][0]                  \n",
      "                                                                 activation_8[0][0]               \n",
      "__________________________________________________________________________________________________\n",
      "activation_10 (Activation)      (None, 2, 128)       0           add_4[0][0]                      \n",
      "__________________________________________________________________________________________________\n",
      "conv1d_12 (Conv1D)              (None, 2, 128)       49280       activation_10[0][0]              \n",
      "__________________________________________________________________________________________________\n",
      "activation_11 (Activation)      (None, 2, 128)       0           conv1d_12[0][0]                  \n",
      "__________________________________________________________________________________________________\n",
      "conv1d_13 (Conv1D)              (None, 2, 128)       49280       activation_11[0][0]              \n",
      "__________________________________________________________________________________________________\n",
      "add_5 (Add)                     (None, 2, 128)       0           conv1d_13[0][0]                  \n",
      "                                                                 activation_10[0][0]              \n",
      "__________________________________________________________________________________________________\n",
      "activation_12 (Activation)      (None, 2, 128)       0           add_5[0][0]                      \n",
      "__________________________________________________________________________________________________\n",
      "conv1d_14 (Conv1D)              (None, 2, 128)       49280       activation_12[0][0]              \n",
      "__________________________________________________________________________________________________\n",
      "activation_13 (Activation)      (None, 2, 128)       0           conv1d_14[0][0]                  \n",
      "__________________________________________________________________________________________________\n",
      "conv1d_15 (Conv1D)              (None, 2, 128)       49280       activation_13[0][0]              \n",
      "__________________________________________________________________________________________________\n",
      "add_6 (Add)                     (None, 2, 128)       0           conv1d_15[0][0]                  \n",
      "                                                                 activation_12[0][0]              \n",
      "__________________________________________________________________________________________________\n",
      "activation_14 (Activation)      (None, 2, 128)       0           add_6[0][0]                      \n",
      "__________________________________________________________________________________________________\n",
      "conv1d_16 (Conv1D)              (None, 1, 256)       98560       activation_14[0][0]              \n",
      "__________________________________________________________________________________________________\n",
      "activation_15 (Activation)      (None, 1, 256)       0           conv1d_16[0][0]                  \n",
      "__________________________________________________________________________________________________\n",
      "conv1d_17 (Conv1D)              (None, 1, 256)       196864      activation_15[0][0]              \n",
      "__________________________________________________________________________________________________\n",
      "conv1d_18 (Conv1D)              (None, 1, 256)       33024       activation_14[0][0]              \n",
      "__________________________________________________________________________________________________\n",
      "add_7 (Add)                     (None, 1, 256)       0           conv1d_17[0][0]                  \n",
      "                                                                 conv1d_18[0][0]                  \n",
      "__________________________________________________________________________________________________\n",
      "activation_16 (Activation)      (None, 1, 256)       0           add_7[0][0]                      \n",
      "__________________________________________________________________________________________________\n",
      "conv1d_19 (Conv1D)              (None, 1, 256)       196864      activation_16[0][0]              \n",
      "__________________________________________________________________________________________________\n",
      "activation_17 (Activation)      (None, 1, 256)       0           conv1d_19[0][0]                  \n",
      "__________________________________________________________________________________________________\n",
      "conv1d_20 (Conv1D)              (None, 1, 256)       196864      activation_17[0][0]              \n",
      "__________________________________________________________________________________________________\n",
      "add_8 (Add)                     (None, 1, 256)       0           conv1d_20[0][0]                  \n",
      "                                                                 activation_16[0][0]              \n",
      "__________________________________________________________________________________________________\n",
      "activation_18 (Activation)      (None, 1, 256)       0           add_8[0][0]                      \n",
      "__________________________________________________________________________________________________\n",
      "conv1d_21 (Conv1D)              (None, 1, 256)       196864      activation_18[0][0]              \n",
      "__________________________________________________________________________________________________\n",
      "activation_19 (Activation)      (None, 1, 256)       0           conv1d_21[0][0]                  \n",
      "__________________________________________________________________________________________________\n",
      "conv1d_22 (Conv1D)              (None, 1, 256)       196864      activation_19[0][0]              \n",
      "__________________________________________________________________________________________________\n",
      "add_9 (Add)                     (None, 1, 256)       0           conv1d_22[0][0]                  \n",
      "                                                                 activation_18[0][0]              \n",
      "__________________________________________________________________________________________________\n",
      "activation_20 (Activation)      (None, 1, 256)       0           add_9[0][0]                      \n",
      "__________________________________________________________________________________________________\n",
      "conv1d_23 (Conv1D)              (None, 1, 256)       196864      activation_20[0][0]              \n",
      "__________________________________________________________________________________________________\n",
      "activation_21 (Activation)      (None, 1, 256)       0           conv1d_23[0][0]                  \n",
      "__________________________________________________________________________________________________\n",
      "conv1d_24 (Conv1D)              (None, 1, 256)       196864      activation_21[0][0]              \n",
      "__________________________________________________________________________________________________\n",
      "add_10 (Add)                    (None, 1, 256)       0           conv1d_24[0][0]                  \n",
      "                                                                 activation_20[0][0]              \n",
      "__________________________________________________________________________________________________\n",
      "activation_22 (Activation)      (None, 1, 256)       0           add_10[0][0]                     \n",
      "__________________________________________________________________________________________________\n",
      "conv1d_25 (Conv1D)              (None, 1, 256)       196864      activation_22[0][0]              \n",
      "__________________________________________________________________________________________________\n",
      "activation_23 (Activation)      (None, 1, 256)       0           conv1d_25[0][0]                  \n",
      "__________________________________________________________________________________________________\n",
      "conv1d_26 (Conv1D)              (None, 1, 256)       196864      activation_23[0][0]              \n",
      "__________________________________________________________________________________________________\n",
      "add_11 (Add)                    (None, 1, 256)       0           conv1d_26[0][0]                  \n",
      "                                                                 activation_22[0][0]              \n",
      "__________________________________________________________________________________________________\n",
      "activation_24 (Activation)      (None, 1, 256)       0           add_11[0][0]                     \n",
      "__________________________________________________________________________________________________\n",
      "conv1d_27 (Conv1D)              (None, 1, 256)       196864      activation_24[0][0]              \n",
      "__________________________________________________________________________________________________\n",
      "activation_25 (Activation)      (None, 1, 256)       0           conv1d_27[0][0]                  \n",
      "__________________________________________________________________________________________________\n",
      "conv1d_28 (Conv1D)              (None, 1, 256)       196864      activation_25[0][0]              \n",
      "__________________________________________________________________________________________________\n",
      "add_12 (Add)                    (None, 1, 256)       0           conv1d_28[0][0]                  \n",
      "                                                                 activation_24[0][0]              \n",
      "__________________________________________________________________________________________________\n",
      "activation_26 (Activation)      (None, 1, 256)       0           add_12[0][0]                     \n",
      "__________________________________________________________________________________________________\n",
      "conv1d_29 (Conv1D)              (None, 1, 512)       393728      activation_26[0][0]              \n",
      "__________________________________________________________________________________________________\n",
      "activation_27 (Activation)      (None, 1, 512)       0           conv1d_29[0][0]                  \n",
      "__________________________________________________________________________________________________\n",
      "conv1d_30 (Conv1D)              (None, 1, 512)       786944      activation_27[0][0]              \n",
      "__________________________________________________________________________________________________\n",
      "conv1d_31 (Conv1D)              (None, 1, 512)       131584      activation_26[0][0]              \n",
      "__________________________________________________________________________________________________\n",
      "add_13 (Add)                    (None, 1, 512)       0           conv1d_30[0][0]                  \n",
      "                                                                 conv1d_31[0][0]                  \n",
      "__________________________________________________________________________________________________\n",
      "activation_28 (Activation)      (None, 1, 512)       0           add_13[0][0]                     \n",
      "__________________________________________________________________________________________________\n",
      "conv1d_32 (Conv1D)              (None, 1, 512)       786944      activation_28[0][0]              \n",
      "__________________________________________________________________________________________________\n",
      "activation_29 (Activation)      (None, 1, 512)       0           conv1d_32[0][0]                  \n",
      "__________________________________________________________________________________________________\n",
      "conv1d_33 (Conv1D)              (None, 1, 512)       786944      activation_29[0][0]              \n",
      "__________________________________________________________________________________________________\n",
      "add_14 (Add)                    (None, 1, 512)       0           conv1d_33[0][0]                  \n",
      "                                                                 activation_28[0][0]              \n",
      "__________________________________________________________________________________________________\n",
      "activation_30 (Activation)      (None, 1, 512)       0           add_14[0][0]                     \n",
      "__________________________________________________________________________________________________\n",
      "conv1d_34 (Conv1D)              (None, 1, 512)       786944      activation_30[0][0]              \n",
      "__________________________________________________________________________________________________\n",
      "activation_31 (Activation)      (None, 1, 512)       0           conv1d_34[0][0]                  \n",
      "__________________________________________________________________________________________________\n",
      "conv1d_35 (Conv1D)              (None, 1, 512)       786944      activation_31[0][0]              \n",
      "__________________________________________________________________________________________________\n",
      "add_15 (Add)                    (None, 1, 512)       0           conv1d_35[0][0]                  \n",
      "                                                                 activation_30[0][0]              \n",
      "__________________________________________________________________________________________________\n",
      "activation_32 (Activation)      (None, 1, 512)       0           add_15[0][0]                     \n",
      "__________________________________________________________________________________________________\n",
      "global_average_pooling1d (Globa (None, 512)          0           activation_32[0][0]              \n",
      "__________________________________________________________________________________________________\n",
      "rul (Dense)                     (None, 1)            513         global_average_pooling1d[0][0]   \n",
      "==================================================================================================\n",
      "Total params: 7,210,241\n",
      "Trainable params: 7,210,241\n",
      "Non-trainable params: 0\n",
      "__________________________________________________________________________________________________\n"
     ]
    }
   ],
   "source": [
    "trained_model.summary()"
   ]
  },
  {
   "cell_type": "code",
   "execution_count": null,
   "id": "S3-SODnByLup",
   "metadata": {
    "id": "S3-SODnByLup"
   },
   "outputs": [],
   "source": [
    "for layer in trained_model.layers:\n",
    "    weights = layer.get_weights()\n",
    "    print(weights)"
   ]
  },
  {
   "cell_type": "code",
   "execution_count": 21,
   "id": "3da6a7cf-3c1e-4941-8f6e-3e1f832cd571",
   "metadata": {},
   "outputs": [],
   "source": [
    "X_scaler, y_scaler = DD.load_scalers()"
   ]
  },
  {
   "cell_type": "code",
   "execution_count": 22,
   "id": "e9105dcf-b515-472e-8b78-bba1d62e1e66",
   "metadata": {},
   "outputs": [
    {
     "data": {
      "text/plain": [
       "(124, 100, 14)"
      ]
     },
     "execution_count": 22,
     "metadata": {},
     "output_type": "execute_result"
    }
   ],
   "source": [
    "transposed_cycle_sum.shape"
   ]
  },
  {
   "cell_type": "code",
   "execution_count": 23,
   "id": "P8ZNoscqpWIM",
   "metadata": {
    "executionInfo": {
     "elapsed": 609,
     "status": "ok",
     "timestamp": 1697070247744,
     "user": {
      "displayName": "rory lee",
      "userId": "07120846070559746515"
     },
     "user_tz": -480
    },
    "id": "P8ZNoscqpWIM"
   },
   "outputs": [],
   "source": [
    "reshaped_cycle_sum = transposed_cycle_sum.reshape(-1, transposed_cycle_sum.shape[-1])\n",
    "reshaped_rul = RUL_repeated.reshape(-1, 1)\n",
    "X_test_norm, y_test_norm = DD.apply_normalization(reshaped_cycle_sum, reshaped_rul, X_scaler, y_scaler)"
   ]
  },
  {
   "cell_type": "code",
   "execution_count": 24,
   "id": "T2ylyCLprnM7",
   "metadata": {
    "colab": {
     "base_uri": "https://localhost:8080/"
    },
    "executionInfo": {
     "elapsed": 7900,
     "status": "ok",
     "timestamp": 1697070266371,
     "user": {
      "displayName": "rory lee",
      "userId": "07120846070559746515"
     },
     "user_tz": -480
    },
    "id": "T2ylyCLprnM7",
    "outputId": "d6d170dc-d444-444d-d134-8a545e76d6d6"
   },
   "outputs": [
    {
     "name": "stderr",
     "output_type": "stream",
     "text": [
      "WARNING: All log messages before absl::InitializeLog() is called are written to STDERR\n",
      "I0000 00:00:1741087810.311129  282913 service.cc:145] XLA service 0x7f5aac0286a0 initialized for platform CUDA (this does not guarantee that XLA will be used). Devices:\n",
      "I0000 00:00:1741087810.311244  282913 service.cc:153]   StreamExecutor device (0): NVIDIA GeForce RTX 4090, Compute Capability 8.9\n",
      "I0000 00:00:1741087810.311248  282913 service.cc:153]   StreamExecutor device (1): NVIDIA GeForce RTX 4090, Compute Capability 8.9\n",
      "2025-03-04 20:30:10.374761: I tensorflow/compiler/mlir/tensorflow/utils/dump_mlir_util.cc:268] disabling MLIR crash reproducer, set env var `MLIR_CRASH_REPRODUCER_DIRECTORY` to enable.\n",
      "2025-03-04 20:30:10.445767: I external/local_xla/xla/stream_executor/cuda/cuda_dnn.cc:465] Loaded cuDNN version 8907\n"
     ]
    },
    {
     "name": "stdout",
     "output_type": "stream",
     "text": [
      "\u001b[1m 45/388\u001b[0m \u001b[32m━━\u001b[0m\u001b[37m━━━━━━━━━━━━━━━━━━\u001b[0m \u001b[1m1s\u001b[0m 3ms/step - loss: 0.0010 - mean_absolute_error: 0.0229 - mean_absolute_percentage_error: 0.0533 - mean_squared_error: 0.0010 - root_mean_squared_error: 0.0256        "
     ]
    },
    {
     "name": "stderr",
     "output_type": "stream",
     "text": [
      "I0000 00:00:1741087811.560685  282913 device_compiler.h:188] Compiled cluster using XLA!  This line is logged at most once for the lifetime of the process.\n"
     ]
    },
    {
     "name": "stdout",
     "output_type": "stream",
     "text": [
      "\u001b[1m388/388\u001b[0m \u001b[32m━━━━━━━━━━━━━━━━━━━━\u001b[0m\u001b[37m\u001b[0m \u001b[1m4s\u001b[0m 5ms/step - loss: 0.0011 - mean_absolute_error: 0.0209 - mean_absolute_percentage_error: 0.1351 - mean_squared_error: 0.0011 - root_mean_squared_error: 0.0232\n",
      "Loss: 0.0009547426598146558, Mean Absolute Error: 0.018547704443335533, Mean Squared Error: 0.0009547426598146558, Mean Absolute Percentage Error: 0.1285049468278885, Root Mean Squared Error: 0.02074107713997364\n"
     ]
    }
   ],
   "source": [
    "# evaluation using normalied data.\n",
    "loss, mae, mse, mape, rmse = trained_model.evaluate(X_test_norm, y_test_norm)\n",
    "print(f\"Loss: {loss}, Mean Absolute Error: {mae}, Mean Squared Error: {mse}, Mean Absolute Percentage Error: {mape}, Root Mean Squared Error: {rmse}\")"
   ]
  },
  {
   "cell_type": "code",
   "execution_count": 25,
   "id": "6n5mI9obwywL",
   "metadata": {
    "colab": {
     "base_uri": "https://localhost:8080/"
    },
    "executionInfo": {
     "elapsed": 4726,
     "status": "ok",
     "timestamp": 1697070282872,
     "user": {
      "displayName": "rory lee",
      "userId": "07120846070559746515"
     },
     "user_tz": -480
    },
    "id": "6n5mI9obwywL",
    "outputId": "7f1a7f6f-156e-46c4-f42d-3406c10e62b4"
   },
   "outputs": [
    {
     "name": "stdout",
     "output_type": "stream",
     "text": [
      "\u001b[1m388/388\u001b[0m \u001b[32m━━━━━━━━━━━━━━━━━━━━\u001b[0m\u001b[37m\u001b[0m \u001b[1m1s\u001b[0m 3ms/step\n"
     ]
    }
   ],
   "source": [
    "# unnormalized x: (, 14)\n",
    "ruls = PE.RUL_predict(trained_model, reshaped_cycle_sum, X_scaler, y_scaler)"
   ]
  },
  {
   "cell_type": "code",
   "execution_count": 26,
   "id": "MCHQfrJx2E4E",
   "metadata": {
    "colab": {
     "base_uri": "https://localhost:8080/"
    },
    "executionInfo": {
     "elapsed": 5,
     "status": "ok",
     "timestamp": 1697070304809,
     "user": {
      "displayName": "rory lee",
      "userId": "07120846070559746515"
     },
     "user_tz": -480
    },
    "id": "MCHQfrJx2E4E",
    "outputId": "8e50b162-70c6-4845-e73e-8665887552bf"
   },
   "outputs": [
    {
     "name": "stdout",
     "output_type": "stream",
     "text": [
      "[[1794]\n",
      " [1802]\n",
      " [1770]\n",
      " ...\n",
      " [1715]\n",
      " [1724]\n",
      " [1727]]\n"
     ]
    }
   ],
   "source": [
    "print(ruls)"
   ]
  },
  {
   "cell_type": "code",
   "execution_count": 27,
   "id": "aXym_kELxTI2",
   "metadata": {
    "colab": {
     "base_uri": "https://localhost:8080/"
    },
    "executionInfo": {
     "elapsed": 4,
     "status": "ok",
     "timestamp": 1697070309243,
     "user": {
      "displayName": "rory lee",
      "userId": "07120846070559746515"
     },
     "user_tz": -480
    },
    "id": "aXym_kELxTI2",
    "outputId": "53f1b45e-4fdd-409a-f4ff-cce762aaa085"
   },
   "outputs": [
    {
     "name": "stdout",
     "output_type": "stream",
     "text": [
      "MSE: 3957.3204\n",
      "RMSE: 62.9072\n",
      "MAE: 37.7614\n",
      "MAPE: 7.2469\n"
     ]
    },
    {
     "name": "stderr",
     "output_type": "stream",
     "text": [
      "/mnt/d/sandbox/optimal_rul/.venv/lib/python3.10/site-packages/sklearn/metrics/_regression.py:492: FutureWarning: 'squared' is deprecated in version 1.4 and will be removed in 1.6. To calculate the root mean squared error, use the function'root_mean_squared_error'.\n",
      "  warnings.warn(\n"
     ]
    }
   ],
   "source": [
    "results = PE.evaluate_predictions(reshaped_rul, ruls)\n",
    "for metric, value in results.items():\n",
    "    print(f\"{metric}: {value:.4f}\")"
   ]
  },
  {
   "cell_type": "markdown",
   "id": "tLQlYK8OvyG_",
   "metadata": {
    "id": "tLQlYK8OvyG_"
   },
   "source": [
    "usage of Visual evaluation"
   ]
  },
  {
   "cell_type": "code",
   "execution_count": 53,
   "id": "a77be800",
   "metadata": {},
   "outputs": [],
   "source": [
    "import prediction_evaluation\n",
    "importlib.reload(prediction_evaluation)\n",
    "from prediction_evaluation import VisualEvaluation\n"
   ]
  },
  {
   "cell_type": "code",
   "execution_count": 54,
   "id": "qUNa9dYytRBE",
   "metadata": {
    "executionInfo": {
     "elapsed": 4,
     "status": "ok",
     "timestamp": 1697077934189,
     "user": {
      "displayName": "rory lee",
      "userId": "07120846070559746515"
     },
     "user_tz": -480
    },
    "id": "qUNa9dYytRBE"
   },
   "outputs": [
    {
     "name": "stderr",
     "output_type": "stream",
     "text": [
      "/mnt/d/sandbox/optimal_rul/.venv/lib/python3.10/site-packages/sklearn/metrics/_regression.py:492: FutureWarning: 'squared' is deprecated in version 1.4 and will be removed in 1.6. To calculate the root mean squared error, use the function'root_mean_squared_error'.\n",
      "  warnings.warn(\n",
      "/mnt/d/sandbox/optimal_rul/.venv/lib/python3.10/site-packages/sklearn/metrics/_regression.py:492: FutureWarning: 'squared' is deprecated in version 1.4 and will be removed in 1.6. To calculate the root mean squared error, use the function'root_mean_squared_error'.\n",
      "  warnings.warn(\n",
      "/mnt/d/sandbox/optimal_rul/.venv/lib/python3.10/site-packages/sklearn/metrics/_regression.py:492: FutureWarning: 'squared' is deprecated in version 1.4 and will be removed in 1.6. To calculate the root mean squared error, use the function'root_mean_squared_error'.\n",
      "  warnings.warn(\n",
      "/mnt/d/sandbox/optimal_rul/.venv/lib/python3.10/site-packages/sklearn/metrics/_regression.py:492: FutureWarning: 'squared' is deprecated in version 1.4 and will be removed in 1.6. To calculate the root mean squared error, use the function'root_mean_squared_error'.\n",
      "  warnings.warn(\n",
      "/mnt/d/sandbox/optimal_rul/.venv/lib/python3.10/site-packages/sklearn/metrics/_regression.py:492: FutureWarning: 'squared' is deprecated in version 1.4 and will be removed in 1.6. To calculate the root mean squared error, use the function'root_mean_squared_error'.\n",
      "  warnings.warn(\n",
      "/mnt/d/sandbox/optimal_rul/.venv/lib/python3.10/site-packages/sklearn/metrics/_regression.py:492: FutureWarning: 'squared' is deprecated in version 1.4 and will be removed in 1.6. To calculate the root mean squared error, use the function'root_mean_squared_error'.\n",
      "  warnings.warn(\n",
      "/mnt/d/sandbox/optimal_rul/.venv/lib/python3.10/site-packages/sklearn/metrics/_regression.py:492: FutureWarning: 'squared' is deprecated in version 1.4 and will be removed in 1.6. To calculate the root mean squared error, use the function'root_mean_squared_error'.\n",
      "  warnings.warn(\n",
      "/mnt/d/sandbox/optimal_rul/.venv/lib/python3.10/site-packages/sklearn/metrics/_regression.py:492: FutureWarning: 'squared' is deprecated in version 1.4 and will be removed in 1.6. To calculate the root mean squared error, use the function'root_mean_squared_error'.\n",
      "  warnings.warn(\n",
      "/mnt/d/sandbox/optimal_rul/.venv/lib/python3.10/site-packages/sklearn/metrics/_regression.py:492: FutureWarning: 'squared' is deprecated in version 1.4 and will be removed in 1.6. To calculate the root mean squared error, use the function'root_mean_squared_error'.\n",
      "  warnings.warn(\n",
      "/mnt/d/sandbox/optimal_rul/.venv/lib/python3.10/site-packages/sklearn/metrics/_regression.py:492: FutureWarning: 'squared' is deprecated in version 1.4 and will be removed in 1.6. To calculate the root mean squared error, use the function'root_mean_squared_error'.\n",
      "  warnings.warn(\n",
      "/mnt/d/sandbox/optimal_rul/.venv/lib/python3.10/site-packages/sklearn/metrics/_regression.py:492: FutureWarning: 'squared' is deprecated in version 1.4 and will be removed in 1.6. To calculate the root mean squared error, use the function'root_mean_squared_error'.\n",
      "  warnings.warn(\n",
      "/mnt/d/sandbox/optimal_rul/.venv/lib/python3.10/site-packages/sklearn/metrics/_regression.py:492: FutureWarning: 'squared' is deprecated in version 1.4 and will be removed in 1.6. To calculate the root mean squared error, use the function'root_mean_squared_error'.\n",
      "  warnings.warn(\n",
      "/mnt/d/sandbox/optimal_rul/.venv/lib/python3.10/site-packages/sklearn/metrics/_regression.py:492: FutureWarning: 'squared' is deprecated in version 1.4 and will be removed in 1.6. To calculate the root mean squared error, use the function'root_mean_squared_error'.\n",
      "  warnings.warn(\n",
      "/mnt/d/sandbox/optimal_rul/.venv/lib/python3.10/site-packages/sklearn/metrics/_regression.py:492: FutureWarning: 'squared' is deprecated in version 1.4 and will be removed in 1.6. To calculate the root mean squared error, use the function'root_mean_squared_error'.\n",
      "  warnings.warn(\n",
      "/mnt/d/sandbox/optimal_rul/.venv/lib/python3.10/site-packages/sklearn/metrics/_regression.py:492: FutureWarning: 'squared' is deprecated in version 1.4 and will be removed in 1.6. To calculate the root mean squared error, use the function'root_mean_squared_error'.\n",
      "  warnings.warn(\n",
      "/mnt/d/sandbox/optimal_rul/.venv/lib/python3.10/site-packages/sklearn/metrics/_regression.py:492: FutureWarning: 'squared' is deprecated in version 1.4 and will be removed in 1.6. To calculate the root mean squared error, use the function'root_mean_squared_error'.\n",
      "  warnings.warn(\n",
      "/mnt/d/sandbox/optimal_rul/.venv/lib/python3.10/site-packages/sklearn/metrics/_regression.py:492: FutureWarning: 'squared' is deprecated in version 1.4 and will be removed in 1.6. To calculate the root mean squared error, use the function'root_mean_squared_error'.\n",
      "  warnings.warn(\n",
      "/mnt/d/sandbox/optimal_rul/.venv/lib/python3.10/site-packages/sklearn/metrics/_regression.py:492: FutureWarning: 'squared' is deprecated in version 1.4 and will be removed in 1.6. To calculate the root mean squared error, use the function'root_mean_squared_error'.\n",
      "  warnings.warn(\n",
      "/mnt/d/sandbox/optimal_rul/.venv/lib/python3.10/site-packages/sklearn/metrics/_regression.py:492: FutureWarning: 'squared' is deprecated in version 1.4 and will be removed in 1.6. To calculate the root mean squared error, use the function'root_mean_squared_error'.\n",
      "  warnings.warn(\n",
      "/mnt/d/sandbox/optimal_rul/.venv/lib/python3.10/site-packages/sklearn/metrics/_regression.py:492: FutureWarning: 'squared' is deprecated in version 1.4 and will be removed in 1.6. To calculate the root mean squared error, use the function'root_mean_squared_error'.\n",
      "  warnings.warn(\n",
      "/mnt/d/sandbox/optimal_rul/.venv/lib/python3.10/site-packages/sklearn/metrics/_regression.py:492: FutureWarning: 'squared' is deprecated in version 1.4 and will be removed in 1.6. To calculate the root mean squared error, use the function'root_mean_squared_error'.\n",
      "  warnings.warn(\n",
      "/mnt/d/sandbox/optimal_rul/.venv/lib/python3.10/site-packages/sklearn/metrics/_regression.py:492: FutureWarning: 'squared' is deprecated in version 1.4 and will be removed in 1.6. To calculate the root mean squared error, use the function'root_mean_squared_error'.\n",
      "  warnings.warn(\n",
      "/mnt/d/sandbox/optimal_rul/.venv/lib/python3.10/site-packages/sklearn/metrics/_regression.py:492: FutureWarning: 'squared' is deprecated in version 1.4 and will be removed in 1.6. To calculate the root mean squared error, use the function'root_mean_squared_error'.\n",
      "  warnings.warn(\n",
      "/mnt/d/sandbox/optimal_rul/.venv/lib/python3.10/site-packages/sklearn/metrics/_regression.py:492: FutureWarning: 'squared' is deprecated in version 1.4 and will be removed in 1.6. To calculate the root mean squared error, use the function'root_mean_squared_error'.\n",
      "  warnings.warn(\n",
      "/mnt/d/sandbox/optimal_rul/.venv/lib/python3.10/site-packages/sklearn/metrics/_regression.py:492: FutureWarning: 'squared' is deprecated in version 1.4 and will be removed in 1.6. To calculate the root mean squared error, use the function'root_mean_squared_error'.\n",
      "  warnings.warn(\n",
      "/mnt/d/sandbox/optimal_rul/.venv/lib/python3.10/site-packages/sklearn/metrics/_regression.py:492: FutureWarning: 'squared' is deprecated in version 1.4 and will be removed in 1.6. To calculate the root mean squared error, use the function'root_mean_squared_error'.\n",
      "  warnings.warn(\n",
      "/mnt/d/sandbox/optimal_rul/.venv/lib/python3.10/site-packages/sklearn/metrics/_regression.py:492: FutureWarning: 'squared' is deprecated in version 1.4 and will be removed in 1.6. To calculate the root mean squared error, use the function'root_mean_squared_error'.\n",
      "  warnings.warn(\n",
      "/mnt/d/sandbox/optimal_rul/.venv/lib/python3.10/site-packages/sklearn/metrics/_regression.py:492: FutureWarning: 'squared' is deprecated in version 1.4 and will be removed in 1.6. To calculate the root mean squared error, use the function'root_mean_squared_error'.\n",
      "  warnings.warn(\n",
      "/mnt/d/sandbox/optimal_rul/.venv/lib/python3.10/site-packages/sklearn/metrics/_regression.py:492: FutureWarning: 'squared' is deprecated in version 1.4 and will be removed in 1.6. To calculate the root mean squared error, use the function'root_mean_squared_error'.\n",
      "  warnings.warn(\n",
      "/mnt/d/sandbox/optimal_rul/.venv/lib/python3.10/site-packages/sklearn/metrics/_regression.py:492: FutureWarning: 'squared' is deprecated in version 1.4 and will be removed in 1.6. To calculate the root mean squared error, use the function'root_mean_squared_error'.\n",
      "  warnings.warn(\n",
      "/mnt/d/sandbox/optimal_rul/.venv/lib/python3.10/site-packages/sklearn/metrics/_regression.py:492: FutureWarning: 'squared' is deprecated in version 1.4 and will be removed in 1.6. To calculate the root mean squared error, use the function'root_mean_squared_error'.\n",
      "  warnings.warn(\n",
      "/mnt/d/sandbox/optimal_rul/.venv/lib/python3.10/site-packages/sklearn/metrics/_regression.py:492: FutureWarning: 'squared' is deprecated in version 1.4 and will be removed in 1.6. To calculate the root mean squared error, use the function'root_mean_squared_error'.\n",
      "  warnings.warn(\n",
      "/mnt/d/sandbox/optimal_rul/.venv/lib/python3.10/site-packages/sklearn/metrics/_regression.py:492: FutureWarning: 'squared' is deprecated in version 1.4 and will be removed in 1.6. To calculate the root mean squared error, use the function'root_mean_squared_error'.\n",
      "  warnings.warn(\n",
      "/mnt/d/sandbox/optimal_rul/.venv/lib/python3.10/site-packages/sklearn/metrics/_regression.py:492: FutureWarning: 'squared' is deprecated in version 1.4 and will be removed in 1.6. To calculate the root mean squared error, use the function'root_mean_squared_error'.\n",
      "  warnings.warn(\n",
      "/mnt/d/sandbox/optimal_rul/.venv/lib/python3.10/site-packages/sklearn/metrics/_regression.py:492: FutureWarning: 'squared' is deprecated in version 1.4 and will be removed in 1.6. To calculate the root mean squared error, use the function'root_mean_squared_error'.\n",
      "  warnings.warn(\n",
      "/mnt/d/sandbox/optimal_rul/.venv/lib/python3.10/site-packages/sklearn/metrics/_regression.py:492: FutureWarning: 'squared' is deprecated in version 1.4 and will be removed in 1.6. To calculate the root mean squared error, use the function'root_mean_squared_error'.\n",
      "  warnings.warn(\n",
      "/mnt/d/sandbox/optimal_rul/.venv/lib/python3.10/site-packages/sklearn/metrics/_regression.py:492: FutureWarning: 'squared' is deprecated in version 1.4 and will be removed in 1.6. To calculate the root mean squared error, use the function'root_mean_squared_error'.\n",
      "  warnings.warn(\n",
      "/mnt/d/sandbox/optimal_rul/.venv/lib/python3.10/site-packages/sklearn/metrics/_regression.py:492: FutureWarning: 'squared' is deprecated in version 1.4 and will be removed in 1.6. To calculate the root mean squared error, use the function'root_mean_squared_error'.\n",
      "  warnings.warn(\n",
      "/mnt/d/sandbox/optimal_rul/.venv/lib/python3.10/site-packages/sklearn/metrics/_regression.py:492: FutureWarning: 'squared' is deprecated in version 1.4 and will be removed in 1.6. To calculate the root mean squared error, use the function'root_mean_squared_error'.\n",
      "  warnings.warn(\n",
      "/mnt/d/sandbox/optimal_rul/.venv/lib/python3.10/site-packages/sklearn/metrics/_regression.py:492: FutureWarning: 'squared' is deprecated in version 1.4 and will be removed in 1.6. To calculate the root mean squared error, use the function'root_mean_squared_error'.\n",
      "  warnings.warn(\n",
      "/mnt/d/sandbox/optimal_rul/.venv/lib/python3.10/site-packages/sklearn/metrics/_regression.py:492: FutureWarning: 'squared' is deprecated in version 1.4 and will be removed in 1.6. To calculate the root mean squared error, use the function'root_mean_squared_error'.\n",
      "  warnings.warn(\n",
      "/mnt/d/sandbox/optimal_rul/.venv/lib/python3.10/site-packages/sklearn/metrics/_regression.py:492: FutureWarning: 'squared' is deprecated in version 1.4 and will be removed in 1.6. To calculate the root mean squared error, use the function'root_mean_squared_error'.\n",
      "  warnings.warn(\n",
      "/mnt/d/sandbox/optimal_rul/.venv/lib/python3.10/site-packages/sklearn/metrics/_regression.py:492: FutureWarning: 'squared' is deprecated in version 1.4 and will be removed in 1.6. To calculate the root mean squared error, use the function'root_mean_squared_error'.\n",
      "  warnings.warn(\n",
      "/mnt/d/sandbox/optimal_rul/.venv/lib/python3.10/site-packages/sklearn/metrics/_regression.py:492: FutureWarning: 'squared' is deprecated in version 1.4 and will be removed in 1.6. To calculate the root mean squared error, use the function'root_mean_squared_error'.\n",
      "  warnings.warn(\n",
      "/mnt/d/sandbox/optimal_rul/.venv/lib/python3.10/site-packages/sklearn/metrics/_regression.py:492: FutureWarning: 'squared' is deprecated in version 1.4 and will be removed in 1.6. To calculate the root mean squared error, use the function'root_mean_squared_error'.\n",
      "  warnings.warn(\n",
      "/mnt/d/sandbox/optimal_rul/.venv/lib/python3.10/site-packages/sklearn/metrics/_regression.py:492: FutureWarning: 'squared' is deprecated in version 1.4 and will be removed in 1.6. To calculate the root mean squared error, use the function'root_mean_squared_error'.\n",
      "  warnings.warn(\n",
      "/mnt/d/sandbox/optimal_rul/.venv/lib/python3.10/site-packages/sklearn/metrics/_regression.py:492: FutureWarning: 'squared' is deprecated in version 1.4 and will be removed in 1.6. To calculate the root mean squared error, use the function'root_mean_squared_error'.\n",
      "  warnings.warn(\n",
      "/mnt/d/sandbox/optimal_rul/.venv/lib/python3.10/site-packages/sklearn/metrics/_regression.py:492: FutureWarning: 'squared' is deprecated in version 1.4 and will be removed in 1.6. To calculate the root mean squared error, use the function'root_mean_squared_error'.\n",
      "  warnings.warn(\n",
      "/mnt/d/sandbox/optimal_rul/.venv/lib/python3.10/site-packages/sklearn/metrics/_regression.py:492: FutureWarning: 'squared' is deprecated in version 1.4 and will be removed in 1.6. To calculate the root mean squared error, use the function'root_mean_squared_error'.\n",
      "  warnings.warn(\n",
      "/mnt/d/sandbox/optimal_rul/.venv/lib/python3.10/site-packages/sklearn/metrics/_regression.py:492: FutureWarning: 'squared' is deprecated in version 1.4 and will be removed in 1.6. To calculate the root mean squared error, use the function'root_mean_squared_error'.\n",
      "  warnings.warn(\n",
      "/mnt/d/sandbox/optimal_rul/.venv/lib/python3.10/site-packages/sklearn/metrics/_regression.py:492: FutureWarning: 'squared' is deprecated in version 1.4 and will be removed in 1.6. To calculate the root mean squared error, use the function'root_mean_squared_error'.\n",
      "  warnings.warn(\n",
      "/mnt/d/sandbox/optimal_rul/.venv/lib/python3.10/site-packages/sklearn/metrics/_regression.py:492: FutureWarning: 'squared' is deprecated in version 1.4 and will be removed in 1.6. To calculate the root mean squared error, use the function'root_mean_squared_error'.\n",
      "  warnings.warn(\n",
      "/mnt/d/sandbox/optimal_rul/.venv/lib/python3.10/site-packages/sklearn/metrics/_regression.py:492: FutureWarning: 'squared' is deprecated in version 1.4 and will be removed in 1.6. To calculate the root mean squared error, use the function'root_mean_squared_error'.\n",
      "  warnings.warn(\n",
      "/mnt/d/sandbox/optimal_rul/.venv/lib/python3.10/site-packages/sklearn/metrics/_regression.py:492: FutureWarning: 'squared' is deprecated in version 1.4 and will be removed in 1.6. To calculate the root mean squared error, use the function'root_mean_squared_error'.\n",
      "  warnings.warn(\n",
      "/mnt/d/sandbox/optimal_rul/.venv/lib/python3.10/site-packages/sklearn/metrics/_regression.py:492: FutureWarning: 'squared' is deprecated in version 1.4 and will be removed in 1.6. To calculate the root mean squared error, use the function'root_mean_squared_error'.\n",
      "  warnings.warn(\n",
      "/mnt/d/sandbox/optimal_rul/.venv/lib/python3.10/site-packages/sklearn/metrics/_regression.py:492: FutureWarning: 'squared' is deprecated in version 1.4 and will be removed in 1.6. To calculate the root mean squared error, use the function'root_mean_squared_error'.\n",
      "  warnings.warn(\n",
      "/mnt/d/sandbox/optimal_rul/.venv/lib/python3.10/site-packages/sklearn/metrics/_regression.py:492: FutureWarning: 'squared' is deprecated in version 1.4 and will be removed in 1.6. To calculate the root mean squared error, use the function'root_mean_squared_error'.\n",
      "  warnings.warn(\n",
      "/mnt/d/sandbox/optimal_rul/.venv/lib/python3.10/site-packages/sklearn/metrics/_regression.py:492: FutureWarning: 'squared' is deprecated in version 1.4 and will be removed in 1.6. To calculate the root mean squared error, use the function'root_mean_squared_error'.\n",
      "  warnings.warn(\n",
      "/mnt/d/sandbox/optimal_rul/.venv/lib/python3.10/site-packages/sklearn/metrics/_regression.py:492: FutureWarning: 'squared' is deprecated in version 1.4 and will be removed in 1.6. To calculate the root mean squared error, use the function'root_mean_squared_error'.\n",
      "  warnings.warn(\n",
      "/mnt/d/sandbox/optimal_rul/.venv/lib/python3.10/site-packages/sklearn/metrics/_regression.py:492: FutureWarning: 'squared' is deprecated in version 1.4 and will be removed in 1.6. To calculate the root mean squared error, use the function'root_mean_squared_error'.\n",
      "  warnings.warn(\n",
      "/mnt/d/sandbox/optimal_rul/.venv/lib/python3.10/site-packages/sklearn/metrics/_regression.py:492: FutureWarning: 'squared' is deprecated in version 1.4 and will be removed in 1.6. To calculate the root mean squared error, use the function'root_mean_squared_error'.\n",
      "  warnings.warn(\n",
      "/mnt/d/sandbox/optimal_rul/.venv/lib/python3.10/site-packages/sklearn/metrics/_regression.py:492: FutureWarning: 'squared' is deprecated in version 1.4 and will be removed in 1.6. To calculate the root mean squared error, use the function'root_mean_squared_error'.\n",
      "  warnings.warn(\n",
      "/mnt/d/sandbox/optimal_rul/.venv/lib/python3.10/site-packages/sklearn/metrics/_regression.py:492: FutureWarning: 'squared' is deprecated in version 1.4 and will be removed in 1.6. To calculate the root mean squared error, use the function'root_mean_squared_error'.\n",
      "  warnings.warn(\n",
      "/mnt/d/sandbox/optimal_rul/.venv/lib/python3.10/site-packages/sklearn/metrics/_regression.py:492: FutureWarning: 'squared' is deprecated in version 1.4 and will be removed in 1.6. To calculate the root mean squared error, use the function'root_mean_squared_error'.\n",
      "  warnings.warn(\n",
      "/mnt/d/sandbox/optimal_rul/.venv/lib/python3.10/site-packages/sklearn/metrics/_regression.py:492: FutureWarning: 'squared' is deprecated in version 1.4 and will be removed in 1.6. To calculate the root mean squared error, use the function'root_mean_squared_error'.\n",
      "  warnings.warn(\n",
      "/mnt/d/sandbox/optimal_rul/.venv/lib/python3.10/site-packages/sklearn/metrics/_regression.py:492: FutureWarning: 'squared' is deprecated in version 1.4 and will be removed in 1.6. To calculate the root mean squared error, use the function'root_mean_squared_error'.\n",
      "  warnings.warn(\n",
      "/mnt/d/sandbox/optimal_rul/.venv/lib/python3.10/site-packages/sklearn/metrics/_regression.py:492: FutureWarning: 'squared' is deprecated in version 1.4 and will be removed in 1.6. To calculate the root mean squared error, use the function'root_mean_squared_error'.\n",
      "  warnings.warn(\n",
      "/mnt/d/sandbox/optimal_rul/.venv/lib/python3.10/site-packages/sklearn/metrics/_regression.py:492: FutureWarning: 'squared' is deprecated in version 1.4 and will be removed in 1.6. To calculate the root mean squared error, use the function'root_mean_squared_error'.\n",
      "  warnings.warn(\n",
      "/mnt/d/sandbox/optimal_rul/.venv/lib/python3.10/site-packages/sklearn/metrics/_regression.py:492: FutureWarning: 'squared' is deprecated in version 1.4 and will be removed in 1.6. To calculate the root mean squared error, use the function'root_mean_squared_error'.\n",
      "  warnings.warn(\n",
      "/mnt/d/sandbox/optimal_rul/.venv/lib/python3.10/site-packages/sklearn/metrics/_regression.py:492: FutureWarning: 'squared' is deprecated in version 1.4 and will be removed in 1.6. To calculate the root mean squared error, use the function'root_mean_squared_error'.\n",
      "  warnings.warn(\n",
      "/mnt/d/sandbox/optimal_rul/.venv/lib/python3.10/site-packages/sklearn/metrics/_regression.py:492: FutureWarning: 'squared' is deprecated in version 1.4 and will be removed in 1.6. To calculate the root mean squared error, use the function'root_mean_squared_error'.\n",
      "  warnings.warn(\n",
      "/mnt/d/sandbox/optimal_rul/.venv/lib/python3.10/site-packages/sklearn/metrics/_regression.py:492: FutureWarning: 'squared' is deprecated in version 1.4 and will be removed in 1.6. To calculate the root mean squared error, use the function'root_mean_squared_error'.\n",
      "  warnings.warn(\n",
      "/mnt/d/sandbox/optimal_rul/.venv/lib/python3.10/site-packages/sklearn/metrics/_regression.py:492: FutureWarning: 'squared' is deprecated in version 1.4 and will be removed in 1.6. To calculate the root mean squared error, use the function'root_mean_squared_error'.\n",
      "  warnings.warn(\n",
      "/mnt/d/sandbox/optimal_rul/.venv/lib/python3.10/site-packages/sklearn/metrics/_regression.py:492: FutureWarning: 'squared' is deprecated in version 1.4 and will be removed in 1.6. To calculate the root mean squared error, use the function'root_mean_squared_error'.\n",
      "  warnings.warn(\n",
      "/mnt/d/sandbox/optimal_rul/.venv/lib/python3.10/site-packages/sklearn/metrics/_regression.py:492: FutureWarning: 'squared' is deprecated in version 1.4 and will be removed in 1.6. To calculate the root mean squared error, use the function'root_mean_squared_error'.\n",
      "  warnings.warn(\n",
      "/mnt/d/sandbox/optimal_rul/.venv/lib/python3.10/site-packages/sklearn/metrics/_regression.py:492: FutureWarning: 'squared' is deprecated in version 1.4 and will be removed in 1.6. To calculate the root mean squared error, use the function'root_mean_squared_error'.\n",
      "  warnings.warn(\n",
      "/mnt/d/sandbox/optimal_rul/.venv/lib/python3.10/site-packages/sklearn/metrics/_regression.py:492: FutureWarning: 'squared' is deprecated in version 1.4 and will be removed in 1.6. To calculate the root mean squared error, use the function'root_mean_squared_error'.\n",
      "  warnings.warn(\n",
      "/mnt/d/sandbox/optimal_rul/.venv/lib/python3.10/site-packages/sklearn/metrics/_regression.py:492: FutureWarning: 'squared' is deprecated in version 1.4 and will be removed in 1.6. To calculate the root mean squared error, use the function'root_mean_squared_error'.\n",
      "  warnings.warn(\n",
      "/mnt/d/sandbox/optimal_rul/.venv/lib/python3.10/site-packages/sklearn/metrics/_regression.py:492: FutureWarning: 'squared' is deprecated in version 1.4 and will be removed in 1.6. To calculate the root mean squared error, use the function'root_mean_squared_error'.\n",
      "  warnings.warn(\n",
      "/mnt/d/sandbox/optimal_rul/.venv/lib/python3.10/site-packages/sklearn/metrics/_regression.py:492: FutureWarning: 'squared' is deprecated in version 1.4 and will be removed in 1.6. To calculate the root mean squared error, use the function'root_mean_squared_error'.\n",
      "  warnings.warn(\n",
      "/mnt/d/sandbox/optimal_rul/.venv/lib/python3.10/site-packages/sklearn/metrics/_regression.py:492: FutureWarning: 'squared' is deprecated in version 1.4 and will be removed in 1.6. To calculate the root mean squared error, use the function'root_mean_squared_error'.\n",
      "  warnings.warn(\n",
      "/mnt/d/sandbox/optimal_rul/.venv/lib/python3.10/site-packages/sklearn/metrics/_regression.py:492: FutureWarning: 'squared' is deprecated in version 1.4 and will be removed in 1.6. To calculate the root mean squared error, use the function'root_mean_squared_error'.\n",
      "  warnings.warn(\n",
      "/mnt/d/sandbox/optimal_rul/.venv/lib/python3.10/site-packages/sklearn/metrics/_regression.py:492: FutureWarning: 'squared' is deprecated in version 1.4 and will be removed in 1.6. To calculate the root mean squared error, use the function'root_mean_squared_error'.\n",
      "  warnings.warn(\n",
      "/mnt/d/sandbox/optimal_rul/.venv/lib/python3.10/site-packages/sklearn/metrics/_regression.py:492: FutureWarning: 'squared' is deprecated in version 1.4 and will be removed in 1.6. To calculate the root mean squared error, use the function'root_mean_squared_error'.\n",
      "  warnings.warn(\n",
      "/mnt/d/sandbox/optimal_rul/.venv/lib/python3.10/site-packages/sklearn/metrics/_regression.py:492: FutureWarning: 'squared' is deprecated in version 1.4 and will be removed in 1.6. To calculate the root mean squared error, use the function'root_mean_squared_error'.\n",
      "  warnings.warn(\n",
      "/mnt/d/sandbox/optimal_rul/.venv/lib/python3.10/site-packages/sklearn/metrics/_regression.py:492: FutureWarning: 'squared' is deprecated in version 1.4 and will be removed in 1.6. To calculate the root mean squared error, use the function'root_mean_squared_error'.\n",
      "  warnings.warn(\n",
      "/mnt/d/sandbox/optimal_rul/.venv/lib/python3.10/site-packages/sklearn/metrics/_regression.py:492: FutureWarning: 'squared' is deprecated in version 1.4 and will be removed in 1.6. To calculate the root mean squared error, use the function'root_mean_squared_error'.\n",
      "  warnings.warn(\n",
      "/mnt/d/sandbox/optimal_rul/.venv/lib/python3.10/site-packages/sklearn/metrics/_regression.py:492: FutureWarning: 'squared' is deprecated in version 1.4 and will be removed in 1.6. To calculate the root mean squared error, use the function'root_mean_squared_error'.\n",
      "  warnings.warn(\n",
      "/mnt/d/sandbox/optimal_rul/.venv/lib/python3.10/site-packages/sklearn/metrics/_regression.py:492: FutureWarning: 'squared' is deprecated in version 1.4 and will be removed in 1.6. To calculate the root mean squared error, use the function'root_mean_squared_error'.\n",
      "  warnings.warn(\n",
      "/mnt/d/sandbox/optimal_rul/.venv/lib/python3.10/site-packages/sklearn/metrics/_regression.py:492: FutureWarning: 'squared' is deprecated in version 1.4 and will be removed in 1.6. To calculate the root mean squared error, use the function'root_mean_squared_error'.\n",
      "  warnings.warn(\n",
      "/mnt/d/sandbox/optimal_rul/.venv/lib/python3.10/site-packages/sklearn/metrics/_regression.py:492: FutureWarning: 'squared' is deprecated in version 1.4 and will be removed in 1.6. To calculate the root mean squared error, use the function'root_mean_squared_error'.\n",
      "  warnings.warn(\n",
      "/mnt/d/sandbox/optimal_rul/.venv/lib/python3.10/site-packages/sklearn/metrics/_regression.py:492: FutureWarning: 'squared' is deprecated in version 1.4 and will be removed in 1.6. To calculate the root mean squared error, use the function'root_mean_squared_error'.\n",
      "  warnings.warn(\n",
      "/mnt/d/sandbox/optimal_rul/.venv/lib/python3.10/site-packages/sklearn/metrics/_regression.py:492: FutureWarning: 'squared' is deprecated in version 1.4 and will be removed in 1.6. To calculate the root mean squared error, use the function'root_mean_squared_error'.\n",
      "  warnings.warn(\n",
      "/mnt/d/sandbox/optimal_rul/.venv/lib/python3.10/site-packages/sklearn/metrics/_regression.py:492: FutureWarning: 'squared' is deprecated in version 1.4 and will be removed in 1.6. To calculate the root mean squared error, use the function'root_mean_squared_error'.\n",
      "  warnings.warn(\n",
      "/mnt/d/sandbox/optimal_rul/.venv/lib/python3.10/site-packages/sklearn/metrics/_regression.py:492: FutureWarning: 'squared' is deprecated in version 1.4 and will be removed in 1.6. To calculate the root mean squared error, use the function'root_mean_squared_error'.\n",
      "  warnings.warn(\n",
      "/mnt/d/sandbox/optimal_rul/.venv/lib/python3.10/site-packages/sklearn/metrics/_regression.py:492: FutureWarning: 'squared' is deprecated in version 1.4 and will be removed in 1.6. To calculate the root mean squared error, use the function'root_mean_squared_error'.\n",
      "  warnings.warn(\n",
      "/mnt/d/sandbox/optimal_rul/.venv/lib/python3.10/site-packages/sklearn/metrics/_regression.py:492: FutureWarning: 'squared' is deprecated in version 1.4 and will be removed in 1.6. To calculate the root mean squared error, use the function'root_mean_squared_error'.\n",
      "  warnings.warn(\n",
      "/mnt/d/sandbox/optimal_rul/.venv/lib/python3.10/site-packages/sklearn/metrics/_regression.py:492: FutureWarning: 'squared' is deprecated in version 1.4 and will be removed in 1.6. To calculate the root mean squared error, use the function'root_mean_squared_error'.\n",
      "  warnings.warn(\n",
      "/mnt/d/sandbox/optimal_rul/.venv/lib/python3.10/site-packages/sklearn/metrics/_regression.py:492: FutureWarning: 'squared' is deprecated in version 1.4 and will be removed in 1.6. To calculate the root mean squared error, use the function'root_mean_squared_error'.\n",
      "  warnings.warn(\n",
      "/mnt/d/sandbox/optimal_rul/.venv/lib/python3.10/site-packages/sklearn/metrics/_regression.py:492: FutureWarning: 'squared' is deprecated in version 1.4 and will be removed in 1.6. To calculate the root mean squared error, use the function'root_mean_squared_error'.\n",
      "  warnings.warn(\n",
      "/mnt/d/sandbox/optimal_rul/.venv/lib/python3.10/site-packages/sklearn/metrics/_regression.py:492: FutureWarning: 'squared' is deprecated in version 1.4 and will be removed in 1.6. To calculate the root mean squared error, use the function'root_mean_squared_error'.\n",
      "  warnings.warn(\n",
      "/mnt/d/sandbox/optimal_rul/.venv/lib/python3.10/site-packages/sklearn/metrics/_regression.py:492: FutureWarning: 'squared' is deprecated in version 1.4 and will be removed in 1.6. To calculate the root mean squared error, use the function'root_mean_squared_error'.\n",
      "  warnings.warn(\n",
      "/mnt/d/sandbox/optimal_rul/.venv/lib/python3.10/site-packages/sklearn/metrics/_regression.py:492: FutureWarning: 'squared' is deprecated in version 1.4 and will be removed in 1.6. To calculate the root mean squared error, use the function'root_mean_squared_error'.\n",
      "  warnings.warn(\n",
      "/mnt/d/sandbox/optimal_rul/.venv/lib/python3.10/site-packages/sklearn/metrics/_regression.py:492: FutureWarning: 'squared' is deprecated in version 1.4 and will be removed in 1.6. To calculate the root mean squared error, use the function'root_mean_squared_error'.\n",
      "  warnings.warn(\n",
      "/mnt/d/sandbox/optimal_rul/.venv/lib/python3.10/site-packages/sklearn/metrics/_regression.py:492: FutureWarning: 'squared' is deprecated in version 1.4 and will be removed in 1.6. To calculate the root mean squared error, use the function'root_mean_squared_error'.\n",
      "  warnings.warn(\n",
      "/mnt/d/sandbox/optimal_rul/.venv/lib/python3.10/site-packages/sklearn/metrics/_regression.py:492: FutureWarning: 'squared' is deprecated in version 1.4 and will be removed in 1.6. To calculate the root mean squared error, use the function'root_mean_squared_error'.\n",
      "  warnings.warn(\n",
      "/mnt/d/sandbox/optimal_rul/.venv/lib/python3.10/site-packages/sklearn/metrics/_regression.py:492: FutureWarning: 'squared' is deprecated in version 1.4 and will be removed in 1.6. To calculate the root mean squared error, use the function'root_mean_squared_error'.\n",
      "  warnings.warn(\n",
      "/mnt/d/sandbox/optimal_rul/.venv/lib/python3.10/site-packages/sklearn/metrics/_regression.py:492: FutureWarning: 'squared' is deprecated in version 1.4 and will be removed in 1.6. To calculate the root mean squared error, use the function'root_mean_squared_error'.\n",
      "  warnings.warn(\n",
      "/mnt/d/sandbox/optimal_rul/.venv/lib/python3.10/site-packages/sklearn/metrics/_regression.py:492: FutureWarning: 'squared' is deprecated in version 1.4 and will be removed in 1.6. To calculate the root mean squared error, use the function'root_mean_squared_error'.\n",
      "  warnings.warn(\n",
      "/mnt/d/sandbox/optimal_rul/.venv/lib/python3.10/site-packages/sklearn/metrics/_regression.py:492: FutureWarning: 'squared' is deprecated in version 1.4 and will be removed in 1.6. To calculate the root mean squared error, use the function'root_mean_squared_error'.\n",
      "  warnings.warn(\n",
      "/mnt/d/sandbox/optimal_rul/.venv/lib/python3.10/site-packages/sklearn/metrics/_regression.py:492: FutureWarning: 'squared' is deprecated in version 1.4 and will be removed in 1.6. To calculate the root mean squared error, use the function'root_mean_squared_error'.\n",
      "  warnings.warn(\n",
      "/mnt/d/sandbox/optimal_rul/.venv/lib/python3.10/site-packages/sklearn/metrics/_regression.py:492: FutureWarning: 'squared' is deprecated in version 1.4 and will be removed in 1.6. To calculate the root mean squared error, use the function'root_mean_squared_error'.\n",
      "  warnings.warn(\n",
      "/mnt/d/sandbox/optimal_rul/.venv/lib/python3.10/site-packages/sklearn/metrics/_regression.py:492: FutureWarning: 'squared' is deprecated in version 1.4 and will be removed in 1.6. To calculate the root mean squared error, use the function'root_mean_squared_error'.\n",
      "  warnings.warn(\n",
      "/mnt/d/sandbox/optimal_rul/.venv/lib/python3.10/site-packages/sklearn/metrics/_regression.py:492: FutureWarning: 'squared' is deprecated in version 1.4 and will be removed in 1.6. To calculate the root mean squared error, use the function'root_mean_squared_error'.\n",
      "  warnings.warn(\n",
      "/mnt/d/sandbox/optimal_rul/.venv/lib/python3.10/site-packages/sklearn/metrics/_regression.py:492: FutureWarning: 'squared' is deprecated in version 1.4 and will be removed in 1.6. To calculate the root mean squared error, use the function'root_mean_squared_error'.\n",
      "  warnings.warn(\n",
      "/mnt/d/sandbox/optimal_rul/.venv/lib/python3.10/site-packages/sklearn/metrics/_regression.py:492: FutureWarning: 'squared' is deprecated in version 1.4 and will be removed in 1.6. To calculate the root mean squared error, use the function'root_mean_squared_error'.\n",
      "  warnings.warn(\n",
      "/mnt/d/sandbox/optimal_rul/.venv/lib/python3.10/site-packages/sklearn/metrics/_regression.py:492: FutureWarning: 'squared' is deprecated in version 1.4 and will be removed in 1.6. To calculate the root mean squared error, use the function'root_mean_squared_error'.\n",
      "  warnings.warn(\n",
      "/mnt/d/sandbox/optimal_rul/.venv/lib/python3.10/site-packages/sklearn/metrics/_regression.py:492: FutureWarning: 'squared' is deprecated in version 1.4 and will be removed in 1.6. To calculate the root mean squared error, use the function'root_mean_squared_error'.\n",
      "  warnings.warn(\n",
      "/mnt/d/sandbox/optimal_rul/.venv/lib/python3.10/site-packages/sklearn/metrics/_regression.py:492: FutureWarning: 'squared' is deprecated in version 1.4 and will be removed in 1.6. To calculate the root mean squared error, use the function'root_mean_squared_error'.\n",
      "  warnings.warn(\n",
      "/mnt/d/sandbox/optimal_rul/.venv/lib/python3.10/site-packages/sklearn/metrics/_regression.py:492: FutureWarning: 'squared' is deprecated in version 1.4 and will be removed in 1.6. To calculate the root mean squared error, use the function'root_mean_squared_error'.\n",
      "  warnings.warn(\n",
      "/mnt/d/sandbox/optimal_rul/.venv/lib/python3.10/site-packages/sklearn/metrics/_regression.py:492: FutureWarning: 'squared' is deprecated in version 1.4 and will be removed in 1.6. To calculate the root mean squared error, use the function'root_mean_squared_error'.\n",
      "  warnings.warn(\n",
      "/mnt/d/sandbox/optimal_rul/.venv/lib/python3.10/site-packages/sklearn/metrics/_regression.py:492: FutureWarning: 'squared' is deprecated in version 1.4 and will be removed in 1.6. To calculate the root mean squared error, use the function'root_mean_squared_error'.\n",
      "  warnings.warn(\n",
      "/mnt/d/sandbox/optimal_rul/.venv/lib/python3.10/site-packages/sklearn/metrics/_regression.py:492: FutureWarning: 'squared' is deprecated in version 1.4 and will be removed in 1.6. To calculate the root mean squared error, use the function'root_mean_squared_error'.\n",
      "  warnings.warn(\n",
      "/mnt/d/sandbox/optimal_rul/.venv/lib/python3.10/site-packages/sklearn/metrics/_regression.py:492: FutureWarning: 'squared' is deprecated in version 1.4 and will be removed in 1.6. To calculate the root mean squared error, use the function'root_mean_squared_error'.\n",
      "  warnings.warn(\n"
     ]
    }
   ],
   "source": [
    "vev = VisualEvaluation(reshaped_rul, ruls, transposed_cycle_sum.shape[0], transposed_cycle_sum.shape[1])"
   ]
  },
  {
   "cell_type": "code",
   "execution_count": 52,
   "id": "9dc5861f",
   "metadata": {},
   "outputs": [
    {
     "data": {
      "image/png": "[encoded data removed]",
      "text/plain": [
       "<Figure size 4500x1800 with 4 Axes>"
      ]
     },
     "metadata": {},
     "output_type": "display_data"
    }
   ],
   "source": [
    "vev.heatmap(title = 'Predicted RULs', cmap_color = 'RdBu_r', title_fontsize=20, label_fontsize=20, tick_fontsize=20, \n",
    "                 cbar_fontsize=20, dpi=300, max_xticks=10, max_yticks=20)\n"
   ]
  },
  {
   "cell_type": "code",
   "execution_count": 55,
   "id": "anniKB24uMSd",
   "metadata": {
    "colab": {
     "base_uri": "https://localhost:8080/",
     "height": 253
    },
    "executionInfo": {
     "elapsed": 1924,
     "status": "ok",
     "timestamp": 1697077943594,
     "user": {
      "displayName": "rory lee",
      "userId": "07120846070559746515"
     },
     "user_tz": -480
    },
    "id": "anniKB24uMSd",
    "outputId": "b92c5811-a9df-4341-a949-71c45951043b"
   },
   "outputs": [
    {
     "name": "stderr",
     "output_type": "stream",
     "text": [
      "/mnt/d/sandbox/optimal_rul/optimization_v2/ex0/../prediction_evaluation.py:581: FutureWarning: \n",
      "\n",
      "Passing `palette` without assigning `hue` is deprecated and will be removed in v0.14.0. Assign the `x` variable to `hue` and set `legend=False` for the same effect.\n",
      "\n",
      "  plt.title(title, fontsize=20)\n"
     ]
    },
    {
     "data": {
      "image/png": "[encoded data removed]",
      "text/plain": [
       "<Figure size 3000x300 with 1 Axes>"
      ]
     },
     "metadata": {},
     "output_type": "display_data"
    }
   ],
   "source": [
    "vev.box(None, width = 30, height = 3)"
   ]
  },
  {
   "cell_type": "code",
   "execution_count": null,
   "id": "c0cfe057-4470-45e0-953c-81c1cf80cad4",
   "metadata": {},
   "outputs": [],
   "source": []
  }
 ],
 "metadata": {
  "accelerator": "GPU",
  "colab": {
   "gpuType": "T4",
   "machine_shape": "hm",
   "provenance": []
  },
  "kernelspec": {
   "display_name": ".venv",
   "language": "python",
   "name": "python3"
  },
  "language_info": {
   "codemirror_mode": {
    "name": "ipython",
    "version": 3
   },
   "file_extension": ".py",
   "mimetype": "text/x-python",
   "name": "python",
   "nbconvert_exporter": "python",
   "pygments_lexer": "ipython3",
   "version": "3.10.12"
  },
  "widgets": {
   "application/vnd.jupyter.widget-state+json": {
    "0484d45af73e4eb480c722efaa36e2ef": {
     "model_module": "@jupyter-widgets/base",
     "model_module_version": "1.2.0",
     "model_name": "LayoutModel",
     "state": {
      "_model_module": "@jupyter-widgets/base",
      "_model_module_version": "1.2.0",
      "_model_name": "LayoutModel",
      "_view_count": null,
      "_view_module": "@jupyter-widgets/base",
      "_view_module_version": "1.2.0",
      "_view_name": "LayoutView",
      "align_content": null,
      "align_items": null,
      "align_self": null,
      "border": null,
      "bottom": null,
      "display": null,
      "flex": null,
      "flex_flow": null,
      "grid_area": null,
      "grid_auto_columns": null,
      "grid_auto_flow": null,
      "grid_auto_rows": null,
      "grid_column": null,
      "grid_gap": null,
      "grid_row": null,
      "grid_template_areas": null,
      "grid_template_columns": null,
      "grid_template_rows": null,
      "height": null,
      "justify_content": null,
      "justify_items": null,
      "left": null,
      "margin": null,
      "max_height": null,
      "max_width": null,
      "min_height": null,
      "min_width": null,
      "object_fit": null,
      "object_position": null,
      "order": null,
      "overflow": null,
      "overflow_x": null,
      "overflow_y": null,
      "padding": null,
      "right": null,
      "top": null,
      "visibility": null,
      "width": null
     }
    },
    "0fdacd68b155404dbb6e41c74bde626b": {
     "model_module": "@jupyter-widgets/base",
     "model_module_version": "1.2.0",
     "model_name": "LayoutModel",
     "state": {
      "_model_module": "@jupyter-widgets/base",
      "_model_module_version": "1.2.0",
      "_model_name": "LayoutModel",
      "_view_count": null,
      "_view_module": "@jupyter-widgets/base",
      "_view_module_version": "1.2.0",
      "_view_name": "LayoutView",
      "align_content": null,
      "align_items": null,
      "align_self": null,
      "border": null,
      "bottom": null,
      "display": null,
      "flex": null,
      "flex_flow": null,
      "grid_area": null,
      "grid_auto_columns": null,
      "grid_auto_flow": null,
      "grid_auto_rows": null,
      "grid_column": null,
      "grid_gap": null,
      "grid_row": null,
      "grid_template_areas": null,
      "grid_template_columns": null,
      "grid_template_rows": null,
      "height": null,
      "justify_content": null,
      "justify_items": null,
      "left": null,
      "margin": null,
      "max_height": null,
      "max_width": null,
      "min_height": null,
      "min_width": null,
      "object_fit": null,
      "object_position": null,
      "order": null,
      "overflow": null,
      "overflow_x": null,
      "overflow_y": null,
      "padding": null,
      "right": null,
      "top": null,
      "visibility": null,
      "width": null
     }
    },
    "1c429883ce4041d1904167d005407980": {
     "model_module": "@jupyter-widgets/base",
     "model_module_version": "1.2.0",
     "model_name": "LayoutModel",
     "state": {
      "_model_module": "@jupyter-widgets/base",
      "_model_module_version": "1.2.0",
      "_model_name": "LayoutModel",
      "_view_count": null,
      "_view_module": "@jupyter-widgets/base",
      "_view_module_version": "1.2.0",
      "_view_name": "LayoutView",
      "align_content": null,
      "align_items": null,
      "align_self": null,
      "border": null,
      "bottom": null,
      "display": null,
      "flex": null,
      "flex_flow": null,
      "grid_area": null,
      "grid_auto_columns": null,
      "grid_auto_flow": null,
      "grid_auto_rows": null,
      "grid_column": null,
      "grid_gap": null,
      "grid_row": null,
      "grid_template_areas": null,
      "grid_template_columns": null,
      "grid_template_rows": null,
      "height": null,
      "justify_content": null,
      "justify_items": null,
      "left": null,
      "margin": null,
      "max_height": null,
      "max_width": null,
      "min_height": null,
      "min_width": null,
      "object_fit": null,
      "object_position": null,
      "order": null,
      "overflow": null,
      "overflow_x": null,
      "overflow_y": null,
      "padding": null,
      "right": null,
      "top": null,
      "visibility": null,
      "width": null
     }
    },
    "1cfdf2b99011450fa6c253ff5aca453e": {
     "model_module": "@jupyter-widgets/controls",
     "model_module_version": "1.5.0",
     "model_name": "HTMLModel",
     "state": {
      "_dom_classes": [],
      "_model_module": "@jupyter-widgets/controls",
      "_model_module_version": "1.5.0",
      "_model_name": "HTMLModel",
      "_view_count": null,
      "_view_module": "@jupyter-widgets/controls",
      "_view_module_version": "1.5.0",
      "_view_name": "HTMLView",
      "description": "",
      "description_tooltip": null,
      "layout": "IPY_MODEL_1c429883ce4041d1904167d005407980",
      "placeholder": "​",
      "style": "IPY_MODEL_4488455d503348cb814ba0befe948597",
      "value": " 1/1 [01:58&lt;00:00, 118.66s/epoch, loss=0.0372, mean_absolute_error=0.144, mean_squared_error=0.0372, mean_absolute_percentage_error=5.4e+7, root_mean_squared_error=0.144, val_loss=0.0745, val_mean_absolute_error=0.212, val_mean_squared_error=0.0745, val_mean_absolute_percentage_error=59.7, val_root_mean_squared_error=0.212]"
     }
    },
    "207198beb29048aeb11831807154925f": {
     "model_module": "@jupyter-widgets/controls",
     "model_module_version": "1.5.0",
     "model_name": "HBoxModel",
     "state": {
      "_dom_classes": [],
      "_model_module": "@jupyter-widgets/controls",
      "_model_module_version": "1.5.0",
      "_model_name": "HBoxModel",
      "_view_count": null,
      "_view_module": "@jupyter-widgets/controls",
      "_view_module_version": "1.5.0",
      "_view_name": "HBoxView",
      "box_style": "",
      "children": [
       "IPY_MODEL_aa1efdab224e4f499dbb23df1f456821",
       "IPY_MODEL_8be9ed4517d84c87a25abbd35ffb04f4",
       "IPY_MODEL_1cfdf2b99011450fa6c253ff5aca453e"
      ],
      "layout": "IPY_MODEL_ec89ffe048d44d268c851f357965058f"
     }
    },
    "4488455d503348cb814ba0befe948597": {
     "model_module": "@jupyter-widgets/controls",
     "model_module_version": "1.5.0",
     "model_name": "DescriptionStyleModel",
     "state": {
      "_model_module": "@jupyter-widgets/controls",
      "_model_module_version": "1.5.0",
      "_model_name": "DescriptionStyleModel",
      "_view_count": null,
      "_view_module": "@jupyter-widgets/base",
      "_view_module_version": "1.2.0",
      "_view_name": "StyleView",
      "description_width": ""
     }
    },
    "6ae4e9b103214ac08d8970dd891ea1ba": {
     "model_module": "@jupyter-widgets/base",
     "model_module_version": "1.2.0",
     "model_name": "LayoutModel",
     "state": {
      "_model_module": "@jupyter-widgets/base",
      "_model_module_version": "1.2.0",
      "_model_name": "LayoutModel",
      "_view_count": null,
      "_view_module": "@jupyter-widgets/base",
      "_view_module_version": "1.2.0",
      "_view_name": "LayoutView",
      "align_content": null,
      "align_items": null,
      "align_self": null,
      "border": null,
      "bottom": null,
      "display": null,
      "flex": null,
      "flex_flow": null,
      "grid_area": null,
      "grid_auto_columns": null,
      "grid_auto_flow": null,
      "grid_auto_rows": null,
      "grid_column": null,
      "grid_gap": null,
      "grid_row": null,
      "grid_template_areas": null,
      "grid_template_columns": null,
      "grid_template_rows": null,
      "height": null,
      "justify_content": null,
      "justify_items": null,
      "left": null,
      "margin": null,
      "max_height": null,
      "max_width": null,
      "min_height": null,
      "min_width": null,
      "object_fit": null,
      "object_position": null,
      "order": null,
      "overflow": null,
      "overflow_x": null,
      "overflow_y": null,
      "padding": null,
      "right": null,
      "top": null,
      "visibility": null,
      "width": null
     }
    },
    "6e8ba76b01e346d9ab1fdb43f8573bf8": {
     "model_module": "@jupyter-widgets/controls",
     "model_module_version": "1.5.0",
     "model_name": "FloatProgressModel",
     "state": {
      "_dom_classes": [],
      "_model_module": "@jupyter-widgets/controls",
      "_model_module_version": "1.5.0",
      "_model_name": "FloatProgressModel",
      "_view_count": null,
      "_view_module": "@jupyter-widgets/controls",
      "_view_module_version": "1.5.0",
      "_view_name": "ProgressView",
      "bar_style": "",
      "description": "",
      "description_tooltip": null,
      "layout": "IPY_MODEL_0fdacd68b155404dbb6e41c74bde626b",
      "max": 8800,
      "min": 0,
      "orientation": "horizontal",
      "style": "IPY_MODEL_c54f269048994270b0e5fc52503a267e",
      "value": 8800
     }
    },
    "74110b65cb574b268a7ebc5016617576": {
     "model_module": "@jupyter-widgets/controls",
     "model_module_version": "1.5.0",
     "model_name": "HBoxModel",
     "state": {
      "_dom_classes": [],
      "_model_module": "@jupyter-widgets/controls",
      "_model_module_version": "1.5.0",
      "_model_name": "HBoxModel",
      "_view_count": null,
      "_view_module": "@jupyter-widgets/controls",
      "_view_module_version": "1.5.0",
      "_view_name": "HBoxView",
      "box_style": "",
      "children": [
       "IPY_MODEL_dee657cbdc614412b72d9a313320018e",
       "IPY_MODEL_6e8ba76b01e346d9ab1fdb43f8573bf8",
       "IPY_MODEL_eb484d148ad048e2991bd96eb85908a6"
      ],
      "layout": "IPY_MODEL_bb3b7b58586c4e49afbc46fcf93a5448"
     }
    },
    "7c6bdcb2c22b47f9b6d7d4286e91cb56": {
     "model_module": "@jupyter-widgets/base",
     "model_module_version": "1.2.0",
     "model_name": "LayoutModel",
     "state": {
      "_model_module": "@jupyter-widgets/base",
      "_model_module_version": "1.2.0",
      "_model_name": "LayoutModel",
      "_view_count": null,
      "_view_module": "@jupyter-widgets/base",
      "_view_module_version": "1.2.0",
      "_view_name": "LayoutView",
      "align_content": null,
      "align_items": null,
      "align_self": null,
      "border": null,
      "bottom": null,
      "display": null,
      "flex": null,
      "flex_flow": null,
      "grid_area": null,
      "grid_auto_columns": null,
      "grid_auto_flow": null,
      "grid_auto_rows": null,
      "grid_column": null,
      "grid_gap": null,
      "grid_row": null,
      "grid_template_areas": null,
      "grid_template_columns": null,
      "grid_template_rows": null,
      "height": null,
      "justify_content": null,
      "justify_items": null,
      "left": null,
      "margin": null,
      "max_height": null,
      "max_width": null,
      "min_height": null,
      "min_width": null,
      "object_fit": null,
      "object_position": null,
      "order": null,
      "overflow": null,
      "overflow_x": null,
      "overflow_y": null,
      "padding": null,
      "right": null,
      "top": null,
      "visibility": null,
      "width": null
     }
    },
    "8be9ed4517d84c87a25abbd35ffb04f4": {
     "model_module": "@jupyter-widgets/controls",
     "model_module_version": "1.5.0",
     "model_name": "FloatProgressModel",
     "state": {
      "_dom_classes": [],
      "_model_module": "@jupyter-widgets/controls",
      "_model_module_version": "1.5.0",
      "_model_name": "FloatProgressModel",
      "_view_count": null,
      "_view_module": "@jupyter-widgets/controls",
      "_view_module_version": "1.5.0",
      "_view_name": "ProgressView",
      "bar_style": "success",
      "description": "",
      "description_tooltip": null,
      "layout": "IPY_MODEL_7c6bdcb2c22b47f9b6d7d4286e91cb56",
      "max": 1,
      "min": 0,
      "orientation": "horizontal",
      "style": "IPY_MODEL_8fd227e9332244e1ac4e7c2970adc361",
      "value": 1
     }
    },
    "8fd227e9332244e1ac4e7c2970adc361": {
     "model_module": "@jupyter-widgets/controls",
     "model_module_version": "1.5.0",
     "model_name": "ProgressStyleModel",
     "state": {
      "_model_module": "@jupyter-widgets/controls",
      "_model_module_version": "1.5.0",
      "_model_name": "ProgressStyleModel",
      "_view_count": null,
      "_view_module": "@jupyter-widgets/base",
      "_view_module_version": "1.2.0",
      "_view_name": "StyleView",
      "bar_color": null,
      "description_width": ""
     }
    },
    "8fecfc379a884da0a4ab008c54c14073": {
     "model_module": "@jupyter-widgets/base",
     "model_module_version": "1.2.0",
     "model_name": "LayoutModel",
     "state": {
      "_model_module": "@jupyter-widgets/base",
      "_model_module_version": "1.2.0",
      "_model_name": "LayoutModel",
      "_view_count": null,
      "_view_module": "@jupyter-widgets/base",
      "_view_module_version": "1.2.0",
      "_view_name": "LayoutView",
      "align_content": null,
      "align_items": null,
      "align_self": null,
      "border": null,
      "bottom": null,
      "display": null,
      "flex": null,
      "flex_flow": null,
      "grid_area": null,
      "grid_auto_columns": null,
      "grid_auto_flow": null,
      "grid_auto_rows": null,
      "grid_column": null,
      "grid_gap": null,
      "grid_row": null,
      "grid_template_areas": null,
      "grid_template_columns": null,
      "grid_template_rows": null,
      "height": null,
      "justify_content": null,
      "justify_items": null,
      "left": null,
      "margin": null,
      "max_height": null,
      "max_width": null,
      "min_height": null,
      "min_width": null,
      "object_fit": null,
      "object_position": null,
      "order": null,
      "overflow": null,
      "overflow_x": null,
      "overflow_y": null,
      "padding": null,
      "right": null,
      "top": null,
      "visibility": null,
      "width": null
     }
    },
    "9df38d6866fc447fb3db991b2da99a84": {
     "model_module": "@jupyter-widgets/controls",
     "model_module_version": "1.5.0",
     "model_name": "DescriptionStyleModel",
     "state": {
      "_model_module": "@jupyter-widgets/controls",
      "_model_module_version": "1.5.0",
      "_model_name": "DescriptionStyleModel",
      "_view_count": null,
      "_view_module": "@jupyter-widgets/base",
      "_view_module_version": "1.2.0",
      "_view_name": "StyleView",
      "description_width": ""
     }
    },
    "aa1efdab224e4f499dbb23df1f456821": {
     "model_module": "@jupyter-widgets/controls",
     "model_module_version": "1.5.0",
     "model_name": "HTMLModel",
     "state": {
      "_dom_classes": [],
      "_model_module": "@jupyter-widgets/controls",
      "_model_module_version": "1.5.0",
      "_model_name": "HTMLModel",
      "_view_count": null,
      "_view_module": "@jupyter-widgets/controls",
      "_view_module_version": "1.5.0",
      "_view_name": "HTMLView",
      "description": "",
      "description_tooltip": null,
      "layout": "IPY_MODEL_6ae4e9b103214ac08d8970dd891ea1ba",
      "placeholder": "​",
      "style": "IPY_MODEL_9df38d6866fc447fb3db991b2da99a84",
      "value": "100%"
     }
    },
    "bb3b7b58586c4e49afbc46fcf93a5448": {
     "model_module": "@jupyter-widgets/base",
     "model_module_version": "1.2.0",
     "model_name": "LayoutModel",
     "state": {
      "_model_module": "@jupyter-widgets/base",
      "_model_module_version": "1.2.0",
      "_model_name": "LayoutModel",
      "_view_count": null,
      "_view_module": "@jupyter-widgets/base",
      "_view_module_version": "1.2.0",
      "_view_name": "LayoutView",
      "align_content": null,
      "align_items": null,
      "align_self": null,
      "border": null,
      "bottom": null,
      "display": null,
      "flex": null,
      "flex_flow": null,
      "grid_area": null,
      "grid_auto_columns": null,
      "grid_auto_flow": null,
      "grid_auto_rows": null,
      "grid_column": null,
      "grid_gap": null,
      "grid_row": null,
      "grid_template_areas": null,
      "grid_template_columns": null,
      "grid_template_rows": null,
      "height": null,
      "justify_content": null,
      "justify_items": null,
      "left": null,
      "margin": null,
      "max_height": null,
      "max_width": null,
      "min_height": null,
      "min_width": null,
      "object_fit": null,
      "object_position": null,
      "order": null,
      "overflow": null,
      "overflow_x": null,
      "overflow_y": null,
      "padding": null,
      "right": null,
      "top": null,
      "visibility": "hidden",
      "width": null
     }
    },
    "c54f269048994270b0e5fc52503a267e": {
     "model_module": "@jupyter-widgets/controls",
     "model_module_version": "1.5.0",
     "model_name": "ProgressStyleModel",
     "state": {
      "_model_module": "@jupyter-widgets/controls",
      "_model_module_version": "1.5.0",
      "_model_name": "ProgressStyleModel",
      "_view_count": null,
      "_view_module": "@jupyter-widgets/base",
      "_view_module_version": "1.2.0",
      "_view_name": "StyleView",
      "bar_color": null,
      "description_width": ""
     }
    },
    "dc3b2946dc3e4419ad279b66dc80dedd": {
     "model_module": "@jupyter-widgets/controls",
     "model_module_version": "1.5.0",
     "model_name": "DescriptionStyleModel",
     "state": {
      "_model_module": "@jupyter-widgets/controls",
      "_model_module_version": "1.5.0",
      "_model_name": "DescriptionStyleModel",
      "_view_count": null,
      "_view_module": "@jupyter-widgets/base",
      "_view_module_version": "1.2.0",
      "_view_name": "StyleView",
      "description_width": ""
     }
    },
    "dee657cbdc614412b72d9a313320018e": {
     "model_module": "@jupyter-widgets/controls",
     "model_module_version": "1.5.0",
     "model_name": "HTMLModel",
     "state": {
      "_dom_classes": [],
      "_model_module": "@jupyter-widgets/controls",
      "_model_module_version": "1.5.0",
      "_model_name": "HTMLModel",
      "_view_count": null,
      "_view_module": "@jupyter-widgets/controls",
      "_view_module_version": "1.5.0",
      "_view_name": "HTMLView",
      "description": "",
      "description_tooltip": null,
      "layout": "IPY_MODEL_8fecfc379a884da0a4ab008c54c14073",
      "placeholder": "​",
      "style": "IPY_MODEL_f0022df9a20f4d6097da7aea028d5efd",
      "value": "100%"
     }
    },
    "eb484d148ad048e2991bd96eb85908a6": {
     "model_module": "@jupyter-widgets/controls",
     "model_module_version": "1.5.0",
     "model_name": "HTMLModel",
     "state": {
      "_dom_classes": [],
      "_model_module": "@jupyter-widgets/controls",
      "_model_module_version": "1.5.0",
      "_model_name": "HTMLModel",
      "_view_count": null,
      "_view_module": "@jupyter-widgets/controls",
      "_view_module_version": "1.5.0",
      "_view_name": "HTMLView",
      "description": "",
      "description_tooltip": null,
      "layout": "IPY_MODEL_0484d45af73e4eb480c722efaa36e2ef",
      "placeholder": "​",
      "style": "IPY_MODEL_dc3b2946dc3e4419ad279b66dc80dedd",
      "value": " 8.79k/8.80k [01:50&lt;00:00, 94.0batch/s, loss=0.0371, mean_absolute_error=0.143, mean_squared_error=0.0371, mean_absolute_percentage_error=5.41e+7, root_mean_squared_error=0.143]"
     }
    },
    "ec89ffe048d44d268c851f357965058f": {
     "model_module": "@jupyter-widgets/base",
     "model_module_version": "1.2.0",
     "model_name": "LayoutModel",
     "state": {
      "_model_module": "@jupyter-widgets/base",
      "_model_module_version": "1.2.0",
      "_model_name": "LayoutModel",
      "_view_count": null,
      "_view_module": "@jupyter-widgets/base",
      "_view_module_version": "1.2.0",
      "_view_name": "LayoutView",
      "align_content": null,
      "align_items": null,
      "align_self": null,
      "border": null,
      "bottom": null,
      "display": null,
      "flex": null,
      "flex_flow": null,
      "grid_area": null,
      "grid_auto_columns": null,
      "grid_auto_flow": null,
      "grid_auto_rows": null,
      "grid_column": null,
      "grid_gap": null,
      "grid_row": null,
      "grid_template_areas": null,
      "grid_template_columns": null,
      "grid_template_rows": null,
      "height": null,
      "justify_content": null,
      "justify_items": null,
      "left": null,
      "margin": null,
      "max_height": null,
      "max_width": null,
      "min_height": null,
      "min_width": null,
      "object_fit": null,
      "object_position": null,
      "order": null,
      "overflow": null,
      "overflow_x": null,
      "overflow_y": null,
      "padding": null,
      "right": null,
      "top": null,
      "visibility": null,
      "width": null
     }
    },
    "f0022df9a20f4d6097da7aea028d5efd": {
     "model_module": "@jupyter-widgets/controls",
     "model_module_version": "1.5.0",
     "model_name": "DescriptionStyleModel",
     "state": {
      "_model_module": "@jupyter-widgets/controls",
      "_model_module_version": "1.5.0",
      "_model_name": "DescriptionStyleModel",
      "_view_count": null,
      "_view_module": "@jupyter-widgets/base",
      "_view_module_version": "1.2.0",
      "_view_name": "StyleView",
      "description_width": ""
     }
    }
   }
  }
 },
 "nbformat": 4,
 "nbformat_minor": 5
}
