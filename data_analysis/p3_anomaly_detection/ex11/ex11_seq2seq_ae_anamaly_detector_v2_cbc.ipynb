{
 "cells": [
  {
   "cell_type": "code",
   "execution_count": null,
   "id": "TocO_lcqXD0d",
   "metadata": {
    "id": "TocO_lcqXD0d"
   },
   "outputs": [],
   "source": [
    "\"\"\"\n",
    "File Name: ex3_seq2seq_ae_anamaly_detector_v2_cbc.ipynb\n",
    "\n",
    "Description: anomaly detection using seq2seq autoencoder with setting split = 2\n",
    "\n",
    "Author: junghwan lee\n",
    "Email: jhrrlee@gmail.com\n",
    "Date Created: 2023.09.12"
   ]
  },
  {
   "cell_type": "markdown",
   "id": "8M-hkrGSNl0r",
   "metadata": {
    "id": "8M-hkrGSNl0r"
   },
   "source": [
    "**Objective:**  \n",
    "To develop an anomaly detection mechanism using an autoencoder trained with K-fold cross-validation. The process aims to compute error metrics on a per-cell basis, average them across K-folds, and identify anomalies based on these metrics.\n",
    "\n",
    "**Method:**  \n",
    "The outlined process consists of the following steps:\n",
    "\n",
    "1. **Training Phase:**\n",
    "    - The dataset is divided into K folds.\n",
    "    - An Autoencoder is trained K times, once for each fold, resulting in K trained Autoencoder models.\n",
    "    - In each iteration, one fold is used for validation while the rest are used for training.\n",
    "\n",
    "2. **Error Calculation Phase:**\n",
    "    - Compute error metrics (MAPE, RMSE, MAE, MSE) for each cell in the validation set of each fold.\n",
    "    - These error metrics are computed between the original and the reconstructed data obtained from the Autoencoder.\n",
    "    - These computations result in K sets of error metrics, one for each fold.\n",
    "\n",
    "3. **Averaging Phase:**\n",
    "    - Average the error metrics computed in the previous phase across all K folds.\n",
    "    - This results in a single set of average error metrics for each cell.\n",
    "\n",
    "4. **Anomaly Detection Phase:**\n",
    "    - Detect anomalies based on the specified error metric and a provided or computed threshold.\n",
    "    - Flag the cells whose error metrics exceed the threshold as anomalies.\n",
    "\n",
    "5. **Visualization Phase:**\n",
    "    - Visualize the average error metrics by cell using bar charts, one for each error metric (MAPE, RMSE, MAE, MSE).\n",
    "    - Highlight the anomalies in red on these charts to clearly indicate the anomalous cells.\n",
    "\n",
    "**Functions:**\n",
    "\n",
    "- `train_autoencoder(data, no_of_folds)`:  \n",
    "  Train the Autoencoder using K-fold cross-validation.\n",
    "\n",
    "- `compute_reconstruction_error(model)`:  \n",
    "  Compute the reconstruction error metrics (MAPE, RMSE, MAE, MSE) for each cell.\n",
    "\n",
    "- `detect_anomalies(average_error_metrics_by_cells, metric, threshold_function, threshold_value)`:  \n",
    "  Detect anomalies based on a specified error metric and threshold.\n",
    "\n",
    "- `plot_average_error_metrics_by_cells(average_error_metrics_by_cells, anomalies)`:  \n",
    "  Visualize the average error metrics by cell, highlighting the anomalies.\n"
   ]
  },
  {
   "cell_type": "code",
   "execution_count": 1,
   "id": "7c4df5ef",
   "metadata": {
    "executionInfo": {
     "elapsed": 2781,
     "status": "ok",
     "timestamp": 1695629442113,
     "user": {
      "displayName": "rory lee",
      "userId": "07120846070559746515"
     },
     "user_tz": -480
    },
    "id": "7c4df5ef"
   },
   "outputs": [
    {
     "name": "stderr",
     "output_type": "stream",
     "text": [
      "2025-03-06 00:01:51.179105: I tensorflow/core/util/port.cc:113] oneDNN custom operations are on. You may see slightly different numerical results due to floating-point round-off errors from different computation orders. To turn them off, set the environment variable `TF_ENABLE_ONEDNN_OPTS=0`.\n",
      "2025-03-06 00:01:51.224034: I tensorflow/core/platform/cpu_feature_guard.cc:210] This TensorFlow binary is optimized to use available CPU instructions in performance-critical operations.\n",
      "To enable the following instructions: AVX2 AVX512F AVX512_VNNI AVX512_BF16 FMA, in other operations, rebuild TensorFlow with the appropriate compiler flags.\n",
      "2025-03-06 00:01:58.083188: W tensorflow/compiler/tf2tensorrt/utils/py_utils.cc:38] TF-TRT Warning: Could not find TensorRT\n",
      "/mnt/d/sandbox/optimal_rul/.venv/lib/python3.10/site-packages/tqdm/auto.py:21: TqdmWarning: IProgress not found. Please update jupyter and ipywidgets. See https://ipywidgets.readthedocs.io/en/stable/user_install.html\n",
      "  from .autonotebook import tqdm as notebook_tqdm\n"
     ]
    }
   ],
   "source": [
    "import sys\n",
    "#from google.colab import drive\n",
    "import os\n",
    "import numpy as np\n",
    "import matplotlib.pyplot as plt\n",
    "import tensorflow.keras as keras\n",
    "from tensorflow.keras.optimizers import Adam\n",
    "from tqdm.keras import TqdmCallback\n",
    "from sklearn.preprocessing import MinMaxScaler\n",
    "from sklearn.model_selection import KFold\n",
    "import pandas as pd\n",
    "from tensorflow.keras.models import load_model\n",
    "from tensorflow.keras.callbacks import EarlyStopping, ModelCheckpoint\n",
    "from sklearn.preprocessing import StandardScaler\n",
    "from sklearn.metrics import mean_squared_error, mean_absolute_error\n",
    "import importlib"
   ]
  },
  {
   "cell_type": "code",
   "execution_count": 3,
   "id": "bb6daa32-5c95-4e7d-a11b-a3d8601c979f",
   "metadata": {},
   "outputs": [],
   "source": [
    "sys.path.append('../')\n",
    "sys.path.append('../../../auto_encoder/')\n",
    "gen_path = '../../../resource/dataset/'\n",
    "proj_dir = \"/mnt/d/sandbox/optimal_rul\"  # Change this to your actual project path\n",
    "sys.path.append(proj_dir)\n",
    "base_dir = './seq2seq_ae/'"
   ]
  },
  {
   "cell_type": "code",
   "execution_count": 4,
   "id": "8qnIjuScXcrS",
   "metadata": {
    "executionInfo": {
     "elapsed": 616,
     "status": "ok",
     "timestamp": 1695630414376,
     "user": {
      "displayName": "rory lee",
      "userId": "07120846070559746515"
     },
     "user_tz": -480
    },
    "id": "8qnIjuScXcrS"
   },
   "outputs": [],
   "source": [
    "from seq2seq_ae import create_seq2seq_ae_v1,  create_seq2seq_ae_v2,  create_seq2seq_ae_v3"
   ]
  },
  {
   "cell_type": "code",
   "execution_count": 5,
   "id": "28960007-524b-45f5-a254-01ef6ce9b7e9",
   "metadata": {},
   "outputs": [],
   "source": [
    "import AnomalyDetector as AD"
   ]
  },
  {
   "cell_type": "code",
   "execution_count": 6,
   "id": "533b8548-937f-46f6-b860-754604319ba8",
   "metadata": {},
   "outputs": [],
   "source": [
    "from AnomalyDetector import BatData, AutoencoderTrainer, AnomalyDetector"
   ]
  },
  {
   "cell_type": "code",
   "execution_count": 7,
   "id": "jSdcgUV5cLTe",
   "metadata": {
    "colab": {
     "base_uri": "https://localhost:8080/"
    },
    "executionInfo": {
     "elapsed": 629,
     "status": "ok",
     "timestamp": 1695630411095,
     "user": {
      "displayName": "rory lee",
      "userId": "07120846070559746515"
     },
     "user_tz": -480
    },
    "id": "jSdcgUV5cLTe",
    "outputId": "d7aca34d-97f0-4e34-ccc5-271303c72530"
   },
   "outputs": [
    {
     "data": {
      "text/plain": [
       "<module 'AnomalyDetector' from '/mnt/d/sandbox/optimal_rul/data_analysis/p3_anomaly_detection/ex11/../AnomalyDetector.py'>"
      ]
     },
     "execution_count": 7,
     "metadata": {},
     "output_type": "execute_result"
    }
   ],
   "source": [
    "importlib.reload(AD)"
   ]
  },
  {
   "cell_type": "code",
   "execution_count": 8,
   "id": "dzVEYbyL_Jc0",
   "metadata": {
    "executionInfo": {
     "elapsed": 8638,
     "status": "ok",
     "timestamp": 1695630120719,
     "user": {
      "displayName": "rory lee",
      "userId": "07120846070559746515"
     },
     "user_tz": -480
    },
    "id": "dzVEYbyL_Jc0"
   },
   "outputs": [],
   "source": [
    "eol = np.load(gen_path + 'eol_21_120.npy')\n",
    "cycle_data = np.load(gen_path + 'interpolated_cycle_data_21_120.npy')"
   ]
  },
  {
   "cell_type": "code",
   "execution_count": 9,
   "id": "f0429b57",
   "metadata": {
    "colab": {
     "base_uri": "https://localhost:8080/"
    },
    "executionInfo": {
     "elapsed": 4,
     "status": "ok",
     "timestamp": 1695630127872,
     "user": {
      "displayName": "rory lee",
      "userId": "07120846070559746515"
     },
     "user_tz": -480
    },
    "id": "f0429b57",
    "outputId": "95c20aec-81cb-40dd-8ea4-26f220b417bc"
   },
   "outputs": [
    {
     "name": "stdout",
     "output_type": "stream",
     "text": [
      "RUL_repeated shape: (124, 100)\n",
      "eol shape: (124, 100)\n",
      "cycle_count shape: (124, 100)\n",
      "cycle_data shape: (124, 100, 8, 1000)\n"
     ]
    }
   ],
   "source": [
    "cycle_count = np.arange(1, cycle_data.shape[1]+1)\n",
    "\n",
    "num_cells = eol.shape[0]\n",
    "num_cycles = cycle_count.shape[0]\n",
    "\n",
    "# Repeat the EOL values for each cycle in the cycle_count array\n",
    "eol_repeated = np.tile(eol, (1, num_cycles))\n",
    "\n",
    "# Repeat the cycle_count values for each cell in the cycle_count array\n",
    "cycle_count_repeated = np.tile(cycle_count, (num_cells, 1))\n",
    "\n",
    "RUL_repeated = eol_repeated - cycle_count_repeated\n",
    "\n",
    "print(\"RUL_repeated shape:\", RUL_repeated.shape)\n",
    "print(\"eol shape:\", eol_repeated.shape)\n",
    "print(\"cycle_count shape:\", cycle_count_repeated.shape)\n",
    "print(\"cycle_data shape:\", cycle_data.shape)"
   ]
  },
  {
   "cell_type": "code",
   "execution_count": 10,
   "id": "e6abf217-6646-461e-b530-436af423819c",
   "metadata": {},
   "outputs": [],
   "source": [
    "import tensorflow as tf\n",
    "def mape(y_true, y_pred):\n",
    "    epsilon = 1e-9  # Adding a small constant to avoid division by zero\n",
    "    error = (y_true - y_pred) / (tf.abs(y_true) + epsilon)\n",
    "    return 100.0 * tf.reduce_mean(tf.abs(error))\n",
    "\n",
    "def rmse(y_true, y_pred):\n",
    "    return tf.sqrt(tf.reduce_mean(tf.square(y_true - y_pred)))\n"
   ]
  },
  {
   "cell_type": "code",
   "execution_count": 11,
   "id": "b92c730a-ead3-458f-a5a4-7b5a4797ff04",
   "metadata": {},
   "outputs": [],
   "source": [
    "batdata = BatData(np.transpose(cycle_data, (0, 1, 3, 2)))"
   ]
  },
  {
   "cell_type": "code",
   "execution_count": 12,
   "id": "084a9aa4",
   "metadata": {},
   "outputs": [
    {
     "data": {
      "text/plain": [
       "(124, 100, 1000, 8)"
      ]
     },
     "execution_count": 12,
     "metadata": {},
     "output_type": "execute_result"
    }
   ],
   "source": [
    "batdata.get_shape()"
   ]
  },
  {
   "cell_type": "code",
   "execution_count": 13,
   "id": "2b7de751-0afe-4446-90b6-47e78a4ab469",
   "metadata": {},
   "outputs": [
    {
     "name": "stdout",
     "output_type": "stream",
     "text": [
      "(None, 1000, 8)\n"
     ]
    },
    {
     "name": "stderr",
     "output_type": "stream",
     "text": [
      "2025-03-06 00:02:21.676735: I external/local_xla/xla/stream_executor/cuda/cuda_executor.cc:984] could not open file to read NUMA node: /sys/bus/pci/devices/0000:01:00.0/numa_node\n",
      "Your kernel may have been built without NUMA support.\n",
      "2025-03-06 00:02:21.676881: I external/local_xla/xla/stream_executor/cuda/cuda_executor.cc:984] could not open file to read NUMA node: /sys/bus/pci/devices/0000:03:00.0/numa_node\n",
      "Your kernel may have been built without NUMA support.\n",
      "2025-03-06 00:02:21.676946: I external/local_xla/xla/stream_executor/cuda/cuda_executor.cc:984] could not open file to read NUMA node: /sys/bus/pci/devices/0000:01:00.0/numa_node\n",
      "Your kernel may have been built without NUMA support.\n",
      "2025-03-06 00:02:21.676979: I external/local_xla/xla/stream_executor/cuda/cuda_executor.cc:984] could not open file to read NUMA node: /sys/bus/pci/devices/0000:03:00.0/numa_node\n",
      "Your kernel may have been built without NUMA support.\n",
      "2025-03-06 00:02:21.677002: I external/local_xla/xla/stream_executor/cuda/cuda_executor.cc:984] could not open file to read NUMA node: /sys/bus/pci/devices/0000:01:00.0/numa_node\n",
      "Your kernel may have been built without NUMA support.\n",
      "2025-03-06 00:02:21.677024: I external/local_xla/xla/stream_executor/cuda/cuda_executor.cc:984] could not open file to read NUMA node: /sys/bus/pci/devices/0000:03:00.0/numa_node\n",
      "Your kernel may have been built without NUMA support.\n",
      "2025-03-06 00:02:21.688552: I external/local_xla/xla/stream_executor/cuda/cuda_executor.cc:984] could not open file to read NUMA node: /sys/bus/pci/devices/0000:01:00.0/numa_node\n",
      "Your kernel may have been built without NUMA support.\n",
      "2025-03-06 00:02:21.688735: I external/local_xla/xla/stream_executor/cuda/cuda_executor.cc:984] could not open file to read NUMA node: /sys/bus/pci/devices/0000:03:00.0/numa_node\n",
      "Your kernel may have been built without NUMA support.\n",
      "2025-03-06 00:02:21.688823: I external/local_xla/xla/stream_executor/cuda/cuda_executor.cc:984] could not open file to read NUMA node: /sys/bus/pci/devices/0000:01:00.0/numa_node\n",
      "Your kernel may have been built without NUMA support.\n",
      "2025-03-06 00:02:21.688834: I tensorflow/core/common_runtime/gpu/gpu_device.cc:2019] Could not identify NUMA node of platform GPU id 0, defaulting to 0.  Your kernel may not have been built with NUMA support.\n",
      "2025-03-06 00:02:21.688866: I external/local_xla/xla/stream_executor/cuda/cuda_executor.cc:984] could not open file to read NUMA node: /sys/bus/pci/devices/0000:03:00.0/numa_node\n",
      "Your kernel may have been built without NUMA support.\n",
      "2025-03-06 00:02:21.688870: I tensorflow/core/common_runtime/gpu/gpu_device.cc:2019] Could not identify NUMA node of platform GPU id 1, defaulting to 0.  Your kernel may not have been built with NUMA support.\n",
      "2025-03-06 00:02:21.688919: I external/local_xla/xla/stream_executor/cuda/cuda_executor.cc:984] could not open file to read NUMA node: /sys/bus/pci/devices/0000:01:00.0/numa_node\n",
      "Your kernel may have been built without NUMA support.\n",
      "2025-03-06 00:02:21.688942: I tensorflow/core/common_runtime/gpu/gpu_device.cc:1928] Created device /job:localhost/replica:0/task:0/device:GPU:0 with 21458 MB memory:  -> device: 0, name: NVIDIA GeForce RTX 4090, pci bus id: 0000:01:00.0, compute capability: 8.9\n",
      "2025-03-06 00:02:21.689495: I external/local_xla/xla/stream_executor/cuda/cuda_executor.cc:984] could not open file to read NUMA node: /sys/bus/pci/devices/0000:03:00.0/numa_node\n",
      "Your kernel may have been built without NUMA support.\n",
      "2025-03-06 00:02:21.689518: I tensorflow/core/common_runtime/gpu/gpu_device.cc:1928] Created device /job:localhost/replica:0/task:0/device:GPU:1 with 21458 MB memory:  -> device: 1, name: NVIDIA GeForce RTX 4090, pci bus id: 0000:03:00.0, compute capability: 8.9\n"
     ]
    },
    {
     "name": "stdout",
     "output_type": "stream",
     "text": [
      "(None, 1000, 8)\n"
     ]
    }
   ],
   "source": [
    "seq2seq_ae_v1_model, cae_v1_encoder = create_seq2seq_ae_v1(1000, 8)\n"
   ]
  },
  {
   "cell_type": "code",
   "execution_count": 14,
   "id": "0390d677",
   "metadata": {},
   "outputs": [],
   "source": [
    "seq2seq_ae_v1 = AutoencoderTrainer(base_dir, 'create_seq2seq_ae_v1_t2', batdata, seq2seq_ae_v1_model)"
   ]
  },
  {
   "cell_type": "code",
   "execution_count": 15,
   "id": "9337ab3f",
   "metadata": {},
   "outputs": [
    {
     "name": "stderr",
     "output_type": "stream",
     "text": [
      "  0%|          | 0/300 [00:00<?, ?epoch/s]2025-02-24 00:09:45.608476: I external/local_xla/xla/stream_executor/cuda/cuda_dnn.cc:465] Loaded cuDNN version 8907\n",
      " 39%|███▊      | 116/300 [26:22<41:50, 13.64s/epoch, loss=0.524, mae=0.494, mape=552, rmse=0.724]   \n"
     ]
    }
   ],
   "source": [
    "\n",
    "seq2seq_ae_v1.train(learning_rate = 0.001, batch_size=128, max_epoch=300, no_patience=20)"
   ]
  },
  {
   "cell_type": "code",
   "execution_count": 38,
   "id": "750a95f4",
   "metadata": {},
   "outputs": [
    {
     "name": "stdout",
     "output_type": "stream",
     "text": [
      "\u001b[1m388/388\u001b[0m \u001b[32m━━━━━━━━━━━━━━━━━━━━\u001b[0m\u001b[37m\u001b[0m \u001b[1m18s\u001b[0m 46ms/step\n",
      "Prediction time: 18.836268186569214 seconds\n"
     ]
    }
   ],
   "source": [
    "seq2seq_ae_v1_average_error_metrics_by_cells = seq2seq_ae_v1.evaluate()"
   ]
  },
  {
   "cell_type": "code",
   "execution_count": null,
   "id": "1fd5ae5e",
   "metadata": {},
   "outputs": [],
   "source": [
    "anomaly_detector_seq2seq_ae_v1= AnomalyDetector()\n",
    "anomalies_seq2seq_ae_v1, metric_errors_seq2seq_ae_v1 = anomaly_detector_seq2seq_ae_v1.detect_anomalies(seq2seq_ae_v1_average_error_metrics_by_cells, \n",
    "                                                                                             metric='mse', \n",
    "                                                                                             threshold_function=AD.threshold_percentile,\n",
    "                                                                                             threshold_value=80)\n",
    "print(anomalies_seq2seq_ae_v1)\n",
    "anomaly_detector_seq2seq_ae_v1.visual(seq2seq_ae_v1_average_error_metrics_by_cells, anomalies_seq2seq_ae_v1)"
   ]
  },
  {
   "cell_type": "code",
   "execution_count": null,
   "id": "b9914e8c-fdc2-4c46-8fdc-6c1bf888cfbb",
   "metadata": {},
   "outputs": [],
   "source": []
  },
  {
   "cell_type": "code",
   "execution_count": 16,
   "id": "61ec0e6d-43d2-43a6-9d5b-baa747f0d891",
   "metadata": {},
   "outputs": [],
   "source": [
    "seq2seq_ae_v2_model, cae_v2_encoder = create_seq2seq_ae_v2(1000, 8)"
   ]
  },
  {
   "cell_type": "code",
   "execution_count": 22,
   "id": "ab7baa78",
   "metadata": {},
   "outputs": [],
   "source": [
    "seq2seq_ae_v2 = AutoencoderTrainer(base_dir, 'create_seq2seq_ae_v2_t2', batdata, seq2seq_ae_v2_model)"
   ]
  },
  {
   "cell_type": "code",
   "execution_count": 19,
   "id": "2682234f-e284-4ca9-81fa-09e96e680161",
   "metadata": {},
   "outputs": [
    {
     "name": "stderr",
     "output_type": "stream",
     "text": [
      "100%|██████████| 300/300 [1:10:02<00:00, 14.01s/epoch, loss=0.176, mae=0.225, mape=193, rmse=0.42]\n"
     ]
    }
   ],
   "source": [
    "\n",
    "seq2seq_ae_v2.train(learning_rate = 0.001, batch_size=128, max_epoch=300, no_patience=20)\n"
   ]
  },
  {
   "cell_type": "code",
   "execution_count": 36,
   "id": "619b90b0",
   "metadata": {},
   "outputs": [
    {
     "name": "stdout",
     "output_type": "stream",
     "text": [
      "\u001b[1m388/388\u001b[0m \u001b[32m━━━━━━━━━━━━━━━━━━━━\u001b[0m\u001b[37m\u001b[0m \u001b[1m22s\u001b[0m 55ms/step\n",
      "Prediction time: 22.94556188583374 seconds\n"
     ]
    }
   ],
   "source": [
    "seq2seq_ae_v2_average_error_metrics_by_cells = seq2seq_ae_v2.evaluate()"
   ]
  },
  {
   "cell_type": "code",
   "execution_count": null,
   "id": "4046fe91-a5e7-4936-b931-2c32338a1033",
   "metadata": {},
   "outputs": [],
   "source": [
    "\n",
    "anomaly_detector_seq2seq_ae_v2= AnomalyDetector()\n",
    "anomalies_seq2seq_ae_v2, metric_errors_seq2seq_ae_v2 = anomaly_detector_seq2seq_ae_v2.detect_anomalies(seq2seq_ae_v2_average_error_metrics_by_cells, \n",
    "                                                                                             metric='mse', \n",
    "                                                                                             threshold_function=AD.threshold_percentile,\n",
    "                                                                                             threshold_value=80)\n",
    "print(anomalies_seq2seq_ae_v2)\n",
    "anomaly_detector_seq2seq_ae_v2.visual(seq2seq_ae_v2_average_error_metrics_by_cells, anomalies_seq2seq_ae_v2)\n"
   ]
  },
  {
   "cell_type": "code",
   "execution_count": null,
   "id": "f78f1c06",
   "metadata": {},
   "outputs": [],
   "source": []
  },
  {
   "cell_type": "code",
   "execution_count": 19,
   "id": "b7f575c2",
   "metadata": {},
   "outputs": [],
   "source": [
    "seq2seq_ae_v3_model, cae_v3_encoder = create_seq2seq_ae_v3(1000, 8)"
   ]
  },
  {
   "cell_type": "code",
   "execution_count": 30,
   "id": "d4272125",
   "metadata": {},
   "outputs": [],
   "source": [
    "seq2seq_ae_v3 = AutoencoderTrainer(base_dir, 'create_seq2seq_ae_v3_t2', batdata, seq2seq_ae_v3_model)"
   ]
  },
  {
   "cell_type": "code",
   "execution_count": 24,
   "id": "93928196",
   "metadata": {},
   "outputs": [
    {
     "name": "stderr",
     "output_type": "stream",
     "text": [
      "100%|██████████| 300/300 [1:12:32<00:00, 14.51s/epoch, loss=0.19, mae=0.252, mape=169, rmse=0.436] \n"
     ]
    }
   ],
   "source": [
    "seq2seq_ae_v3.train(learning_rate = 0.001, batch_size=128, max_epoch=300, no_patience=20)"
   ]
  },
  {
   "cell_type": "code",
   "execution_count": 33,
   "id": "81d4ef25",
   "metadata": {},
   "outputs": [
    {
     "name": "stdout",
     "output_type": "stream",
     "text": [
      "\u001b[1m388/388\u001b[0m \u001b[32m━━━━━━━━━━━━━━━━━━━━\u001b[0m\u001b[37m\u001b[0m \u001b[1m23s\u001b[0m 58ms/step\n",
      "Prediction time: 24.2904794216156 seconds\n"
     ]
    }
   ],
   "source": [
    "seq2seq_ae_v3_average_error_metrics_by_cells = seq2seq_ae_v3.evaluate()"
   ]
  },
  {
   "cell_type": "code",
   "execution_count": null,
   "id": "1d3d1d65",
   "metadata": {},
   "outputs": [],
   "source": [
    "\n",
    "anomaly_detector_seq2seq_ae_v3= AnomalyDetector()\n",
    "anomalies_seq2seq_ae_v3, metric_errors_seq2seq_ae_v3 = anomaly_detector_seq2seq_ae_v3.detect_anomalies(seq2seq_ae_v3_average_error_metrics_by_cells, \n",
    "                                                                                             metric='mse', \n",
    "                                                                                             threshold_function=AD.threshold_percentile,\n",
    "                                                                                             threshold_value=80)\n",
    "print(anomalies_seq2seq_ae_v3)\n",
    "anomaly_detector_seq2seq_ae_v3.visual(seq2seq_ae_v3_average_error_metrics_by_cells, anomalies_seq2seq_ae_v3)"
   ]
  },
  {
   "cell_type": "code",
   "execution_count": null,
   "id": "e1230383",
   "metadata": {},
   "outputs": [],
   "source": []
  }
 ],
 "metadata": {
  "accelerator": "GPU",
  "colab": {
   "gpuType": "A100",
   "machine_shape": "hm",
   "provenance": []
  },
  "kernelspec": {
   "display_name": ".venv",
   "language": "python",
   "name": "python3"
  },
  "language_info": {
   "codemirror_mode": {
    "name": "ipython",
    "version": 3
   },
   "file_extension": ".py",
   "mimetype": "text/x-python",
   "name": "python",
   "nbconvert_exporter": "python",
   "pygments_lexer": "ipython3",
   "version": "3.10.12"
  }
 },
 "nbformat": 4,
 "nbformat_minor": 5
}
